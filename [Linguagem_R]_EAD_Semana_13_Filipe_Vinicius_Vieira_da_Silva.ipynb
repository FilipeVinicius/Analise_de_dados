{
  "nbformat": 4,
  "nbformat_minor": 0,
  "metadata": {
    "colab": {
      "provenance": [],
      "authorship_tag": "ABX9TyMcP3p5IO0Qb1PtA5RrJO+0",
      "include_colab_link": true
    },
    "kernelspec": {
      "name": "ir",
      "display_name": "R"
    },
    "language_info": {
      "name": "R"
    }
  },
  "cells": [
    {
      "cell_type": "markdown",
      "metadata": {
        "id": "view-in-github",
        "colab_type": "text"
      },
      "source": [
        "<a href=\"https://colab.research.google.com/github/FilipeVinicius/Analise_de_dados/blob/main/%5BLinguagem_R%5D_EAD_Semana_13_Filipe_Vinicius_Vieira_da_Silva.ipynb\" target=\"_parent\"><img src=\"https://colab.research.google.com/assets/colab-badge.svg\" alt=\"Open In Colab\"/></a>"
      ]
    },
    {
      "cell_type": "markdown",
      "source": [
        "0. Utilizando a linguagem de programação R e a função de leitura de dados aprendida em\n",
        "aula, carregue o conjunto de dados do Titanic em um dataframe chamado df.  "
      ],
      "metadata": {
        "id": "Rgu5HcMwQdew"
      }
    },
    {
      "cell_type": "code",
      "execution_count": 1,
      "metadata": {
        "colab": {
          "base_uri": "https://localhost:8080/",
          "height": 2010
        },
        "id": "iWqNYqMeOos_",
        "outputId": "c185ff22-37d0-4607-94f4-45b6f7a38ed8"
      },
      "outputs": [
        {
          "output_type": "display_data",
          "data": {
            "text/html": [
              "<table class=\"dataframe\">\n",
              "<caption>A data.frame: 1309 × 13</caption>\n",
              "<thead>\n",
              "\t<tr><th scope=col>X</th><th scope=col>PassengerId</th><th scope=col>Survived</th><th scope=col>Pclass</th><th scope=col>Name</th><th scope=col>Sex</th><th scope=col>Age</th><th scope=col>SibSp</th><th scope=col>Parch</th><th scope=col>Ticket</th><th scope=col>Fare</th><th scope=col>Cabin</th><th scope=col>Embarked</th></tr>\n",
              "\t<tr><th scope=col>&lt;int&gt;</th><th scope=col>&lt;int&gt;</th><th scope=col>&lt;int&gt;</th><th scope=col>&lt;int&gt;</th><th scope=col>&lt;chr&gt;</th><th scope=col>&lt;chr&gt;</th><th scope=col>&lt;dbl&gt;</th><th scope=col>&lt;int&gt;</th><th scope=col>&lt;int&gt;</th><th scope=col>&lt;chr&gt;</th><th scope=col>&lt;dbl&gt;</th><th scope=col>&lt;chr&gt;</th><th scope=col>&lt;chr&gt;</th></tr>\n",
              "</thead>\n",
              "<tbody>\n",
              "\t<tr><td> 1</td><td> 1</td><td>0</td><td>3</td><td>Braund, Mr. Owen Harris                                  </td><td>male  </td><td>22</td><td>1</td><td>0</td><td>A/5 21171       </td><td>  7.2500</td><td>           </td><td>S</td></tr>\n",
              "\t<tr><td> 2</td><td> 2</td><td>1</td><td>1</td><td>Cumings, Mrs. John Bradley (Florence Briggs Thayer)      </td><td>female</td><td>38</td><td>1</td><td>0</td><td>PC 17599        </td><td> 71.2833</td><td>C85        </td><td>C</td></tr>\n",
              "\t<tr><td> 3</td><td> 3</td><td>1</td><td>3</td><td>Heikkinen, Miss. Laina                                   </td><td>female</td><td>26</td><td>0</td><td>0</td><td>STON/O2. 3101282</td><td>  7.9250</td><td>           </td><td>S</td></tr>\n",
              "\t<tr><td> 4</td><td> 4</td><td>1</td><td>1</td><td>Futrelle, Mrs. Jacques Heath (Lily May Peel)             </td><td>female</td><td>35</td><td>1</td><td>0</td><td>113803          </td><td> 53.1000</td><td>C123       </td><td>S</td></tr>\n",
              "\t<tr><td> 5</td><td> 5</td><td>0</td><td>3</td><td>Allen, Mr. William Henry                                 </td><td>male  </td><td>35</td><td>0</td><td>0</td><td>373450          </td><td>  8.0500</td><td>           </td><td>S</td></tr>\n",
              "\t<tr><td> 6</td><td> 6</td><td>0</td><td>3</td><td>Moran, Mr. James                                         </td><td>male  </td><td>NA</td><td>0</td><td>0</td><td>330877          </td><td>  8.4583</td><td>           </td><td>Q</td></tr>\n",
              "\t<tr><td> 7</td><td> 7</td><td>0</td><td>1</td><td>McCarthy, Mr. Timothy J                                  </td><td>male  </td><td>54</td><td>0</td><td>0</td><td>17463           </td><td> 51.8625</td><td>E46        </td><td>S</td></tr>\n",
              "\t<tr><td> 8</td><td> 8</td><td>0</td><td>3</td><td>Palsson, Master. Gosta Leonard                           </td><td>male  </td><td> 2</td><td>3</td><td>1</td><td>349909          </td><td> 21.0750</td><td>           </td><td>S</td></tr>\n",
              "\t<tr><td> 9</td><td> 9</td><td>1</td><td>3</td><td>Johnson, Mrs. Oscar W (Elisabeth Vilhelmina Berg)        </td><td>female</td><td>27</td><td>0</td><td>2</td><td>347742          </td><td> 11.1333</td><td>           </td><td>S</td></tr>\n",
              "\t<tr><td>10</td><td>10</td><td>1</td><td>2</td><td>Nasser, Mrs. Nicholas (Adele Achem)                      </td><td>female</td><td>14</td><td>1</td><td>0</td><td>237736          </td><td> 30.0708</td><td>           </td><td>C</td></tr>\n",
              "\t<tr><td>11</td><td>11</td><td>1</td><td>3</td><td>Sandstrom, Miss. Marguerite Rut                          </td><td>female</td><td> 4</td><td>1</td><td>1</td><td>PP 9549         </td><td> 16.7000</td><td>G6         </td><td>S</td></tr>\n",
              "\t<tr><td>12</td><td>12</td><td>1</td><td>1</td><td>Bonnell, Miss. Elizabeth                                 </td><td>female</td><td>58</td><td>0</td><td>0</td><td>113783          </td><td> 26.5500</td><td>C103       </td><td>S</td></tr>\n",
              "\t<tr><td>13</td><td>13</td><td>0</td><td>3</td><td>Saundercock, Mr. William Henry                           </td><td>male  </td><td>20</td><td>0</td><td>0</td><td>A/5. 2151       </td><td>  8.0500</td><td>           </td><td>S</td></tr>\n",
              "\t<tr><td>14</td><td>14</td><td>0</td><td>3</td><td>Andersson, Mr. Anders Johan                              </td><td>male  </td><td>39</td><td>1</td><td>5</td><td>347082          </td><td> 31.2750</td><td>           </td><td>S</td></tr>\n",
              "\t<tr><td>15</td><td>15</td><td>0</td><td>3</td><td>Vestrom, Miss. Hulda Amanda Adolfina                     </td><td>female</td><td>14</td><td>0</td><td>0</td><td>350406          </td><td>  7.8542</td><td>           </td><td>S</td></tr>\n",
              "\t<tr><td>16</td><td>16</td><td>1</td><td>2</td><td>Hewlett, Mrs. (Mary D Kingcome)                          </td><td>female</td><td>55</td><td>0</td><td>0</td><td>248706          </td><td> 16.0000</td><td>           </td><td>S</td></tr>\n",
              "\t<tr><td>17</td><td>17</td><td>0</td><td>3</td><td>Rice, Master. Eugene                                     </td><td>male  </td><td> 2</td><td>4</td><td>1</td><td>382652          </td><td> 29.1250</td><td>           </td><td>Q</td></tr>\n",
              "\t<tr><td>18</td><td>18</td><td>1</td><td>2</td><td>Williams, Mr. Charles Eugene                             </td><td>male  </td><td>NA</td><td>0</td><td>0</td><td>244373          </td><td> 13.0000</td><td>           </td><td>S</td></tr>\n",
              "\t<tr><td>19</td><td>19</td><td>0</td><td>3</td><td>Vander Planke, Mrs. Julius (Emelia Maria Vandemoortele)  </td><td>female</td><td>31</td><td>1</td><td>0</td><td>345763          </td><td> 18.0000</td><td>           </td><td>S</td></tr>\n",
              "\t<tr><td>20</td><td>20</td><td>1</td><td>3</td><td>Masselmani, Mrs. Fatima                                  </td><td>female</td><td>NA</td><td>0</td><td>0</td><td>2649            </td><td>  7.2250</td><td>           </td><td>C</td></tr>\n",
              "\t<tr><td>21</td><td>21</td><td>0</td><td>2</td><td>Fynney, Mr. Joseph J                                     </td><td>male  </td><td>35</td><td>0</td><td>0</td><td>239865          </td><td> 26.0000</td><td>           </td><td>S</td></tr>\n",
              "\t<tr><td>22</td><td>22</td><td>1</td><td>2</td><td>Beesley, Mr. Lawrence                                    </td><td>male  </td><td>34</td><td>0</td><td>0</td><td>248698          </td><td> 13.0000</td><td>D56        </td><td>S</td></tr>\n",
              "\t<tr><td>23</td><td>23</td><td>1</td><td>3</td><td>McGowan, Miss. Anna \"Annie\"                              </td><td>female</td><td>15</td><td>0</td><td>0</td><td>330923          </td><td>  8.0292</td><td>           </td><td>Q</td></tr>\n",
              "\t<tr><td>24</td><td>24</td><td>1</td><td>1</td><td>Sloper, Mr. William Thompson                             </td><td>male  </td><td>28</td><td>0</td><td>0</td><td>113788          </td><td> 35.5000</td><td>A6         </td><td>S</td></tr>\n",
              "\t<tr><td>25</td><td>25</td><td>0</td><td>3</td><td>Palsson, Miss. Torborg Danira                            </td><td>female</td><td> 8</td><td>3</td><td>1</td><td>349909          </td><td> 21.0750</td><td>           </td><td>S</td></tr>\n",
              "\t<tr><td>26</td><td>26</td><td>1</td><td>3</td><td>Asplund, Mrs. Carl Oscar (Selma Augusta Emilia Johansson)</td><td>female</td><td>38</td><td>1</td><td>5</td><td>347077          </td><td> 31.3875</td><td>           </td><td>S</td></tr>\n",
              "\t<tr><td>27</td><td>27</td><td>0</td><td>3</td><td>Emir, Mr. Farred Chehab                                  </td><td>male  </td><td>NA</td><td>0</td><td>0</td><td>2631            </td><td>  7.2250</td><td>           </td><td>C</td></tr>\n",
              "\t<tr><td>28</td><td>28</td><td>0</td><td>1</td><td>Fortune, Mr. Charles Alexander                           </td><td>male  </td><td>19</td><td>3</td><td>2</td><td>19950           </td><td>263.0000</td><td>C23 C25 C27</td><td>S</td></tr>\n",
              "\t<tr><td>29</td><td>29</td><td>1</td><td>3</td><td>O'Dwyer, Miss. Ellen \"Nellie\"                            </td><td>female</td><td>NA</td><td>0</td><td>0</td><td>330959          </td><td>  7.8792</td><td>           </td><td>Q</td></tr>\n",
              "\t<tr><td>30</td><td>30</td><td>0</td><td>3</td><td>Todoroff, Mr. Lalio                                      </td><td>male  </td><td>NA</td><td>0</td><td>0</td><td>349216          </td><td>  7.8958</td><td>           </td><td>S</td></tr>\n",
              "\t<tr><td>⋮</td><td>⋮</td><td>⋮</td><td>⋮</td><td>⋮</td><td>⋮</td><td>⋮</td><td>⋮</td><td>⋮</td><td>⋮</td><td>⋮</td><td>⋮</td><td>⋮</td></tr>\n",
              "\t<tr><td>1280</td><td>1280</td><td>NA</td><td>3</td><td>Canavan, Mr. Patrick                                           </td><td>male  </td><td>21.0</td><td>0</td><td>0</td><td>364858            </td><td>  7.7500</td><td>    </td><td>Q</td></tr>\n",
              "\t<tr><td>1281</td><td>1281</td><td>NA</td><td>3</td><td>Palsson, Master. Paul Folke                                    </td><td>male  </td><td> 6.0</td><td>3</td><td>1</td><td>349909            </td><td> 21.0750</td><td>    </td><td>S</td></tr>\n",
              "\t<tr><td>1282</td><td>1282</td><td>NA</td><td>1</td><td>Payne, Mr. Vivian Ponsonby                                     </td><td>male  </td><td>23.0</td><td>0</td><td>0</td><td>12749             </td><td> 93.5000</td><td>B24 </td><td>S</td></tr>\n",
              "\t<tr><td>1283</td><td>1283</td><td>NA</td><td>1</td><td>Lines, Mrs. Ernest H (Elizabeth Lindsey James)                 </td><td>female</td><td>51.0</td><td>0</td><td>1</td><td>PC 17592          </td><td> 39.4000</td><td>D28 </td><td>S</td></tr>\n",
              "\t<tr><td>1284</td><td>1284</td><td>NA</td><td>3</td><td>Abbott, Master. Eugene Joseph                                  </td><td>male  </td><td>13.0</td><td>0</td><td>2</td><td>C.A. 2673         </td><td> 20.2500</td><td>    </td><td>S</td></tr>\n",
              "\t<tr><td>1285</td><td>1285</td><td>NA</td><td>2</td><td>Gilbert, Mr. William                                           </td><td>male  </td><td>47.0</td><td>0</td><td>0</td><td>C.A. 30769        </td><td> 10.5000</td><td>    </td><td>S</td></tr>\n",
              "\t<tr><td>1286</td><td>1286</td><td>NA</td><td>3</td><td>Kink-Heilmann, Mr. Anton                                       </td><td>male  </td><td>29.0</td><td>3</td><td>1</td><td>315153            </td><td> 22.0250</td><td>    </td><td>S</td></tr>\n",
              "\t<tr><td>1287</td><td>1287</td><td>NA</td><td>1</td><td>Smith, Mrs. Lucien Philip (Mary Eloise Hughes)                 </td><td>female</td><td>18.0</td><td>1</td><td>0</td><td>13695             </td><td> 60.0000</td><td>C31 </td><td>S</td></tr>\n",
              "\t<tr><td>1288</td><td>1288</td><td>NA</td><td>3</td><td>Colbert, Mr. Patrick                                           </td><td>male  </td><td>24.0</td><td>0</td><td>0</td><td>371109            </td><td>  7.2500</td><td>    </td><td>Q</td></tr>\n",
              "\t<tr><td>1289</td><td>1289</td><td>NA</td><td>1</td><td>Frolicher-Stehli, Mrs. Maxmillian (Margaretha Emerentia Stehli)</td><td>female</td><td>48.0</td><td>1</td><td>1</td><td>13567             </td><td> 79.2000</td><td>B41 </td><td>C</td></tr>\n",
              "\t<tr><td>1290</td><td>1290</td><td>NA</td><td>3</td><td>Larsson-Rondberg, Mr. Edvard A                                 </td><td>male  </td><td>22.0</td><td>0</td><td>0</td><td>347065            </td><td>  7.7750</td><td>    </td><td>S</td></tr>\n",
              "\t<tr><td>1291</td><td>1291</td><td>NA</td><td>3</td><td>Conlon, Mr. Thomas Henry                                       </td><td>male  </td><td>31.0</td><td>0</td><td>0</td><td>21332             </td><td>  7.7333</td><td>    </td><td>Q</td></tr>\n",
              "\t<tr><td>1292</td><td>1292</td><td>NA</td><td>1</td><td>Bonnell, Miss. Caroline                                        </td><td>female</td><td>30.0</td><td>0</td><td>0</td><td>36928             </td><td>164.8667</td><td>C7  </td><td>S</td></tr>\n",
              "\t<tr><td>1293</td><td>1293</td><td>NA</td><td>2</td><td>Gale, Mr. Harry                                                </td><td>male  </td><td>38.0</td><td>1</td><td>0</td><td>28664             </td><td> 21.0000</td><td>    </td><td>S</td></tr>\n",
              "\t<tr><td>1294</td><td>1294</td><td>NA</td><td>1</td><td>Gibson, Miss. Dorothy Winifred                                 </td><td>female</td><td>22.0</td><td>0</td><td>1</td><td>112378            </td><td> 59.4000</td><td>    </td><td>C</td></tr>\n",
              "\t<tr><td>1295</td><td>1295</td><td>NA</td><td>1</td><td>Carrau, Mr. Jose Pedro                                         </td><td>male  </td><td>17.0</td><td>0</td><td>0</td><td>113059            </td><td> 47.1000</td><td>    </td><td>S</td></tr>\n",
              "\t<tr><td>1296</td><td>1296</td><td>NA</td><td>1</td><td>Frauenthal, Mr. Isaac Gerald                                   </td><td>male  </td><td>43.0</td><td>1</td><td>0</td><td>17765             </td><td> 27.7208</td><td>D40 </td><td>C</td></tr>\n",
              "\t<tr><td>1297</td><td>1297</td><td>NA</td><td>2</td><td>Nourney, Mr. Alfred (Baron von Drachstedt\")\"                   </td><td>male  </td><td>20.0</td><td>0</td><td>0</td><td>SC/PARIS 2166     </td><td> 13.8625</td><td>D38 </td><td>C</td></tr>\n",
              "\t<tr><td>1298</td><td>1298</td><td>NA</td><td>2</td><td>Ware, Mr. William Jeffery                                      </td><td>male  </td><td>23.0</td><td>1</td><td>0</td><td>28666             </td><td> 10.5000</td><td>    </td><td>S</td></tr>\n",
              "\t<tr><td>1299</td><td>1299</td><td>NA</td><td>1</td><td>Widener, Mr. George Dunton                                     </td><td>male  </td><td>50.0</td><td>1</td><td>1</td><td>113503            </td><td>211.5000</td><td>C80 </td><td>C</td></tr>\n",
              "\t<tr><td>1300</td><td>1300</td><td>NA</td><td>3</td><td>Riordan, Miss. Johanna Hannah\"\"                                </td><td>female</td><td>  NA</td><td>0</td><td>0</td><td>334915            </td><td>  7.7208</td><td>    </td><td>Q</td></tr>\n",
              "\t<tr><td>1301</td><td>1301</td><td>NA</td><td>3</td><td>Peacock, Miss. Treasteall                                      </td><td>female</td><td> 3.0</td><td>1</td><td>1</td><td>SOTON/O.Q. 3101315</td><td> 13.7750</td><td>    </td><td>S</td></tr>\n",
              "\t<tr><td>1302</td><td>1302</td><td>NA</td><td>3</td><td>Naughton, Miss. Hannah                                         </td><td>female</td><td>  NA</td><td>0</td><td>0</td><td>365237            </td><td>  7.7500</td><td>    </td><td>Q</td></tr>\n",
              "\t<tr><td>1303</td><td>1303</td><td>NA</td><td>1</td><td>Minahan, Mrs. William Edward (Lillian E Thorpe)                </td><td>female</td><td>37.0</td><td>1</td><td>0</td><td>19928             </td><td> 90.0000</td><td>C78 </td><td>Q</td></tr>\n",
              "\t<tr><td>1304</td><td>1304</td><td>NA</td><td>3</td><td>Henriksson, Miss. Jenny Lovisa                                 </td><td>female</td><td>28.0</td><td>0</td><td>0</td><td>347086            </td><td>  7.7750</td><td>    </td><td>S</td></tr>\n",
              "\t<tr><td>1305</td><td>1305</td><td>NA</td><td>3</td><td>Spector, Mr. Woolf                                             </td><td>male  </td><td>  NA</td><td>0</td><td>0</td><td>A.5. 3236         </td><td>  8.0500</td><td>    </td><td>S</td></tr>\n",
              "\t<tr><td>1306</td><td>1306</td><td>NA</td><td>1</td><td>Oliva y Ocana, Dona. Fermina                                   </td><td>female</td><td>39.0</td><td>0</td><td>0</td><td>PC 17758          </td><td>108.9000</td><td>C105</td><td>C</td></tr>\n",
              "\t<tr><td>1307</td><td>1307</td><td>NA</td><td>3</td><td>Saether, Mr. Simon Sivertsen                                   </td><td>male  </td><td>38.5</td><td>0</td><td>0</td><td>SOTON/O.Q. 3101262</td><td>  7.2500</td><td>    </td><td>S</td></tr>\n",
              "\t<tr><td>1308</td><td>1308</td><td>NA</td><td>3</td><td>Ware, Mr. Frederick                                            </td><td>male  </td><td>  NA</td><td>0</td><td>0</td><td>359309            </td><td>  8.0500</td><td>    </td><td>S</td></tr>\n",
              "\t<tr><td>1309</td><td>1309</td><td>NA</td><td>3</td><td>Peter, Master. Michael J                                       </td><td>male  </td><td>  NA</td><td>1</td><td>1</td><td>2668              </td><td> 22.3583</td><td>    </td><td>C</td></tr>\n",
              "</tbody>\n",
              "</table>\n"
            ],
            "text/markdown": "\nA data.frame: 1309 × 13\n\n| X &lt;int&gt; | PassengerId &lt;int&gt; | Survived &lt;int&gt; | Pclass &lt;int&gt; | Name &lt;chr&gt; | Sex &lt;chr&gt; | Age &lt;dbl&gt; | SibSp &lt;int&gt; | Parch &lt;int&gt; | Ticket &lt;chr&gt; | Fare &lt;dbl&gt; | Cabin &lt;chr&gt; | Embarked &lt;chr&gt; |\n|---|---|---|---|---|---|---|---|---|---|---|---|---|\n|  1 |  1 | 0 | 3 | Braund, Mr. Owen Harris                                   | male   | 22 | 1 | 0 | A/5 21171        |   7.2500 | <!----> | S |\n|  2 |  2 | 1 | 1 | Cumings, Mrs. John Bradley (Florence Briggs Thayer)       | female | 38 | 1 | 0 | PC 17599         |  71.2833 | C85         | C |\n|  3 |  3 | 1 | 3 | Heikkinen, Miss. Laina                                    | female | 26 | 0 | 0 | STON/O2. 3101282 |   7.9250 | <!----> | S |\n|  4 |  4 | 1 | 1 | Futrelle, Mrs. Jacques Heath (Lily May Peel)              | female | 35 | 1 | 0 | 113803           |  53.1000 | C123        | S |\n|  5 |  5 | 0 | 3 | Allen, Mr. William Henry                                  | male   | 35 | 0 | 0 | 373450           |   8.0500 | <!----> | S |\n|  6 |  6 | 0 | 3 | Moran, Mr. James                                          | male   | NA | 0 | 0 | 330877           |   8.4583 | <!----> | Q |\n|  7 |  7 | 0 | 1 | McCarthy, Mr. Timothy J                                   | male   | 54 | 0 | 0 | 17463            |  51.8625 | E46         | S |\n|  8 |  8 | 0 | 3 | Palsson, Master. Gosta Leonard                            | male   |  2 | 3 | 1 | 349909           |  21.0750 | <!----> | S |\n|  9 |  9 | 1 | 3 | Johnson, Mrs. Oscar W (Elisabeth Vilhelmina Berg)         | female | 27 | 0 | 2 | 347742           |  11.1333 | <!----> | S |\n| 10 | 10 | 1 | 2 | Nasser, Mrs. Nicholas (Adele Achem)                       | female | 14 | 1 | 0 | 237736           |  30.0708 | <!----> | C |\n| 11 | 11 | 1 | 3 | Sandstrom, Miss. Marguerite Rut                           | female |  4 | 1 | 1 | PP 9549          |  16.7000 | G6          | S |\n| 12 | 12 | 1 | 1 | Bonnell, Miss. Elizabeth                                  | female | 58 | 0 | 0 | 113783           |  26.5500 | C103        | S |\n| 13 | 13 | 0 | 3 | Saundercock, Mr. William Henry                            | male   | 20 | 0 | 0 | A/5. 2151        |   8.0500 | <!----> | S |\n| 14 | 14 | 0 | 3 | Andersson, Mr. Anders Johan                               | male   | 39 | 1 | 5 | 347082           |  31.2750 | <!----> | S |\n| 15 | 15 | 0 | 3 | Vestrom, Miss. Hulda Amanda Adolfina                      | female | 14 | 0 | 0 | 350406           |   7.8542 | <!----> | S |\n| 16 | 16 | 1 | 2 | Hewlett, Mrs. (Mary D Kingcome)                           | female | 55 | 0 | 0 | 248706           |  16.0000 | <!----> | S |\n| 17 | 17 | 0 | 3 | Rice, Master. Eugene                                      | male   |  2 | 4 | 1 | 382652           |  29.1250 | <!----> | Q |\n| 18 | 18 | 1 | 2 | Williams, Mr. Charles Eugene                              | male   | NA | 0 | 0 | 244373           |  13.0000 | <!----> | S |\n| 19 | 19 | 0 | 3 | Vander Planke, Mrs. Julius (Emelia Maria Vandemoortele)   | female | 31 | 1 | 0 | 345763           |  18.0000 | <!----> | S |\n| 20 | 20 | 1 | 3 | Masselmani, Mrs. Fatima                                   | female | NA | 0 | 0 | 2649             |   7.2250 | <!----> | C |\n| 21 | 21 | 0 | 2 | Fynney, Mr. Joseph J                                      | male   | 35 | 0 | 0 | 239865           |  26.0000 | <!----> | S |\n| 22 | 22 | 1 | 2 | Beesley, Mr. Lawrence                                     | male   | 34 | 0 | 0 | 248698           |  13.0000 | D56         | S |\n| 23 | 23 | 1 | 3 | McGowan, Miss. Anna \"Annie\"                               | female | 15 | 0 | 0 | 330923           |   8.0292 | <!----> | Q |\n| 24 | 24 | 1 | 1 | Sloper, Mr. William Thompson                              | male   | 28 | 0 | 0 | 113788           |  35.5000 | A6          | S |\n| 25 | 25 | 0 | 3 | Palsson, Miss. Torborg Danira                             | female |  8 | 3 | 1 | 349909           |  21.0750 | <!----> | S |\n| 26 | 26 | 1 | 3 | Asplund, Mrs. Carl Oscar (Selma Augusta Emilia Johansson) | female | 38 | 1 | 5 | 347077           |  31.3875 | <!----> | S |\n| 27 | 27 | 0 | 3 | Emir, Mr. Farred Chehab                                   | male   | NA | 0 | 0 | 2631             |   7.2250 | <!----> | C |\n| 28 | 28 | 0 | 1 | Fortune, Mr. Charles Alexander                            | male   | 19 | 3 | 2 | 19950            | 263.0000 | C23 C25 C27 | S |\n| 29 | 29 | 1 | 3 | O'Dwyer, Miss. Ellen \"Nellie\"                             | female | NA | 0 | 0 | 330959           |   7.8792 | <!----> | Q |\n| 30 | 30 | 0 | 3 | Todoroff, Mr. Lalio                                       | male   | NA | 0 | 0 | 349216           |   7.8958 | <!----> | S |\n| ⋮ | ⋮ | ⋮ | ⋮ | ⋮ | ⋮ | ⋮ | ⋮ | ⋮ | ⋮ | ⋮ | ⋮ | ⋮ |\n| 1280 | 1280 | NA | 3 | Canavan, Mr. Patrick                                            | male   | 21.0 | 0 | 0 | 364858             |   7.7500 | <!----> | Q |\n| 1281 | 1281 | NA | 3 | Palsson, Master. Paul Folke                                     | male   |  6.0 | 3 | 1 | 349909             |  21.0750 | <!----> | S |\n| 1282 | 1282 | NA | 1 | Payne, Mr. Vivian Ponsonby                                      | male   | 23.0 | 0 | 0 | 12749              |  93.5000 | B24  | S |\n| 1283 | 1283 | NA | 1 | Lines, Mrs. Ernest H (Elizabeth Lindsey James)                  | female | 51.0 | 0 | 1 | PC 17592           |  39.4000 | D28  | S |\n| 1284 | 1284 | NA | 3 | Abbott, Master. Eugene Joseph                                   | male   | 13.0 | 0 | 2 | C.A. 2673          |  20.2500 | <!----> | S |\n| 1285 | 1285 | NA | 2 | Gilbert, Mr. William                                            | male   | 47.0 | 0 | 0 | C.A. 30769         |  10.5000 | <!----> | S |\n| 1286 | 1286 | NA | 3 | Kink-Heilmann, Mr. Anton                                        | male   | 29.0 | 3 | 1 | 315153             |  22.0250 | <!----> | S |\n| 1287 | 1287 | NA | 1 | Smith, Mrs. Lucien Philip (Mary Eloise Hughes)                  | female | 18.0 | 1 | 0 | 13695              |  60.0000 | C31  | S |\n| 1288 | 1288 | NA | 3 | Colbert, Mr. Patrick                                            | male   | 24.0 | 0 | 0 | 371109             |   7.2500 | <!----> | Q |\n| 1289 | 1289 | NA | 1 | Frolicher-Stehli, Mrs. Maxmillian (Margaretha Emerentia Stehli) | female | 48.0 | 1 | 1 | 13567              |  79.2000 | B41  | C |\n| 1290 | 1290 | NA | 3 | Larsson-Rondberg, Mr. Edvard A                                  | male   | 22.0 | 0 | 0 | 347065             |   7.7750 | <!----> | S |\n| 1291 | 1291 | NA | 3 | Conlon, Mr. Thomas Henry                                        | male   | 31.0 | 0 | 0 | 21332              |   7.7333 | <!----> | Q |\n| 1292 | 1292 | NA | 1 | Bonnell, Miss. Caroline                                         | female | 30.0 | 0 | 0 | 36928              | 164.8667 | C7   | S |\n| 1293 | 1293 | NA | 2 | Gale, Mr. Harry                                                 | male   | 38.0 | 1 | 0 | 28664              |  21.0000 | <!----> | S |\n| 1294 | 1294 | NA | 1 | Gibson, Miss. Dorothy Winifred                                  | female | 22.0 | 0 | 1 | 112378             |  59.4000 | <!----> | C |\n| 1295 | 1295 | NA | 1 | Carrau, Mr. Jose Pedro                                          | male   | 17.0 | 0 | 0 | 113059             |  47.1000 | <!----> | S |\n| 1296 | 1296 | NA | 1 | Frauenthal, Mr. Isaac Gerald                                    | male   | 43.0 | 1 | 0 | 17765              |  27.7208 | D40  | C |\n| 1297 | 1297 | NA | 2 | Nourney, Mr. Alfred (Baron von Drachstedt\")\"                    | male   | 20.0 | 0 | 0 | SC/PARIS 2166      |  13.8625 | D38  | C |\n| 1298 | 1298 | NA | 2 | Ware, Mr. William Jeffery                                       | male   | 23.0 | 1 | 0 | 28666              |  10.5000 | <!----> | S |\n| 1299 | 1299 | NA | 1 | Widener, Mr. George Dunton                                      | male   | 50.0 | 1 | 1 | 113503             | 211.5000 | C80  | C |\n| 1300 | 1300 | NA | 3 | Riordan, Miss. Johanna Hannah\"\"                                 | female |   NA | 0 | 0 | 334915             |   7.7208 | <!----> | Q |\n| 1301 | 1301 | NA | 3 | Peacock, Miss. Treasteall                                       | female |  3.0 | 1 | 1 | SOTON/O.Q. 3101315 |  13.7750 | <!----> | S |\n| 1302 | 1302 | NA | 3 | Naughton, Miss. Hannah                                          | female |   NA | 0 | 0 | 365237             |   7.7500 | <!----> | Q |\n| 1303 | 1303 | NA | 1 | Minahan, Mrs. William Edward (Lillian E Thorpe)                 | female | 37.0 | 1 | 0 | 19928              |  90.0000 | C78  | Q |\n| 1304 | 1304 | NA | 3 | Henriksson, Miss. Jenny Lovisa                                  | female | 28.0 | 0 | 0 | 347086             |   7.7750 | <!----> | S |\n| 1305 | 1305 | NA | 3 | Spector, Mr. Woolf                                              | male   |   NA | 0 | 0 | A.5. 3236          |   8.0500 | <!----> | S |\n| 1306 | 1306 | NA | 1 | Oliva y Ocana, Dona. Fermina                                    | female | 39.0 | 0 | 0 | PC 17758           | 108.9000 | C105 | C |\n| 1307 | 1307 | NA | 3 | Saether, Mr. Simon Sivertsen                                    | male   | 38.5 | 0 | 0 | SOTON/O.Q. 3101262 |   7.2500 | <!----> | S |\n| 1308 | 1308 | NA | 3 | Ware, Mr. Frederick                                             | male   |   NA | 0 | 0 | 359309             |   8.0500 | <!----> | S |\n| 1309 | 1309 | NA | 3 | Peter, Master. Michael J                                        | male   |   NA | 1 | 1 | 2668               |  22.3583 | <!----> | C |\n\n",
            "text/latex": "A data.frame: 1309 × 13\n\\begin{tabular}{lllllllllllll}\n X & PassengerId & Survived & Pclass & Name & Sex & Age & SibSp & Parch & Ticket & Fare & Cabin & Embarked\\\\\n <int> & <int> & <int> & <int> & <chr> & <chr> & <dbl> & <int> & <int> & <chr> & <dbl> & <chr> & <chr>\\\\\n\\hline\n\t  1 &  1 & 0 & 3 & Braund, Mr. Owen Harris                                   & male   & 22 & 1 & 0 & A/5 21171        &   7.2500 &             & S\\\\\n\t  2 &  2 & 1 & 1 & Cumings, Mrs. John Bradley (Florence Briggs Thayer)       & female & 38 & 1 & 0 & PC 17599         &  71.2833 & C85         & C\\\\\n\t  3 &  3 & 1 & 3 & Heikkinen, Miss. Laina                                    & female & 26 & 0 & 0 & STON/O2. 3101282 &   7.9250 &             & S\\\\\n\t  4 &  4 & 1 & 1 & Futrelle, Mrs. Jacques Heath (Lily May Peel)              & female & 35 & 1 & 0 & 113803           &  53.1000 & C123        & S\\\\\n\t  5 &  5 & 0 & 3 & Allen, Mr. William Henry                                  & male   & 35 & 0 & 0 & 373450           &   8.0500 &             & S\\\\\n\t  6 &  6 & 0 & 3 & Moran, Mr. James                                          & male   & NA & 0 & 0 & 330877           &   8.4583 &             & Q\\\\\n\t  7 &  7 & 0 & 1 & McCarthy, Mr. Timothy J                                   & male   & 54 & 0 & 0 & 17463            &  51.8625 & E46         & S\\\\\n\t  8 &  8 & 0 & 3 & Palsson, Master. Gosta Leonard                            & male   &  2 & 3 & 1 & 349909           &  21.0750 &             & S\\\\\n\t  9 &  9 & 1 & 3 & Johnson, Mrs. Oscar W (Elisabeth Vilhelmina Berg)         & female & 27 & 0 & 2 & 347742           &  11.1333 &             & S\\\\\n\t 10 & 10 & 1 & 2 & Nasser, Mrs. Nicholas (Adele Achem)                       & female & 14 & 1 & 0 & 237736           &  30.0708 &             & C\\\\\n\t 11 & 11 & 1 & 3 & Sandstrom, Miss. Marguerite Rut                           & female &  4 & 1 & 1 & PP 9549          &  16.7000 & G6          & S\\\\\n\t 12 & 12 & 1 & 1 & Bonnell, Miss. Elizabeth                                  & female & 58 & 0 & 0 & 113783           &  26.5500 & C103        & S\\\\\n\t 13 & 13 & 0 & 3 & Saundercock, Mr. William Henry                            & male   & 20 & 0 & 0 & A/5. 2151        &   8.0500 &             & S\\\\\n\t 14 & 14 & 0 & 3 & Andersson, Mr. Anders Johan                               & male   & 39 & 1 & 5 & 347082           &  31.2750 &             & S\\\\\n\t 15 & 15 & 0 & 3 & Vestrom, Miss. Hulda Amanda Adolfina                      & female & 14 & 0 & 0 & 350406           &   7.8542 &             & S\\\\\n\t 16 & 16 & 1 & 2 & Hewlett, Mrs. (Mary D Kingcome)                           & female & 55 & 0 & 0 & 248706           &  16.0000 &             & S\\\\\n\t 17 & 17 & 0 & 3 & Rice, Master. Eugene                                      & male   &  2 & 4 & 1 & 382652           &  29.1250 &             & Q\\\\\n\t 18 & 18 & 1 & 2 & Williams, Mr. Charles Eugene                              & male   & NA & 0 & 0 & 244373           &  13.0000 &             & S\\\\\n\t 19 & 19 & 0 & 3 & Vander Planke, Mrs. Julius (Emelia Maria Vandemoortele)   & female & 31 & 1 & 0 & 345763           &  18.0000 &             & S\\\\\n\t 20 & 20 & 1 & 3 & Masselmani, Mrs. Fatima                                   & female & NA & 0 & 0 & 2649             &   7.2250 &             & C\\\\\n\t 21 & 21 & 0 & 2 & Fynney, Mr. Joseph J                                      & male   & 35 & 0 & 0 & 239865           &  26.0000 &             & S\\\\\n\t 22 & 22 & 1 & 2 & Beesley, Mr. Lawrence                                     & male   & 34 & 0 & 0 & 248698           &  13.0000 & D56         & S\\\\\n\t 23 & 23 & 1 & 3 & McGowan, Miss. Anna \"Annie\"                               & female & 15 & 0 & 0 & 330923           &   8.0292 &             & Q\\\\\n\t 24 & 24 & 1 & 1 & Sloper, Mr. William Thompson                              & male   & 28 & 0 & 0 & 113788           &  35.5000 & A6          & S\\\\\n\t 25 & 25 & 0 & 3 & Palsson, Miss. Torborg Danira                             & female &  8 & 3 & 1 & 349909           &  21.0750 &             & S\\\\\n\t 26 & 26 & 1 & 3 & Asplund, Mrs. Carl Oscar (Selma Augusta Emilia Johansson) & female & 38 & 1 & 5 & 347077           &  31.3875 &             & S\\\\\n\t 27 & 27 & 0 & 3 & Emir, Mr. Farred Chehab                                   & male   & NA & 0 & 0 & 2631             &   7.2250 &             & C\\\\\n\t 28 & 28 & 0 & 1 & Fortune, Mr. Charles Alexander                            & male   & 19 & 3 & 2 & 19950            & 263.0000 & C23 C25 C27 & S\\\\\n\t 29 & 29 & 1 & 3 & O'Dwyer, Miss. Ellen \"Nellie\"                             & female & NA & 0 & 0 & 330959           &   7.8792 &             & Q\\\\\n\t 30 & 30 & 0 & 3 & Todoroff, Mr. Lalio                                       & male   & NA & 0 & 0 & 349216           &   7.8958 &             & S\\\\\n\t ⋮ & ⋮ & ⋮ & ⋮ & ⋮ & ⋮ & ⋮ & ⋮ & ⋮ & ⋮ & ⋮ & ⋮ & ⋮\\\\\n\t 1280 & 1280 & NA & 3 & Canavan, Mr. Patrick                                            & male   & 21.0 & 0 & 0 & 364858             &   7.7500 &      & Q\\\\\n\t 1281 & 1281 & NA & 3 & Palsson, Master. Paul Folke                                     & male   &  6.0 & 3 & 1 & 349909             &  21.0750 &      & S\\\\\n\t 1282 & 1282 & NA & 1 & Payne, Mr. Vivian Ponsonby                                      & male   & 23.0 & 0 & 0 & 12749              &  93.5000 & B24  & S\\\\\n\t 1283 & 1283 & NA & 1 & Lines, Mrs. Ernest H (Elizabeth Lindsey James)                  & female & 51.0 & 0 & 1 & PC 17592           &  39.4000 & D28  & S\\\\\n\t 1284 & 1284 & NA & 3 & Abbott, Master. Eugene Joseph                                   & male   & 13.0 & 0 & 2 & C.A. 2673          &  20.2500 &      & S\\\\\n\t 1285 & 1285 & NA & 2 & Gilbert, Mr. William                                            & male   & 47.0 & 0 & 0 & C.A. 30769         &  10.5000 &      & S\\\\\n\t 1286 & 1286 & NA & 3 & Kink-Heilmann, Mr. Anton                                        & male   & 29.0 & 3 & 1 & 315153             &  22.0250 &      & S\\\\\n\t 1287 & 1287 & NA & 1 & Smith, Mrs. Lucien Philip (Mary Eloise Hughes)                  & female & 18.0 & 1 & 0 & 13695              &  60.0000 & C31  & S\\\\\n\t 1288 & 1288 & NA & 3 & Colbert, Mr. Patrick                                            & male   & 24.0 & 0 & 0 & 371109             &   7.2500 &      & Q\\\\\n\t 1289 & 1289 & NA & 1 & Frolicher-Stehli, Mrs. Maxmillian (Margaretha Emerentia Stehli) & female & 48.0 & 1 & 1 & 13567              &  79.2000 & B41  & C\\\\\n\t 1290 & 1290 & NA & 3 & Larsson-Rondberg, Mr. Edvard A                                  & male   & 22.0 & 0 & 0 & 347065             &   7.7750 &      & S\\\\\n\t 1291 & 1291 & NA & 3 & Conlon, Mr. Thomas Henry                                        & male   & 31.0 & 0 & 0 & 21332              &   7.7333 &      & Q\\\\\n\t 1292 & 1292 & NA & 1 & Bonnell, Miss. Caroline                                         & female & 30.0 & 0 & 0 & 36928              & 164.8667 & C7   & S\\\\\n\t 1293 & 1293 & NA & 2 & Gale, Mr. Harry                                                 & male   & 38.0 & 1 & 0 & 28664              &  21.0000 &      & S\\\\\n\t 1294 & 1294 & NA & 1 & Gibson, Miss. Dorothy Winifred                                  & female & 22.0 & 0 & 1 & 112378             &  59.4000 &      & C\\\\\n\t 1295 & 1295 & NA & 1 & Carrau, Mr. Jose Pedro                                          & male   & 17.0 & 0 & 0 & 113059             &  47.1000 &      & S\\\\\n\t 1296 & 1296 & NA & 1 & Frauenthal, Mr. Isaac Gerald                                    & male   & 43.0 & 1 & 0 & 17765              &  27.7208 & D40  & C\\\\\n\t 1297 & 1297 & NA & 2 & Nourney, Mr. Alfred (Baron von Drachstedt\")\"                    & male   & 20.0 & 0 & 0 & SC/PARIS 2166      &  13.8625 & D38  & C\\\\\n\t 1298 & 1298 & NA & 2 & Ware, Mr. William Jeffery                                       & male   & 23.0 & 1 & 0 & 28666              &  10.5000 &      & S\\\\\n\t 1299 & 1299 & NA & 1 & Widener, Mr. George Dunton                                      & male   & 50.0 & 1 & 1 & 113503             & 211.5000 & C80  & C\\\\\n\t 1300 & 1300 & NA & 3 & Riordan, Miss. Johanna Hannah\"\"                                 & female &   NA & 0 & 0 & 334915             &   7.7208 &      & Q\\\\\n\t 1301 & 1301 & NA & 3 & Peacock, Miss. Treasteall                                       & female &  3.0 & 1 & 1 & SOTON/O.Q. 3101315 &  13.7750 &      & S\\\\\n\t 1302 & 1302 & NA & 3 & Naughton, Miss. Hannah                                          & female &   NA & 0 & 0 & 365237             &   7.7500 &      & Q\\\\\n\t 1303 & 1303 & NA & 1 & Minahan, Mrs. William Edward (Lillian E Thorpe)                 & female & 37.0 & 1 & 0 & 19928              &  90.0000 & C78  & Q\\\\\n\t 1304 & 1304 & NA & 3 & Henriksson, Miss. Jenny Lovisa                                  & female & 28.0 & 0 & 0 & 347086             &   7.7750 &      & S\\\\\n\t 1305 & 1305 & NA & 3 & Spector, Mr. Woolf                                              & male   &   NA & 0 & 0 & A.5. 3236          &   8.0500 &      & S\\\\\n\t 1306 & 1306 & NA & 1 & Oliva y Ocana, Dona. Fermina                                    & female & 39.0 & 0 & 0 & PC 17758           & 108.9000 & C105 & C\\\\\n\t 1307 & 1307 & NA & 3 & Saether, Mr. Simon Sivertsen                                    & male   & 38.5 & 0 & 0 & SOTON/O.Q. 3101262 &   7.2500 &      & S\\\\\n\t 1308 & 1308 & NA & 3 & Ware, Mr. Frederick                                             & male   &   NA & 0 & 0 & 359309             &   8.0500 &      & S\\\\\n\t 1309 & 1309 & NA & 3 & Peter, Master. Michael J                                        & male   &   NA & 1 & 1 & 2668               &  22.3583 &      & C\\\\\n\\end{tabular}\n",
            "text/plain": [
              "     X    PassengerId Survived Pclass\n",
              "1     1    1          0        3     \n",
              "2     2    2          1        1     \n",
              "3     3    3          1        3     \n",
              "4     4    4          1        1     \n",
              "5     5    5          0        3     \n",
              "6     6    6          0        3     \n",
              "7     7    7          0        1     \n",
              "8     8    8          0        3     \n",
              "9     9    9          1        3     \n",
              "10   10   10          1        2     \n",
              "11   11   11          1        3     \n",
              "12   12   12          1        1     \n",
              "13   13   13          0        3     \n",
              "14   14   14          0        3     \n",
              "15   15   15          0        3     \n",
              "16   16   16          1        2     \n",
              "17   17   17          0        3     \n",
              "18   18   18          1        2     \n",
              "19   19   19          0        3     \n",
              "20   20   20          1        3     \n",
              "21   21   21          0        2     \n",
              "22   22   22          1        2     \n",
              "23   23   23          1        3     \n",
              "24   24   24          1        1     \n",
              "25   25   25          0        3     \n",
              "26   26   26          1        3     \n",
              "27   27   27          0        3     \n",
              "28   28   28          0        1     \n",
              "29   29   29          1        3     \n",
              "30   30   30          0        3     \n",
              "⋮    ⋮    ⋮           ⋮        ⋮     \n",
              "1280 1280 1280        NA       3     \n",
              "1281 1281 1281        NA       3     \n",
              "1282 1282 1282        NA       1     \n",
              "1283 1283 1283        NA       1     \n",
              "1284 1284 1284        NA       3     \n",
              "1285 1285 1285        NA       2     \n",
              "1286 1286 1286        NA       3     \n",
              "1287 1287 1287        NA       1     \n",
              "1288 1288 1288        NA       3     \n",
              "1289 1289 1289        NA       1     \n",
              "1290 1290 1290        NA       3     \n",
              "1291 1291 1291        NA       3     \n",
              "1292 1292 1292        NA       1     \n",
              "1293 1293 1293        NA       2     \n",
              "1294 1294 1294        NA       1     \n",
              "1295 1295 1295        NA       1     \n",
              "1296 1296 1296        NA       1     \n",
              "1297 1297 1297        NA       2     \n",
              "1298 1298 1298        NA       2     \n",
              "1299 1299 1299        NA       1     \n",
              "1300 1300 1300        NA       3     \n",
              "1301 1301 1301        NA       3     \n",
              "1302 1302 1302        NA       3     \n",
              "1303 1303 1303        NA       1     \n",
              "1304 1304 1304        NA       3     \n",
              "1305 1305 1305        NA       3     \n",
              "1306 1306 1306        NA       1     \n",
              "1307 1307 1307        NA       3     \n",
              "1308 1308 1308        NA       3     \n",
              "1309 1309 1309        NA       3     \n",
              "     Name                                                            Sex   \n",
              "1    Braund, Mr. Owen Harris                                         male  \n",
              "2    Cumings, Mrs. John Bradley (Florence Briggs Thayer)             female\n",
              "3    Heikkinen, Miss. Laina                                          female\n",
              "4    Futrelle, Mrs. Jacques Heath (Lily May Peel)                    female\n",
              "5    Allen, Mr. William Henry                                        male  \n",
              "6    Moran, Mr. James                                                male  \n",
              "7    McCarthy, Mr. Timothy J                                         male  \n",
              "8    Palsson, Master. Gosta Leonard                                  male  \n",
              "9    Johnson, Mrs. Oscar W (Elisabeth Vilhelmina Berg)               female\n",
              "10   Nasser, Mrs. Nicholas (Adele Achem)                             female\n",
              "11   Sandstrom, Miss. Marguerite Rut                                 female\n",
              "12   Bonnell, Miss. Elizabeth                                        female\n",
              "13   Saundercock, Mr. William Henry                                  male  \n",
              "14   Andersson, Mr. Anders Johan                                     male  \n",
              "15   Vestrom, Miss. Hulda Amanda Adolfina                            female\n",
              "16   Hewlett, Mrs. (Mary D Kingcome)                                 female\n",
              "17   Rice, Master. Eugene                                            male  \n",
              "18   Williams, Mr. Charles Eugene                                    male  \n",
              "19   Vander Planke, Mrs. Julius (Emelia Maria Vandemoortele)         female\n",
              "20   Masselmani, Mrs. Fatima                                         female\n",
              "21   Fynney, Mr. Joseph J                                            male  \n",
              "22   Beesley, Mr. Lawrence                                           male  \n",
              "23   McGowan, Miss. Anna \"Annie\"                                     female\n",
              "24   Sloper, Mr. William Thompson                                    male  \n",
              "25   Palsson, Miss. Torborg Danira                                   female\n",
              "26   Asplund, Mrs. Carl Oscar (Selma Augusta Emilia Johansson)       female\n",
              "27   Emir, Mr. Farred Chehab                                         male  \n",
              "28   Fortune, Mr. Charles Alexander                                  male  \n",
              "29   O'Dwyer, Miss. Ellen \"Nellie\"                                   female\n",
              "30   Todoroff, Mr. Lalio                                             male  \n",
              "⋮    ⋮                                                               ⋮     \n",
              "1280 Canavan, Mr. Patrick                                            male  \n",
              "1281 Palsson, Master. Paul Folke                                     male  \n",
              "1282 Payne, Mr. Vivian Ponsonby                                      male  \n",
              "1283 Lines, Mrs. Ernest H (Elizabeth Lindsey James)                  female\n",
              "1284 Abbott, Master. Eugene Joseph                                   male  \n",
              "1285 Gilbert, Mr. William                                            male  \n",
              "1286 Kink-Heilmann, Mr. Anton                                        male  \n",
              "1287 Smith, Mrs. Lucien Philip (Mary Eloise Hughes)                  female\n",
              "1288 Colbert, Mr. Patrick                                            male  \n",
              "1289 Frolicher-Stehli, Mrs. Maxmillian (Margaretha Emerentia Stehli) female\n",
              "1290 Larsson-Rondberg, Mr. Edvard A                                  male  \n",
              "1291 Conlon, Mr. Thomas Henry                                        male  \n",
              "1292 Bonnell, Miss. Caroline                                         female\n",
              "1293 Gale, Mr. Harry                                                 male  \n",
              "1294 Gibson, Miss. Dorothy Winifred                                  female\n",
              "1295 Carrau, Mr. Jose Pedro                                          male  \n",
              "1296 Frauenthal, Mr. Isaac Gerald                                    male  \n",
              "1297 Nourney, Mr. Alfred (Baron von Drachstedt\")\"                    male  \n",
              "1298 Ware, Mr. William Jeffery                                       male  \n",
              "1299 Widener, Mr. George Dunton                                      male  \n",
              "1300 Riordan, Miss. Johanna Hannah\"\"                                 female\n",
              "1301 Peacock, Miss. Treasteall                                       female\n",
              "1302 Naughton, Miss. Hannah                                          female\n",
              "1303 Minahan, Mrs. William Edward (Lillian E Thorpe)                 female\n",
              "1304 Henriksson, Miss. Jenny Lovisa                                  female\n",
              "1305 Spector, Mr. Woolf                                              male  \n",
              "1306 Oliva y Ocana, Dona. Fermina                                    female\n",
              "1307 Saether, Mr. Simon Sivertsen                                    male  \n",
              "1308 Ware, Mr. Frederick                                             male  \n",
              "1309 Peter, Master. Michael J                                        male  \n",
              "     Age  SibSp Parch Ticket             Fare     Cabin       Embarked\n",
              "1    22   1     0     A/5 21171            7.2500             S       \n",
              "2    38   1     0     PC 17599            71.2833 C85         C       \n",
              "3    26   0     0     STON/O2. 3101282     7.9250             S       \n",
              "4    35   1     0     113803              53.1000 C123        S       \n",
              "5    35   0     0     373450               8.0500             S       \n",
              "6    NA   0     0     330877               8.4583             Q       \n",
              "7    54   0     0     17463               51.8625 E46         S       \n",
              "8     2   3     1     349909              21.0750             S       \n",
              "9    27   0     2     347742              11.1333             S       \n",
              "10   14   1     0     237736              30.0708             C       \n",
              "11    4   1     1     PP 9549             16.7000 G6          S       \n",
              "12   58   0     0     113783              26.5500 C103        S       \n",
              "13   20   0     0     A/5. 2151            8.0500             S       \n",
              "14   39   1     5     347082              31.2750             S       \n",
              "15   14   0     0     350406               7.8542             S       \n",
              "16   55   0     0     248706              16.0000             S       \n",
              "17    2   4     1     382652              29.1250             Q       \n",
              "18   NA   0     0     244373              13.0000             S       \n",
              "19   31   1     0     345763              18.0000             S       \n",
              "20   NA   0     0     2649                 7.2250             C       \n",
              "21   35   0     0     239865              26.0000             S       \n",
              "22   34   0     0     248698              13.0000 D56         S       \n",
              "23   15   0     0     330923               8.0292             Q       \n",
              "24   28   0     0     113788              35.5000 A6          S       \n",
              "25    8   3     1     349909              21.0750             S       \n",
              "26   38   1     5     347077              31.3875             S       \n",
              "27   NA   0     0     2631                 7.2250             C       \n",
              "28   19   3     2     19950              263.0000 C23 C25 C27 S       \n",
              "29   NA   0     0     330959               7.8792             Q       \n",
              "30   NA   0     0     349216               7.8958             S       \n",
              "⋮    ⋮    ⋮     ⋮     ⋮                  ⋮        ⋮           ⋮       \n",
              "1280 21.0 0     0     364858               7.7500             Q       \n",
              "1281  6.0 3     1     349909              21.0750             S       \n",
              "1282 23.0 0     0     12749               93.5000 B24         S       \n",
              "1283 51.0 0     1     PC 17592            39.4000 D28         S       \n",
              "1284 13.0 0     2     C.A. 2673           20.2500             S       \n",
              "1285 47.0 0     0     C.A. 30769          10.5000             S       \n",
              "1286 29.0 3     1     315153              22.0250             S       \n",
              "1287 18.0 1     0     13695               60.0000 C31         S       \n",
              "1288 24.0 0     0     371109               7.2500             Q       \n",
              "1289 48.0 1     1     13567               79.2000 B41         C       \n",
              "1290 22.0 0     0     347065               7.7750             S       \n",
              "1291 31.0 0     0     21332                7.7333             Q       \n",
              "1292 30.0 0     0     36928              164.8667 C7          S       \n",
              "1293 38.0 1     0     28664               21.0000             S       \n",
              "1294 22.0 0     1     112378              59.4000             C       \n",
              "1295 17.0 0     0     113059              47.1000             S       \n",
              "1296 43.0 1     0     17765               27.7208 D40         C       \n",
              "1297 20.0 0     0     SC/PARIS 2166       13.8625 D38         C       \n",
              "1298 23.0 1     0     28666               10.5000             S       \n",
              "1299 50.0 1     1     113503             211.5000 C80         C       \n",
              "1300   NA 0     0     334915               7.7208             Q       \n",
              "1301  3.0 1     1     SOTON/O.Q. 3101315  13.7750             S       \n",
              "1302   NA 0     0     365237               7.7500             Q       \n",
              "1303 37.0 1     0     19928               90.0000 C78         Q       \n",
              "1304 28.0 0     0     347086               7.7750             S       \n",
              "1305   NA 0     0     A.5. 3236            8.0500             S       \n",
              "1306 39.0 0     0     PC 17758           108.9000 C105        C       \n",
              "1307 38.5 0     0     SOTON/O.Q. 3101262   7.2500             S       \n",
              "1308   NA 0     0     359309               8.0500             S       \n",
              "1309   NA 1     1     2668                22.3583             C       "
            ]
          },
          "metadata": {}
        }
      ],
      "source": [
        "url = \"https://raw.githubusercontent.com/gazzola/dataset_students/main/titanic_passageiros.csv\"\n",
        "df <- read.csv(url)\n",
        "df"
      ]
    },
    {
      "cell_type": "markdown",
      "source": [
        "1. Execute a função head(df) para visualizar as primeiras linhas do dataframe e assegurar que os\n",
        "dados foram carregados corretamente.\n",
        "\n",
        "Resposta: Como podemos ver, foi carregado as 6 primeiras linhas do DataFrame do Titanic (O head por padrão carrega as 6 primeiras linhas), portanto, podemos garantir que os dados foram carregados corretamente"
      ],
      "metadata": {
        "id": "Fti3g_dBQlAW"
      }
    },
    {
      "cell_type": "code",
      "source": [
        "head(df)"
      ],
      "metadata": {
        "colab": {
          "base_uri": "https://localhost:8080/",
          "height": 286
        },
        "id": "zhtQg7WxQbmI",
        "outputId": "480ca255-5c4c-4a84-e914-d661b8c68a40"
      },
      "execution_count": 2,
      "outputs": [
        {
          "output_type": "display_data",
          "data": {
            "text/html": [
              "<table class=\"dataframe\">\n",
              "<caption>A data.frame: 6 × 13</caption>\n",
              "<thead>\n",
              "\t<tr><th></th><th scope=col>X</th><th scope=col>PassengerId</th><th scope=col>Survived</th><th scope=col>Pclass</th><th scope=col>Name</th><th scope=col>Sex</th><th scope=col>Age</th><th scope=col>SibSp</th><th scope=col>Parch</th><th scope=col>Ticket</th><th scope=col>Fare</th><th scope=col>Cabin</th><th scope=col>Embarked</th></tr>\n",
              "\t<tr><th></th><th scope=col>&lt;int&gt;</th><th scope=col>&lt;int&gt;</th><th scope=col>&lt;int&gt;</th><th scope=col>&lt;int&gt;</th><th scope=col>&lt;chr&gt;</th><th scope=col>&lt;chr&gt;</th><th scope=col>&lt;dbl&gt;</th><th scope=col>&lt;int&gt;</th><th scope=col>&lt;int&gt;</th><th scope=col>&lt;chr&gt;</th><th scope=col>&lt;dbl&gt;</th><th scope=col>&lt;chr&gt;</th><th scope=col>&lt;chr&gt;</th></tr>\n",
              "</thead>\n",
              "<tbody>\n",
              "\t<tr><th scope=row>1</th><td>1</td><td>1</td><td>0</td><td>3</td><td>Braund, Mr. Owen Harris                            </td><td>male  </td><td>22</td><td>1</td><td>0</td><td>A/5 21171       </td><td> 7.2500</td><td>    </td><td>S</td></tr>\n",
              "\t<tr><th scope=row>2</th><td>2</td><td>2</td><td>1</td><td>1</td><td>Cumings, Mrs. John Bradley (Florence Briggs Thayer)</td><td>female</td><td>38</td><td>1</td><td>0</td><td>PC 17599        </td><td>71.2833</td><td>C85 </td><td>C</td></tr>\n",
              "\t<tr><th scope=row>3</th><td>3</td><td>3</td><td>1</td><td>3</td><td>Heikkinen, Miss. Laina                             </td><td>female</td><td>26</td><td>0</td><td>0</td><td>STON/O2. 3101282</td><td> 7.9250</td><td>    </td><td>S</td></tr>\n",
              "\t<tr><th scope=row>4</th><td>4</td><td>4</td><td>1</td><td>1</td><td>Futrelle, Mrs. Jacques Heath (Lily May Peel)       </td><td>female</td><td>35</td><td>1</td><td>0</td><td>113803          </td><td>53.1000</td><td>C123</td><td>S</td></tr>\n",
              "\t<tr><th scope=row>5</th><td>5</td><td>5</td><td>0</td><td>3</td><td>Allen, Mr. William Henry                           </td><td>male  </td><td>35</td><td>0</td><td>0</td><td>373450          </td><td> 8.0500</td><td>    </td><td>S</td></tr>\n",
              "\t<tr><th scope=row>6</th><td>6</td><td>6</td><td>0</td><td>3</td><td>Moran, Mr. James                                   </td><td>male  </td><td>NA</td><td>0</td><td>0</td><td>330877          </td><td> 8.4583</td><td>    </td><td>Q</td></tr>\n",
              "</tbody>\n",
              "</table>\n"
            ],
            "text/markdown": "\nA data.frame: 6 × 13\n\n| <!--/--> | X &lt;int&gt; | PassengerId &lt;int&gt; | Survived &lt;int&gt; | Pclass &lt;int&gt; | Name &lt;chr&gt; | Sex &lt;chr&gt; | Age &lt;dbl&gt; | SibSp &lt;int&gt; | Parch &lt;int&gt; | Ticket &lt;chr&gt; | Fare &lt;dbl&gt; | Cabin &lt;chr&gt; | Embarked &lt;chr&gt; |\n|---|---|---|---|---|---|---|---|---|---|---|---|---|---|\n| 1 | 1 | 1 | 0 | 3 | Braund, Mr. Owen Harris                             | male   | 22 | 1 | 0 | A/5 21171        |  7.2500 | <!----> | S |\n| 2 | 2 | 2 | 1 | 1 | Cumings, Mrs. John Bradley (Florence Briggs Thayer) | female | 38 | 1 | 0 | PC 17599         | 71.2833 | C85  | C |\n| 3 | 3 | 3 | 1 | 3 | Heikkinen, Miss. Laina                              | female | 26 | 0 | 0 | STON/O2. 3101282 |  7.9250 | <!----> | S |\n| 4 | 4 | 4 | 1 | 1 | Futrelle, Mrs. Jacques Heath (Lily May Peel)        | female | 35 | 1 | 0 | 113803           | 53.1000 | C123 | S |\n| 5 | 5 | 5 | 0 | 3 | Allen, Mr. William Henry                            | male   | 35 | 0 | 0 | 373450           |  8.0500 | <!----> | S |\n| 6 | 6 | 6 | 0 | 3 | Moran, Mr. James                                    | male   | NA | 0 | 0 | 330877           |  8.4583 | <!----> | Q |\n\n",
            "text/latex": "A data.frame: 6 × 13\n\\begin{tabular}{r|lllllllllllll}\n  & X & PassengerId & Survived & Pclass & Name & Sex & Age & SibSp & Parch & Ticket & Fare & Cabin & Embarked\\\\\n  & <int> & <int> & <int> & <int> & <chr> & <chr> & <dbl> & <int> & <int> & <chr> & <dbl> & <chr> & <chr>\\\\\n\\hline\n\t1 & 1 & 1 & 0 & 3 & Braund, Mr. Owen Harris                             & male   & 22 & 1 & 0 & A/5 21171        &  7.2500 &      & S\\\\\n\t2 & 2 & 2 & 1 & 1 & Cumings, Mrs. John Bradley (Florence Briggs Thayer) & female & 38 & 1 & 0 & PC 17599         & 71.2833 & C85  & C\\\\\n\t3 & 3 & 3 & 1 & 3 & Heikkinen, Miss. Laina                              & female & 26 & 0 & 0 & STON/O2. 3101282 &  7.9250 &      & S\\\\\n\t4 & 4 & 4 & 1 & 1 & Futrelle, Mrs. Jacques Heath (Lily May Peel)        & female & 35 & 1 & 0 & 113803           & 53.1000 & C123 & S\\\\\n\t5 & 5 & 5 & 0 & 3 & Allen, Mr. William Henry                            & male   & 35 & 0 & 0 & 373450           &  8.0500 &      & S\\\\\n\t6 & 6 & 6 & 0 & 3 & Moran, Mr. James                                    & male   & NA & 0 & 0 & 330877           &  8.4583 &      & Q\\\\\n\\end{tabular}\n",
            "text/plain": [
              "  X PassengerId Survived Pclass\n",
              "1 1 1           0        3     \n",
              "2 2 2           1        1     \n",
              "3 3 3           1        3     \n",
              "4 4 4           1        1     \n",
              "5 5 5           0        3     \n",
              "6 6 6           0        3     \n",
              "  Name                                                Sex    Age SibSp Parch\n",
              "1 Braund, Mr. Owen Harris                             male   22  1     0    \n",
              "2 Cumings, Mrs. John Bradley (Florence Briggs Thayer) female 38  1     0    \n",
              "3 Heikkinen, Miss. Laina                              female 26  0     0    \n",
              "4 Futrelle, Mrs. Jacques Heath (Lily May Peel)        female 35  1     0    \n",
              "5 Allen, Mr. William Henry                            male   35  0     0    \n",
              "6 Moran, Mr. James                                    male   NA  0     0    \n",
              "  Ticket           Fare    Cabin Embarked\n",
              "1 A/5 21171         7.2500       S       \n",
              "2 PC 17599         71.2833 C85   C       \n",
              "3 STON/O2. 3101282  7.9250       S       \n",
              "4 113803           53.1000 C123  S       \n",
              "5 373450            8.0500       S       \n",
              "6 330877            8.4583       Q       "
            ]
          },
          "metadata": {}
        }
      ]
    },
    {
      "cell_type": "markdown",
      "source": [
        "2. Utilize a função summary(df) em R para gerar um resumo estatístico do dataframe. Examine\n",
        "as estatísticas apresentadas, que incluem medidas descritivas para variáveis numéricas e\n",
        "contagens para variáveis categóricas. Reflita sobre as informações obtidas e identifique\n",
        "padrões ou características interessantes nos dados.\n",
        "\n",
        "Resposta:\n",
        "\n",
        "Os NA's da coluna Survived indicam que, para 418 pessoas não se sabe o que aconteceu com elas ou se apenas os dados estavam incompletos\n",
        "\n",
        "Pclass: A mediana é 3, o que indica que muitos passageiros eram de classes mais baixas\n",
        "\n",
        "SibSp: a maioria das pessoas estavam sozinhos ou com até 1 acompanhante\n"
      ],
      "metadata": {
        "id": "XoOeGGESQsy9"
      }
    },
    {
      "cell_type": "code",
      "source": [
        "summary(df)"
      ],
      "metadata": {
        "colab": {
          "base_uri": "https://localhost:8080/",
          "height": 598
        },
        "id": "VDmsfL45QpTX",
        "outputId": "6c3c26b9-e264-46ba-94c3-6332cd8b859a"
      },
      "execution_count": 3,
      "outputs": [
        {
          "output_type": "display_data",
          "data": {
            "text/plain": [
              "       X         PassengerId      Survived          Pclass     \n",
              " Min.   :   1   Min.   :   1   Min.   :0.0000   Min.   :1.000  \n",
              " 1st Qu.: 328   1st Qu.: 328   1st Qu.:0.0000   1st Qu.:2.000  \n",
              " Median : 655   Median : 655   Median :0.0000   Median :3.000  \n",
              " Mean   : 655   Mean   : 655   Mean   :0.3838   Mean   :2.295  \n",
              " 3rd Qu.: 982   3rd Qu.: 982   3rd Qu.:1.0000   3rd Qu.:3.000  \n",
              " Max.   :1309   Max.   :1309   Max.   :1.0000   Max.   :3.000  \n",
              "                               NA's   :418                     \n",
              "     Name               Sex                 Age            SibSp       \n",
              " Length:1309        Length:1309        Min.   : 0.17   Min.   :0.0000  \n",
              " Class :character   Class :character   1st Qu.:21.00   1st Qu.:0.0000  \n",
              " Mode  :character   Mode  :character   Median :28.00   Median :0.0000  \n",
              "                                       Mean   :29.88   Mean   :0.4989  \n",
              "                                       3rd Qu.:39.00   3rd Qu.:1.0000  \n",
              "                                       Max.   :80.00   Max.   :8.0000  \n",
              "                                       NA's   :263                     \n",
              "     Parch          Ticket               Fare            Cabin          \n",
              " Min.   :0.000   Length:1309        Min.   :  0.000   Length:1309       \n",
              " 1st Qu.:0.000   Class :character   1st Qu.:  7.896   Class :character  \n",
              " Median :0.000   Mode  :character   Median : 14.454   Mode  :character  \n",
              " Mean   :0.385                      Mean   : 33.295                     \n",
              " 3rd Qu.:0.000                      3rd Qu.: 31.275                     \n",
              " Max.   :9.000                      Max.   :512.329                     \n",
              "                                    NA's   :1                           \n",
              "   Embarked        \n",
              " Length:1309       \n",
              " Class :character  \n",
              " Mode  :character  \n",
              "                   \n",
              "                   \n",
              "                   \n",
              "                   "
            ]
          },
          "metadata": {}
        }
      ]
    },
    {
      "cell_type": "markdown",
      "source": [
        "3. Utilize a função str(df) para visualizar a estrutura do dataframe df. Analise as informações\n",
        "fornecidas pela função, incluindo os tipos de dados das variáveis e uma prévia das primeiras\n",
        "observações. Reflita sobre a composição do dataframe, identificando o tipo de dado de cada\n",
        "variável.\n",
        "\n",
        "Resposta:\n",
        "Variáveis X, PassengerId, Survived, Pclass, SibSp e Parch são do tipo inteiras.\n",
        "\n",
        "Variáveis Name, Sex, Ticket, Cabin e Embarked são do tipo \"character\"\n",
        "\n",
        "Variáveis Age e Fare são do tipo \"numeric\""
      ],
      "metadata": {
        "id": "x5kq63-bUK4E"
      }
    },
    {
      "cell_type": "code",
      "source": [
        "str(df)"
      ],
      "metadata": {
        "colab": {
          "base_uri": "https://localhost:8080/",
          "height": 0
        },
        "id": "QolHZb3uRRrs",
        "outputId": "24edd6e7-c03b-4dda-a8a4-eac72dfd8b8f"
      },
      "execution_count": 4,
      "outputs": [
        {
          "output_type": "stream",
          "name": "stdout",
          "text": [
            "'data.frame':\t1309 obs. of  13 variables:\n",
            " $ X          : int  1 2 3 4 5 6 7 8 9 10 ...\n",
            " $ PassengerId: int  1 2 3 4 5 6 7 8 9 10 ...\n",
            " $ Survived   : int  0 1 1 1 0 0 0 0 1 1 ...\n",
            " $ Pclass     : int  3 1 3 1 3 3 1 3 3 2 ...\n",
            " $ Name       : chr  \"Braund, Mr. Owen Harris\" \"Cumings, Mrs. John Bradley (Florence Briggs Thayer)\" \"Heikkinen, Miss. Laina\" \"Futrelle, Mrs. Jacques Heath (Lily May Peel)\" ...\n",
            " $ Sex        : chr  \"male\" \"female\" \"female\" \"female\" ...\n",
            " $ Age        : num  22 38 26 35 35 NA 54 2 27 14 ...\n",
            " $ SibSp      : int  1 1 0 1 0 0 0 3 0 1 ...\n",
            " $ Parch      : int  0 0 0 0 0 0 0 1 2 0 ...\n",
            " $ Ticket     : chr  \"A/5 21171\" \"PC 17599\" \"STON/O2. 3101282\" \"113803\" ...\n",
            " $ Fare       : num  7.25 71.28 7.92 53.1 8.05 ...\n",
            " $ Cabin      : chr  \"\" \"C85\" \"\" \"C123\" ...\n",
            " $ Embarked   : chr  \"S\" \"C\" \"S\" \"S\" ...\n"
          ]
        }
      ]
    },
    {
      "cell_type": "markdown",
      "source": [
        "4. Determine a quantidade de valores nulos presentes no dataframe Titanic, utilizando apenas\n",
        "funções e métodos aprendido em aula.\n",
        "\n",
        "Resposta:\n",
        "\n",
        "A quantidade de valores nulos presentes no dataframe Titanic são 682, sendo 418 da variável Survived, 263 da variável Age e 1 da variável Fare (valores esses que são possíveis de serem identificados através do summary deste dataframe)"
      ],
      "metadata": {
        "id": "NjY3mKETVK1P"
      }
    },
    {
      "cell_type": "code",
      "source": [
        "sum(is.na(df))"
      ],
      "metadata": {
        "colab": {
          "base_uri": "https://localhost:8080/",
          "height": 34
        },
        "id": "0kzPOI0hU8fG",
        "outputId": "6a2ea3d8-89dc-4353-e631-d37583b2cd82"
      },
      "execution_count": 8,
      "outputs": [
        {
          "output_type": "display_data",
          "data": {
            "text/html": [
              "682"
            ],
            "text/markdown": "682",
            "text/latex": "682",
            "text/plain": [
              "[1] 682"
            ]
          },
          "metadata": {}
        }
      ]
    },
    {
      "cell_type": "markdown",
      "source": [
        "5. Escreva a seguinte linha de código\n",
        "\n",
        "table(df$Pclass)\n",
        "\n",
        "Observando a Tabela 1, apresente o resultado e o que representam os valores retornados?\n",
        "\n",
        "Resposta:\n",
        "\n",
        "Os valores que foram retornados representam a classe (1 2 3) e, embaixo de cada classe, a quantidade de pessoas que estavam em uma determinada classe. Ou seja, na classe 1, estavam 323 pessoas, na classe 2 estavam 277 pessoas e, por fim, na classe 3 estavam 709 pessoas.\n",
        "\n",
        "É possível confirmar isso através do sum(df$Pclass == 1), que retorna 323, que é exatamente o número de pessoas que estavam na classe 1"
      ],
      "metadata": {
        "id": "eVrkGbMxVzE2"
      }
    },
    {
      "cell_type": "code",
      "source": [
        "table(df$Pclass)"
      ],
      "metadata": {
        "colab": {
          "base_uri": "https://localhost:8080/",
          "height": 71
        },
        "id": "8XTYyhD_VRj-",
        "outputId": "9fe943ae-d276-494a-bc44-a6748b212720"
      },
      "execution_count": 9,
      "outputs": [
        {
          "output_type": "display_data",
          "data": {
            "text/plain": [
              "\n",
              "  1   2   3 \n",
              "323 277 709 "
            ]
          },
          "metadata": {}
        }
      ]
    },
    {
      "cell_type": "code",
      "source": [
        "sum(df$Pclass == 1)"
      ],
      "metadata": {
        "colab": {
          "base_uri": "https://localhost:8080/",
          "height": 34
        },
        "id": "DzHuFiVOV6et",
        "outputId": "f6f668e7-1d75-4674-e93c-5c68e4f1535e"
      },
      "execution_count": 10,
      "outputs": [
        {
          "output_type": "display_data",
          "data": {
            "text/html": [
              "323"
            ],
            "text/markdown": "323",
            "text/latex": "323",
            "text/plain": [
              "[1] 323"
            ]
          },
          "metadata": {}
        }
      ]
    },
    {
      "cell_type": "markdown",
      "source": [
        "6. Escreva a seguinte linha de código\n",
        "\n",
        "table(df$Survived,df$Pclass)\n",
        "\n",
        "Observando as informações apresentadas da Tabela 1 e os resultados obtidos, interprete\n",
        "os valores retornados?\n",
        "\n",
        "Resposta:\n",
        "\n",
        "Essa é uma matriz cujas as linhas representam 0 ou 1 (se tal passageiro sobreviveu (1) ou não (0)) e as colunas representam a que classe esse passageiro que sobreviveu.\n",
        "Essa matriz serve para identificar a quantidade de passageiros que sobreviveram ou não e a que classe eles pertenciam.\n",
        "\n",
        "Exemplo: a quantidade de pessoas que não sobreviveram e que estavam na classe 3 é de 372"
      ],
      "metadata": {
        "id": "bwApjRNNWfyD"
      }
    },
    {
      "cell_type": "code",
      "source": [
        "table(df$Survived,df$Pclass)"
      ],
      "metadata": {
        "colab": {
          "base_uri": "https://localhost:8080/",
          "height": 90
        },
        "id": "Fkhuhc4-WCxs",
        "outputId": "4701f43e-31ea-4932-c6a0-6e89f1dd2481"
      },
      "execution_count": 11,
      "outputs": [
        {
          "output_type": "display_data",
          "data": {
            "text/plain": [
              "   \n",
              "      1   2   3\n",
              "  0  80  97 372\n",
              "  1 136  87 119"
            ]
          },
          "metadata": {}
        }
      ]
    },
    {
      "cell_type": "markdown",
      "source": [
        "7. Escreva a seguinte linha de código\n",
        "\n",
        "sobreviventes <- df$Survived\n",
        "\n",
        "Some a quantidade de sobreviventes (utilizando a variável sobreviventes) usando apenas as\n",
        "funções e os métodos aprendidos em aula.\n",
        "\n",
        "Resposta:\n",
        "\n",
        "Para somar a quantidade de sobreviventes, utilizamos \"sobreviventes == 1\" porque queremos fazer um filtro para pegar apenas as pessoas que sobreviveram (1) e usamos o \"na.rm = TRUE\" para remover os NA's"
      ],
      "metadata": {
        "id": "-sL4j9qLXsU1"
      }
    },
    {
      "cell_type": "code",
      "source": [
        "sobreviventes <- df$Survived\n",
        "sum(sobreviventes == 1, na.rm = TRUE)"
      ],
      "metadata": {
        "colab": {
          "base_uri": "https://localhost:8080/",
          "height": 34
        },
        "id": "mYrFHE1-W4En",
        "outputId": "24a1145d-e767-4e60-8f51-f0c2c91e5a2d"
      },
      "execution_count": 13,
      "outputs": [
        {
          "output_type": "display_data",
          "data": {
            "text/html": [
              "342"
            ],
            "text/markdown": "342",
            "text/latex": "342",
            "text/plain": [
              "[1] 342"
            ]
          },
          "metadata": {}
        }
      ]
    },
    {
      "cell_type": "markdown",
      "source": [
        "8. Qual é a média de idade dos passageiros? Calcule usando apenas as funções e os métodos\n",
        "aprendidos em aula.\n",
        "\n",
        "Resposta:\n",
        "\n",
        "Para saber a média dos passageiros, utilizamos o mean() e, dentro dele, colocamos a variável que queremos saber a média (age) e colocamos o \"na.rm = TRUE\" para nao contabilizar os NA's na média\n",
        "\n",
        "\n"
      ],
      "metadata": {
        "id": "gq1DO4_LY7kh"
      }
    },
    {
      "cell_type": "code",
      "source": [
        "mean(df$Age, na.rm = TRUE)"
      ],
      "metadata": {
        "colab": {
          "base_uri": "https://localhost:8080/",
          "height": 34
        },
        "id": "BkeSUs_CYVoU",
        "outputId": "180e6f53-b52d-49ca-d3c2-04376cc8b244"
      },
      "execution_count": 15,
      "outputs": [
        {
          "output_type": "display_data",
          "data": {
            "text/html": [
              "29.881137667304"
            ],
            "text/markdown": "29.881137667304",
            "text/latex": "29.881137667304",
            "text/plain": [
              "[1] 29.88114"
            ]
          },
          "metadata": {}
        }
      ]
    },
    {
      "cell_type": "markdown",
      "source": [
        "9- Crie uma função em R para calcular a variância da idade tendo como parâmetro o sexo.\n",
        "\n",
        "Resposta:\n",
        " primeiro precisamos filtrar as linhas onde o sexo é igual ao valor que está no parâmetro (male ou female), em seguida, removemos as linhas onde Age é NA e, por fim, calculamos a variância das idades filtradas.\n"
      ],
      "metadata": {
        "id": "mcdqNUsmZVn4"
      }
    },
    {
      "cell_type": "code",
      "source": [
        "variancia <- function(sexo) {\n",
        "  dados_filtrados <- df[df$Sex == sexo, ]\n",
        "  idades <- dados_filtrados$Age[!is.na(dados_filtrados$Age)]\n",
        "  return (var(idades))\n",
        "}"
      ],
      "metadata": {
        "id": "QbL_XvRBZZwy"
      },
      "execution_count": 62,
      "outputs": []
    },
    {
      "cell_type": "code",
      "source": [
        "variancia(\"male\")"
      ],
      "metadata": {
        "colab": {
          "base_uri": "https://localhost:8080/",
          "height": 34
        },
        "id": "Jzcg4VlcaH9T",
        "outputId": "720ef165-ce05-44d2-d74d-928077bd35fb"
      },
      "execution_count": 65,
      "outputs": [
        {
          "output_type": "display_data",
          "data": {
            "text/html": [
              "203.935007938821"
            ],
            "text/markdown": "203.935007938821",
            "text/latex": "203.935007938821",
            "text/plain": [
              "[1] 203.935"
            ]
          },
          "metadata": {}
        }
      ]
    },
    {
      "cell_type": "code",
      "source": [
        "variancia(\"female\")"
      ],
      "metadata": {
        "colab": {
          "base_uri": "https://localhost:8080/",
          "height": 34
        },
        "id": "Rscp8TpQaMS2",
        "outputId": "a680550f-b069-496e-b829-33f0be8a43a5"
      },
      "execution_count": 66,
      "outputs": [
        {
          "output_type": "display_data",
          "data": {
            "text/html": [
              "212.487828447082"
            ],
            "text/markdown": "212.487828447082",
            "text/latex": "212.487828447082",
            "text/plain": [
              "[1] 212.4878"
            ]
          },
          "metadata": {}
        }
      ]
    }
  ]
}