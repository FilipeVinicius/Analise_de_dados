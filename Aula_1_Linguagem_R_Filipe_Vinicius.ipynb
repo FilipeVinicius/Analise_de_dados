{
  "nbformat": 4,
  "nbformat_minor": 0,
  "metadata": {
    "colab": {
      "provenance": [],
      "authorship_tag": "ABX9TyOR1bImP9PD75rsssqdNlB6",
      "include_colab_link": true
    },
    "kernelspec": {
      "name": "ir",
      "display_name": "R"
    },
    "language_info": {
      "name": "R"
    }
  },
  "cells": [
    {
      "cell_type": "markdown",
      "metadata": {
        "id": "view-in-github",
        "colab_type": "text"
      },
      "source": [
        "<a href=\"https://colab.research.google.com/github/FilipeVinicius/Analise_de_dados/blob/main/Aula_1_Linguagem_R_Filipe_Vinicius.ipynb\" target=\"_parent\"><img src=\"https://colab.research.google.com/assets/colab-badge.svg\" alt=\"Open In Colab\"/></a>"
      ]
    },
    {
      "cell_type": "markdown",
      "source": [
        "# DataFrame com os dados\n",
        "\n",
        "Dataset - https://raw.githubusercontent.com/gazzola/pima_dataset/refs/heads/main/diabetes.csv"
      ],
      "metadata": {
        "id": "IqIuh4dmPUhT"
      }
    },
    {
      "cell_type": "code",
      "execution_count": null,
      "metadata": {
        "colab": {
          "base_uri": "https://localhost:8080/",
          "height": 2010
        },
        "id": "j6eMkBfpO_4i",
        "outputId": "d3aaa26e-d45b-4fd8-d6e2-af8a4dd1f0d1"
      },
      "outputs": [
        {
          "output_type": "display_data",
          "data": {
            "text/html": [
              "<table class=\"dataframe\">\n",
              "<caption>A data.frame: 768 × 9</caption>\n",
              "<thead>\n",
              "\t<tr><th scope=col>Pregnancies</th><th scope=col>Glucose</th><th scope=col>BloodPressure</th><th scope=col>SkinThickness</th><th scope=col>Insulin</th><th scope=col>BMI</th><th scope=col>DiabetesPedigreeFunction</th><th scope=col>Age</th><th scope=col>Outcome</th></tr>\n",
              "\t<tr><th scope=col>&lt;int&gt;</th><th scope=col>&lt;int&gt;</th><th scope=col>&lt;int&gt;</th><th scope=col>&lt;int&gt;</th><th scope=col>&lt;int&gt;</th><th scope=col>&lt;dbl&gt;</th><th scope=col>&lt;dbl&gt;</th><th scope=col>&lt;int&gt;</th><th scope=col>&lt;int&gt;</th></tr>\n",
              "</thead>\n",
              "<tbody>\n",
              "\t<tr><td> 6</td><td>148</td><td>72</td><td>35</td><td>  0</td><td>33.6</td><td>0.627</td><td>50</td><td>1</td></tr>\n",
              "\t<tr><td> 1</td><td> 85</td><td>66</td><td>29</td><td>  0</td><td>26.6</td><td>0.351</td><td>31</td><td>0</td></tr>\n",
              "\t<tr><td> 8</td><td>183</td><td>64</td><td> 0</td><td>  0</td><td>23.3</td><td>0.672</td><td>32</td><td>1</td></tr>\n",
              "\t<tr><td> 1</td><td> 89</td><td>66</td><td>23</td><td> 94</td><td>28.1</td><td>0.167</td><td>21</td><td>0</td></tr>\n",
              "\t<tr><td> 0</td><td>137</td><td>40</td><td>35</td><td>168</td><td>43.1</td><td>2.288</td><td>33</td><td>1</td></tr>\n",
              "\t<tr><td> 5</td><td>116</td><td>74</td><td> 0</td><td>  0</td><td>25.6</td><td>0.201</td><td>30</td><td>0</td></tr>\n",
              "\t<tr><td> 3</td><td> 78</td><td>50</td><td>32</td><td> 88</td><td>31.0</td><td>0.248</td><td>26</td><td>1</td></tr>\n",
              "\t<tr><td>10</td><td>115</td><td> 0</td><td> 0</td><td>  0</td><td>35.3</td><td>0.134</td><td>29</td><td>0</td></tr>\n",
              "\t<tr><td> 2</td><td>197</td><td>70</td><td>45</td><td>543</td><td>30.5</td><td>0.158</td><td>53</td><td>1</td></tr>\n",
              "\t<tr><td> 8</td><td>125</td><td>96</td><td> 0</td><td>  0</td><td> 0.0</td><td>0.232</td><td>54</td><td>1</td></tr>\n",
              "\t<tr><td> 4</td><td>110</td><td>92</td><td> 0</td><td>  0</td><td>37.6</td><td>0.191</td><td>30</td><td>0</td></tr>\n",
              "\t<tr><td>10</td><td>168</td><td>74</td><td> 0</td><td>  0</td><td>38.0</td><td>0.537</td><td>34</td><td>1</td></tr>\n",
              "\t<tr><td>10</td><td>139</td><td>80</td><td> 0</td><td>  0</td><td>27.1</td><td>1.441</td><td>57</td><td>0</td></tr>\n",
              "\t<tr><td> 1</td><td>189</td><td>60</td><td>23</td><td>846</td><td>30.1</td><td>0.398</td><td>59</td><td>1</td></tr>\n",
              "\t<tr><td> 5</td><td>166</td><td>72</td><td>19</td><td>175</td><td>25.8</td><td>0.587</td><td>51</td><td>1</td></tr>\n",
              "\t<tr><td> 7</td><td>100</td><td> 0</td><td> 0</td><td>  0</td><td>30.0</td><td>0.484</td><td>32</td><td>1</td></tr>\n",
              "\t<tr><td> 0</td><td>118</td><td>84</td><td>47</td><td>230</td><td>45.8</td><td>0.551</td><td>31</td><td>1</td></tr>\n",
              "\t<tr><td> 7</td><td>107</td><td>74</td><td> 0</td><td>  0</td><td>29.6</td><td>0.254</td><td>31</td><td>1</td></tr>\n",
              "\t<tr><td> 1</td><td>103</td><td>30</td><td>38</td><td> 83</td><td>43.3</td><td>0.183</td><td>33</td><td>0</td></tr>\n",
              "\t<tr><td> 1</td><td>115</td><td>70</td><td>30</td><td> 96</td><td>34.6</td><td>0.529</td><td>32</td><td>1</td></tr>\n",
              "\t<tr><td> 3</td><td>126</td><td>88</td><td>41</td><td>235</td><td>39.3</td><td>0.704</td><td>27</td><td>0</td></tr>\n",
              "\t<tr><td> 8</td><td> 99</td><td>84</td><td> 0</td><td>  0</td><td>35.4</td><td>0.388</td><td>50</td><td>0</td></tr>\n",
              "\t<tr><td> 7</td><td>196</td><td>90</td><td> 0</td><td>  0</td><td>39.8</td><td>0.451</td><td>41</td><td>1</td></tr>\n",
              "\t<tr><td> 9</td><td>119</td><td>80</td><td>35</td><td>  0</td><td>29.0</td><td>0.263</td><td>29</td><td>1</td></tr>\n",
              "\t<tr><td>11</td><td>143</td><td>94</td><td>33</td><td>146</td><td>36.6</td><td>0.254</td><td>51</td><td>1</td></tr>\n",
              "\t<tr><td>10</td><td>125</td><td>70</td><td>26</td><td>115</td><td>31.1</td><td>0.205</td><td>41</td><td>1</td></tr>\n",
              "\t<tr><td> 7</td><td>147</td><td>76</td><td> 0</td><td>  0</td><td>39.4</td><td>0.257</td><td>43</td><td>1</td></tr>\n",
              "\t<tr><td> 1</td><td> 97</td><td>66</td><td>15</td><td>140</td><td>23.2</td><td>0.487</td><td>22</td><td>0</td></tr>\n",
              "\t<tr><td>13</td><td>145</td><td>82</td><td>19</td><td>110</td><td>22.2</td><td>0.245</td><td>57</td><td>0</td></tr>\n",
              "\t<tr><td> 5</td><td>117</td><td>92</td><td> 0</td><td>  0</td><td>34.1</td><td>0.337</td><td>38</td><td>0</td></tr>\n",
              "\t<tr><td>⋮</td><td>⋮</td><td>⋮</td><td>⋮</td><td>⋮</td><td>⋮</td><td>⋮</td><td>⋮</td><td>⋮</td></tr>\n",
              "\t<tr><td> 2</td><td> 99</td><td>60</td><td>17</td><td>160</td><td>36.6</td><td>0.453</td><td>21</td><td>0</td></tr>\n",
              "\t<tr><td> 1</td><td>102</td><td>74</td><td> 0</td><td>  0</td><td>39.5</td><td>0.293</td><td>42</td><td>1</td></tr>\n",
              "\t<tr><td>11</td><td>120</td><td>80</td><td>37</td><td>150</td><td>42.3</td><td>0.785</td><td>48</td><td>1</td></tr>\n",
              "\t<tr><td> 3</td><td>102</td><td>44</td><td>20</td><td> 94</td><td>30.8</td><td>0.400</td><td>26</td><td>0</td></tr>\n",
              "\t<tr><td> 1</td><td>109</td><td>58</td><td>18</td><td>116</td><td>28.5</td><td>0.219</td><td>22</td><td>0</td></tr>\n",
              "\t<tr><td> 9</td><td>140</td><td>94</td><td> 0</td><td>  0</td><td>32.7</td><td>0.734</td><td>45</td><td>1</td></tr>\n",
              "\t<tr><td>13</td><td>153</td><td>88</td><td>37</td><td>140</td><td>40.6</td><td>1.174</td><td>39</td><td>0</td></tr>\n",
              "\t<tr><td>12</td><td>100</td><td>84</td><td>33</td><td>105</td><td>30.0</td><td>0.488</td><td>46</td><td>0</td></tr>\n",
              "\t<tr><td> 1</td><td>147</td><td>94</td><td>41</td><td>  0</td><td>49.3</td><td>0.358</td><td>27</td><td>1</td></tr>\n",
              "\t<tr><td> 1</td><td> 81</td><td>74</td><td>41</td><td> 57</td><td>46.3</td><td>1.096</td><td>32</td><td>0</td></tr>\n",
              "\t<tr><td> 3</td><td>187</td><td>70</td><td>22</td><td>200</td><td>36.4</td><td>0.408</td><td>36</td><td>1</td></tr>\n",
              "\t<tr><td> 6</td><td>162</td><td>62</td><td> 0</td><td>  0</td><td>24.3</td><td>0.178</td><td>50</td><td>1</td></tr>\n",
              "\t<tr><td> 4</td><td>136</td><td>70</td><td> 0</td><td>  0</td><td>31.2</td><td>1.182</td><td>22</td><td>1</td></tr>\n",
              "\t<tr><td> 1</td><td>121</td><td>78</td><td>39</td><td> 74</td><td>39.0</td><td>0.261</td><td>28</td><td>0</td></tr>\n",
              "\t<tr><td> 3</td><td>108</td><td>62</td><td>24</td><td>  0</td><td>26.0</td><td>0.223</td><td>25</td><td>0</td></tr>\n",
              "\t<tr><td> 0</td><td>181</td><td>88</td><td>44</td><td>510</td><td>43.3</td><td>0.222</td><td>26</td><td>1</td></tr>\n",
              "\t<tr><td> 8</td><td>154</td><td>78</td><td>32</td><td>  0</td><td>32.4</td><td>0.443</td><td>45</td><td>1</td></tr>\n",
              "\t<tr><td> 1</td><td>128</td><td>88</td><td>39</td><td>110</td><td>36.5</td><td>1.057</td><td>37</td><td>1</td></tr>\n",
              "\t<tr><td> 7</td><td>137</td><td>90</td><td>41</td><td>  0</td><td>32.0</td><td>0.391</td><td>39</td><td>0</td></tr>\n",
              "\t<tr><td> 0</td><td>123</td><td>72</td><td> 0</td><td>  0</td><td>36.3</td><td>0.258</td><td>52</td><td>1</td></tr>\n",
              "\t<tr><td> 1</td><td>106</td><td>76</td><td> 0</td><td>  0</td><td>37.5</td><td>0.197</td><td>26</td><td>0</td></tr>\n",
              "\t<tr><td> 6</td><td>190</td><td>92</td><td> 0</td><td>  0</td><td>35.5</td><td>0.278</td><td>66</td><td>1</td></tr>\n",
              "\t<tr><td> 2</td><td> 88</td><td>58</td><td>26</td><td> 16</td><td>28.4</td><td>0.766</td><td>22</td><td>0</td></tr>\n",
              "\t<tr><td> 9</td><td>170</td><td>74</td><td>31</td><td>  0</td><td>44.0</td><td>0.403</td><td>43</td><td>1</td></tr>\n",
              "\t<tr><td> 9</td><td> 89</td><td>62</td><td> 0</td><td>  0</td><td>22.5</td><td>0.142</td><td>33</td><td>0</td></tr>\n",
              "\t<tr><td>10</td><td>101</td><td>76</td><td>48</td><td>180</td><td>32.9</td><td>0.171</td><td>63</td><td>0</td></tr>\n",
              "\t<tr><td> 2</td><td>122</td><td>70</td><td>27</td><td>  0</td><td>36.8</td><td>0.340</td><td>27</td><td>0</td></tr>\n",
              "\t<tr><td> 5</td><td>121</td><td>72</td><td>23</td><td>112</td><td>26.2</td><td>0.245</td><td>30</td><td>0</td></tr>\n",
              "\t<tr><td> 1</td><td>126</td><td>60</td><td> 0</td><td>  0</td><td>30.1</td><td>0.349</td><td>47</td><td>1</td></tr>\n",
              "\t<tr><td> 1</td><td> 93</td><td>70</td><td>31</td><td>  0</td><td>30.4</td><td>0.315</td><td>23</td><td>0</td></tr>\n",
              "</tbody>\n",
              "</table>\n"
            ],
            "text/markdown": "\nA data.frame: 768 × 9\n\n| Pregnancies &lt;int&gt; | Glucose &lt;int&gt; | BloodPressure &lt;int&gt; | SkinThickness &lt;int&gt; | Insulin &lt;int&gt; | BMI &lt;dbl&gt; | DiabetesPedigreeFunction &lt;dbl&gt; | Age &lt;int&gt; | Outcome &lt;int&gt; |\n|---|---|---|---|---|---|---|---|---|\n|  6 | 148 | 72 | 35 |   0 | 33.6 | 0.627 | 50 | 1 |\n|  1 |  85 | 66 | 29 |   0 | 26.6 | 0.351 | 31 | 0 |\n|  8 | 183 | 64 |  0 |   0 | 23.3 | 0.672 | 32 | 1 |\n|  1 |  89 | 66 | 23 |  94 | 28.1 | 0.167 | 21 | 0 |\n|  0 | 137 | 40 | 35 | 168 | 43.1 | 2.288 | 33 | 1 |\n|  5 | 116 | 74 |  0 |   0 | 25.6 | 0.201 | 30 | 0 |\n|  3 |  78 | 50 | 32 |  88 | 31.0 | 0.248 | 26 | 1 |\n| 10 | 115 |  0 |  0 |   0 | 35.3 | 0.134 | 29 | 0 |\n|  2 | 197 | 70 | 45 | 543 | 30.5 | 0.158 | 53 | 1 |\n|  8 | 125 | 96 |  0 |   0 |  0.0 | 0.232 | 54 | 1 |\n|  4 | 110 | 92 |  0 |   0 | 37.6 | 0.191 | 30 | 0 |\n| 10 | 168 | 74 |  0 |   0 | 38.0 | 0.537 | 34 | 1 |\n| 10 | 139 | 80 |  0 |   0 | 27.1 | 1.441 | 57 | 0 |\n|  1 | 189 | 60 | 23 | 846 | 30.1 | 0.398 | 59 | 1 |\n|  5 | 166 | 72 | 19 | 175 | 25.8 | 0.587 | 51 | 1 |\n|  7 | 100 |  0 |  0 |   0 | 30.0 | 0.484 | 32 | 1 |\n|  0 | 118 | 84 | 47 | 230 | 45.8 | 0.551 | 31 | 1 |\n|  7 | 107 | 74 |  0 |   0 | 29.6 | 0.254 | 31 | 1 |\n|  1 | 103 | 30 | 38 |  83 | 43.3 | 0.183 | 33 | 0 |\n|  1 | 115 | 70 | 30 |  96 | 34.6 | 0.529 | 32 | 1 |\n|  3 | 126 | 88 | 41 | 235 | 39.3 | 0.704 | 27 | 0 |\n|  8 |  99 | 84 |  0 |   0 | 35.4 | 0.388 | 50 | 0 |\n|  7 | 196 | 90 |  0 |   0 | 39.8 | 0.451 | 41 | 1 |\n|  9 | 119 | 80 | 35 |   0 | 29.0 | 0.263 | 29 | 1 |\n| 11 | 143 | 94 | 33 | 146 | 36.6 | 0.254 | 51 | 1 |\n| 10 | 125 | 70 | 26 | 115 | 31.1 | 0.205 | 41 | 1 |\n|  7 | 147 | 76 |  0 |   0 | 39.4 | 0.257 | 43 | 1 |\n|  1 |  97 | 66 | 15 | 140 | 23.2 | 0.487 | 22 | 0 |\n| 13 | 145 | 82 | 19 | 110 | 22.2 | 0.245 | 57 | 0 |\n|  5 | 117 | 92 |  0 |   0 | 34.1 | 0.337 | 38 | 0 |\n| ⋮ | ⋮ | ⋮ | ⋮ | ⋮ | ⋮ | ⋮ | ⋮ | ⋮ |\n|  2 |  99 | 60 | 17 | 160 | 36.6 | 0.453 | 21 | 0 |\n|  1 | 102 | 74 |  0 |   0 | 39.5 | 0.293 | 42 | 1 |\n| 11 | 120 | 80 | 37 | 150 | 42.3 | 0.785 | 48 | 1 |\n|  3 | 102 | 44 | 20 |  94 | 30.8 | 0.400 | 26 | 0 |\n|  1 | 109 | 58 | 18 | 116 | 28.5 | 0.219 | 22 | 0 |\n|  9 | 140 | 94 |  0 |   0 | 32.7 | 0.734 | 45 | 1 |\n| 13 | 153 | 88 | 37 | 140 | 40.6 | 1.174 | 39 | 0 |\n| 12 | 100 | 84 | 33 | 105 | 30.0 | 0.488 | 46 | 0 |\n|  1 | 147 | 94 | 41 |   0 | 49.3 | 0.358 | 27 | 1 |\n|  1 |  81 | 74 | 41 |  57 | 46.3 | 1.096 | 32 | 0 |\n|  3 | 187 | 70 | 22 | 200 | 36.4 | 0.408 | 36 | 1 |\n|  6 | 162 | 62 |  0 |   0 | 24.3 | 0.178 | 50 | 1 |\n|  4 | 136 | 70 |  0 |   0 | 31.2 | 1.182 | 22 | 1 |\n|  1 | 121 | 78 | 39 |  74 | 39.0 | 0.261 | 28 | 0 |\n|  3 | 108 | 62 | 24 |   0 | 26.0 | 0.223 | 25 | 0 |\n|  0 | 181 | 88 | 44 | 510 | 43.3 | 0.222 | 26 | 1 |\n|  8 | 154 | 78 | 32 |   0 | 32.4 | 0.443 | 45 | 1 |\n|  1 | 128 | 88 | 39 | 110 | 36.5 | 1.057 | 37 | 1 |\n|  7 | 137 | 90 | 41 |   0 | 32.0 | 0.391 | 39 | 0 |\n|  0 | 123 | 72 |  0 |   0 | 36.3 | 0.258 | 52 | 1 |\n|  1 | 106 | 76 |  0 |   0 | 37.5 | 0.197 | 26 | 0 |\n|  6 | 190 | 92 |  0 |   0 | 35.5 | 0.278 | 66 | 1 |\n|  2 |  88 | 58 | 26 |  16 | 28.4 | 0.766 | 22 | 0 |\n|  9 | 170 | 74 | 31 |   0 | 44.0 | 0.403 | 43 | 1 |\n|  9 |  89 | 62 |  0 |   0 | 22.5 | 0.142 | 33 | 0 |\n| 10 | 101 | 76 | 48 | 180 | 32.9 | 0.171 | 63 | 0 |\n|  2 | 122 | 70 | 27 |   0 | 36.8 | 0.340 | 27 | 0 |\n|  5 | 121 | 72 | 23 | 112 | 26.2 | 0.245 | 30 | 0 |\n|  1 | 126 | 60 |  0 |   0 | 30.1 | 0.349 | 47 | 1 |\n|  1 |  93 | 70 | 31 |   0 | 30.4 | 0.315 | 23 | 0 |\n\n",
            "text/latex": "A data.frame: 768 × 9\n\\begin{tabular}{lllllllll}\n Pregnancies & Glucose & BloodPressure & SkinThickness & Insulin & BMI & DiabetesPedigreeFunction & Age & Outcome\\\\\n <int> & <int> & <int> & <int> & <int> & <dbl> & <dbl> & <int> & <int>\\\\\n\\hline\n\t  6 & 148 & 72 & 35 &   0 & 33.6 & 0.627 & 50 & 1\\\\\n\t  1 &  85 & 66 & 29 &   0 & 26.6 & 0.351 & 31 & 0\\\\\n\t  8 & 183 & 64 &  0 &   0 & 23.3 & 0.672 & 32 & 1\\\\\n\t  1 &  89 & 66 & 23 &  94 & 28.1 & 0.167 & 21 & 0\\\\\n\t  0 & 137 & 40 & 35 & 168 & 43.1 & 2.288 & 33 & 1\\\\\n\t  5 & 116 & 74 &  0 &   0 & 25.6 & 0.201 & 30 & 0\\\\\n\t  3 &  78 & 50 & 32 &  88 & 31.0 & 0.248 & 26 & 1\\\\\n\t 10 & 115 &  0 &  0 &   0 & 35.3 & 0.134 & 29 & 0\\\\\n\t  2 & 197 & 70 & 45 & 543 & 30.5 & 0.158 & 53 & 1\\\\\n\t  8 & 125 & 96 &  0 &   0 &  0.0 & 0.232 & 54 & 1\\\\\n\t  4 & 110 & 92 &  0 &   0 & 37.6 & 0.191 & 30 & 0\\\\\n\t 10 & 168 & 74 &  0 &   0 & 38.0 & 0.537 & 34 & 1\\\\\n\t 10 & 139 & 80 &  0 &   0 & 27.1 & 1.441 & 57 & 0\\\\\n\t  1 & 189 & 60 & 23 & 846 & 30.1 & 0.398 & 59 & 1\\\\\n\t  5 & 166 & 72 & 19 & 175 & 25.8 & 0.587 & 51 & 1\\\\\n\t  7 & 100 &  0 &  0 &   0 & 30.0 & 0.484 & 32 & 1\\\\\n\t  0 & 118 & 84 & 47 & 230 & 45.8 & 0.551 & 31 & 1\\\\\n\t  7 & 107 & 74 &  0 &   0 & 29.6 & 0.254 & 31 & 1\\\\\n\t  1 & 103 & 30 & 38 &  83 & 43.3 & 0.183 & 33 & 0\\\\\n\t  1 & 115 & 70 & 30 &  96 & 34.6 & 0.529 & 32 & 1\\\\\n\t  3 & 126 & 88 & 41 & 235 & 39.3 & 0.704 & 27 & 0\\\\\n\t  8 &  99 & 84 &  0 &   0 & 35.4 & 0.388 & 50 & 0\\\\\n\t  7 & 196 & 90 &  0 &   0 & 39.8 & 0.451 & 41 & 1\\\\\n\t  9 & 119 & 80 & 35 &   0 & 29.0 & 0.263 & 29 & 1\\\\\n\t 11 & 143 & 94 & 33 & 146 & 36.6 & 0.254 & 51 & 1\\\\\n\t 10 & 125 & 70 & 26 & 115 & 31.1 & 0.205 & 41 & 1\\\\\n\t  7 & 147 & 76 &  0 &   0 & 39.4 & 0.257 & 43 & 1\\\\\n\t  1 &  97 & 66 & 15 & 140 & 23.2 & 0.487 & 22 & 0\\\\\n\t 13 & 145 & 82 & 19 & 110 & 22.2 & 0.245 & 57 & 0\\\\\n\t  5 & 117 & 92 &  0 &   0 & 34.1 & 0.337 & 38 & 0\\\\\n\t ⋮ & ⋮ & ⋮ & ⋮ & ⋮ & ⋮ & ⋮ & ⋮ & ⋮\\\\\n\t  2 &  99 & 60 & 17 & 160 & 36.6 & 0.453 & 21 & 0\\\\\n\t  1 & 102 & 74 &  0 &   0 & 39.5 & 0.293 & 42 & 1\\\\\n\t 11 & 120 & 80 & 37 & 150 & 42.3 & 0.785 & 48 & 1\\\\\n\t  3 & 102 & 44 & 20 &  94 & 30.8 & 0.400 & 26 & 0\\\\\n\t  1 & 109 & 58 & 18 & 116 & 28.5 & 0.219 & 22 & 0\\\\\n\t  9 & 140 & 94 &  0 &   0 & 32.7 & 0.734 & 45 & 1\\\\\n\t 13 & 153 & 88 & 37 & 140 & 40.6 & 1.174 & 39 & 0\\\\\n\t 12 & 100 & 84 & 33 & 105 & 30.0 & 0.488 & 46 & 0\\\\\n\t  1 & 147 & 94 & 41 &   0 & 49.3 & 0.358 & 27 & 1\\\\\n\t  1 &  81 & 74 & 41 &  57 & 46.3 & 1.096 & 32 & 0\\\\\n\t  3 & 187 & 70 & 22 & 200 & 36.4 & 0.408 & 36 & 1\\\\\n\t  6 & 162 & 62 &  0 &   0 & 24.3 & 0.178 & 50 & 1\\\\\n\t  4 & 136 & 70 &  0 &   0 & 31.2 & 1.182 & 22 & 1\\\\\n\t  1 & 121 & 78 & 39 &  74 & 39.0 & 0.261 & 28 & 0\\\\\n\t  3 & 108 & 62 & 24 &   0 & 26.0 & 0.223 & 25 & 0\\\\\n\t  0 & 181 & 88 & 44 & 510 & 43.3 & 0.222 & 26 & 1\\\\\n\t  8 & 154 & 78 & 32 &   0 & 32.4 & 0.443 & 45 & 1\\\\\n\t  1 & 128 & 88 & 39 & 110 & 36.5 & 1.057 & 37 & 1\\\\\n\t  7 & 137 & 90 & 41 &   0 & 32.0 & 0.391 & 39 & 0\\\\\n\t  0 & 123 & 72 &  0 &   0 & 36.3 & 0.258 & 52 & 1\\\\\n\t  1 & 106 & 76 &  0 &   0 & 37.5 & 0.197 & 26 & 0\\\\\n\t  6 & 190 & 92 &  0 &   0 & 35.5 & 0.278 & 66 & 1\\\\\n\t  2 &  88 & 58 & 26 &  16 & 28.4 & 0.766 & 22 & 0\\\\\n\t  9 & 170 & 74 & 31 &   0 & 44.0 & 0.403 & 43 & 1\\\\\n\t  9 &  89 & 62 &  0 &   0 & 22.5 & 0.142 & 33 & 0\\\\\n\t 10 & 101 & 76 & 48 & 180 & 32.9 & 0.171 & 63 & 0\\\\\n\t  2 & 122 & 70 & 27 &   0 & 36.8 & 0.340 & 27 & 0\\\\\n\t  5 & 121 & 72 & 23 & 112 & 26.2 & 0.245 & 30 & 0\\\\\n\t  1 & 126 & 60 &  0 &   0 & 30.1 & 0.349 & 47 & 1\\\\\n\t  1 &  93 & 70 & 31 &   0 & 30.4 & 0.315 & 23 & 0\\\\\n\\end{tabular}\n",
            "text/plain": [
              "    Pregnancies Glucose BloodPressure SkinThickness Insulin BMI \n",
              "1    6          148     72            35              0     33.6\n",
              "2    1           85     66            29              0     26.6\n",
              "3    8          183     64             0              0     23.3\n",
              "4    1           89     66            23             94     28.1\n",
              "5    0          137     40            35            168     43.1\n",
              "6    5          116     74             0              0     25.6\n",
              "7    3           78     50            32             88     31.0\n",
              "8   10          115      0             0              0     35.3\n",
              "9    2          197     70            45            543     30.5\n",
              "10   8          125     96             0              0      0.0\n",
              "11   4          110     92             0              0     37.6\n",
              "12  10          168     74             0              0     38.0\n",
              "13  10          139     80             0              0     27.1\n",
              "14   1          189     60            23            846     30.1\n",
              "15   5          166     72            19            175     25.8\n",
              "16   7          100      0             0              0     30.0\n",
              "17   0          118     84            47            230     45.8\n",
              "18   7          107     74             0              0     29.6\n",
              "19   1          103     30            38             83     43.3\n",
              "20   1          115     70            30             96     34.6\n",
              "21   3          126     88            41            235     39.3\n",
              "22   8           99     84             0              0     35.4\n",
              "23   7          196     90             0              0     39.8\n",
              "24   9          119     80            35              0     29.0\n",
              "25  11          143     94            33            146     36.6\n",
              "26  10          125     70            26            115     31.1\n",
              "27   7          147     76             0              0     39.4\n",
              "28   1           97     66            15            140     23.2\n",
              "29  13          145     82            19            110     22.2\n",
              "30   5          117     92             0              0     34.1\n",
              "⋮   ⋮           ⋮       ⋮             ⋮             ⋮       ⋮   \n",
              "739  2           99     60            17            160     36.6\n",
              "740  1          102     74             0              0     39.5\n",
              "741 11          120     80            37            150     42.3\n",
              "742  3          102     44            20             94     30.8\n",
              "743  1          109     58            18            116     28.5\n",
              "744  9          140     94             0              0     32.7\n",
              "745 13          153     88            37            140     40.6\n",
              "746 12          100     84            33            105     30.0\n",
              "747  1          147     94            41              0     49.3\n",
              "748  1           81     74            41             57     46.3\n",
              "749  3          187     70            22            200     36.4\n",
              "750  6          162     62             0              0     24.3\n",
              "751  4          136     70             0              0     31.2\n",
              "752  1          121     78            39             74     39.0\n",
              "753  3          108     62            24              0     26.0\n",
              "754  0          181     88            44            510     43.3\n",
              "755  8          154     78            32              0     32.4\n",
              "756  1          128     88            39            110     36.5\n",
              "757  7          137     90            41              0     32.0\n",
              "758  0          123     72             0              0     36.3\n",
              "759  1          106     76             0              0     37.5\n",
              "760  6          190     92             0              0     35.5\n",
              "761  2           88     58            26             16     28.4\n",
              "762  9          170     74            31              0     44.0\n",
              "763  9           89     62             0              0     22.5\n",
              "764 10          101     76            48            180     32.9\n",
              "765  2          122     70            27              0     36.8\n",
              "766  5          121     72            23            112     26.2\n",
              "767  1          126     60             0              0     30.1\n",
              "768  1           93     70            31              0     30.4\n",
              "    DiabetesPedigreeFunction Age Outcome\n",
              "1   0.627                    50  1      \n",
              "2   0.351                    31  0      \n",
              "3   0.672                    32  1      \n",
              "4   0.167                    21  0      \n",
              "5   2.288                    33  1      \n",
              "6   0.201                    30  0      \n",
              "7   0.248                    26  1      \n",
              "8   0.134                    29  0      \n",
              "9   0.158                    53  1      \n",
              "10  0.232                    54  1      \n",
              "11  0.191                    30  0      \n",
              "12  0.537                    34  1      \n",
              "13  1.441                    57  0      \n",
              "14  0.398                    59  1      \n",
              "15  0.587                    51  1      \n",
              "16  0.484                    32  1      \n",
              "17  0.551                    31  1      \n",
              "18  0.254                    31  1      \n",
              "19  0.183                    33  0      \n",
              "20  0.529                    32  1      \n",
              "21  0.704                    27  0      \n",
              "22  0.388                    50  0      \n",
              "23  0.451                    41  1      \n",
              "24  0.263                    29  1      \n",
              "25  0.254                    51  1      \n",
              "26  0.205                    41  1      \n",
              "27  0.257                    43  1      \n",
              "28  0.487                    22  0      \n",
              "29  0.245                    57  0      \n",
              "30  0.337                    38  0      \n",
              "⋮   ⋮                        ⋮   ⋮      \n",
              "739 0.453                    21  0      \n",
              "740 0.293                    42  1      \n",
              "741 0.785                    48  1      \n",
              "742 0.400                    26  0      \n",
              "743 0.219                    22  0      \n",
              "744 0.734                    45  1      \n",
              "745 1.174                    39  0      \n",
              "746 0.488                    46  0      \n",
              "747 0.358                    27  1      \n",
              "748 1.096                    32  0      \n",
              "749 0.408                    36  1      \n",
              "750 0.178                    50  1      \n",
              "751 1.182                    22  1      \n",
              "752 0.261                    28  0      \n",
              "753 0.223                    25  0      \n",
              "754 0.222                    26  1      \n",
              "755 0.443                    45  1      \n",
              "756 1.057                    37  1      \n",
              "757 0.391                    39  0      \n",
              "758 0.258                    52  1      \n",
              "759 0.197                    26  0      \n",
              "760 0.278                    66  1      \n",
              "761 0.766                    22  0      \n",
              "762 0.403                    43  1      \n",
              "763 0.142                    33  0      \n",
              "764 0.171                    63  0      \n",
              "765 0.340                    27  0      \n",
              "766 0.245                    30  0      \n",
              "767 0.349                    47  1      \n",
              "768 0.315                    23  0      "
            ]
          },
          "metadata": {}
        }
      ],
      "source": [
        "pima <- read.csv(\"https://raw.githubusercontent.com/gazzola/pima_dataset/refs/heads/main/diabetes.csv\")\n",
        "pima"
      ]
    },
    {
      "cell_type": "code",
      "source": [
        "# Resumo das informações\n",
        "summary(pima)"
      ],
      "metadata": {
        "colab": {
          "base_uri": "https://localhost:8080/",
          "height": 381
        },
        "id": "n-gGJ-1MQko-",
        "outputId": "90ca97ab-b5ad-4754-a70b-1f6943aa0d35"
      },
      "execution_count": null,
      "outputs": [
        {
          "output_type": "display_data",
          "data": {
            "text/plain": [
              "  Pregnancies        Glucose      BloodPressure    SkinThickness  \n",
              " Min.   : 0.000   Min.   :  0.0   Min.   :  0.00   Min.   : 0.00  \n",
              " 1st Qu.: 1.000   1st Qu.: 99.0   1st Qu.: 62.00   1st Qu.: 0.00  \n",
              " Median : 3.000   Median :117.0   Median : 72.00   Median :23.00  \n",
              " Mean   : 3.845   Mean   :120.9   Mean   : 69.11   Mean   :20.54  \n",
              " 3rd Qu.: 6.000   3rd Qu.:140.2   3rd Qu.: 80.00   3rd Qu.:32.00  \n",
              " Max.   :17.000   Max.   :199.0   Max.   :122.00   Max.   :99.00  \n",
              "    Insulin           BMI        DiabetesPedigreeFunction      Age       \n",
              " Min.   :  0.0   Min.   : 0.00   Min.   :0.0780           Min.   :21.00  \n",
              " 1st Qu.:  0.0   1st Qu.:27.30   1st Qu.:0.2437           1st Qu.:24.00  \n",
              " Median : 30.5   Median :32.00   Median :0.3725           Median :29.00  \n",
              " Mean   : 79.8   Mean   :31.99   Mean   :0.4719           Mean   :33.24  \n",
              " 3rd Qu.:127.2   3rd Qu.:36.60   3rd Qu.:0.6262           3rd Qu.:41.00  \n",
              " Max.   :846.0   Max.   :67.10   Max.   :2.4200           Max.   :81.00  \n",
              "    Outcome     \n",
              " Min.   :0.000  \n",
              " 1st Qu.:0.000  \n",
              " Median :0.000  \n",
              " Mean   :0.349  \n",
              " 3rd Qu.:1.000  \n",
              " Max.   :1.000  "
            ]
          },
          "metadata": {}
        }
      ]
    },
    {
      "cell_type": "code",
      "source": [
        "# Pega as N primeiras linhas (6 por padrão)\n",
        "head(pima)"
      ],
      "metadata": {
        "colab": {
          "base_uri": "https://localhost:8080/",
          "height": 286
        },
        "id": "ET2jXfNBSLl3",
        "outputId": "8d73f617-9acc-4e3e-a402-f2b5d9060a32"
      },
      "execution_count": null,
      "outputs": [
        {
          "output_type": "display_data",
          "data": {
            "text/html": [
              "<table class=\"dataframe\">\n",
              "<caption>A data.frame: 6 × 9</caption>\n",
              "<thead>\n",
              "\t<tr><th></th><th scope=col>Pregnancies</th><th scope=col>Glucose</th><th scope=col>BloodPressure</th><th scope=col>SkinThickness</th><th scope=col>Insulin</th><th scope=col>BMI</th><th scope=col>DiabetesPedigreeFunction</th><th scope=col>Age</th><th scope=col>Outcome</th></tr>\n",
              "\t<tr><th></th><th scope=col>&lt;int&gt;</th><th scope=col>&lt;int&gt;</th><th scope=col>&lt;int&gt;</th><th scope=col>&lt;int&gt;</th><th scope=col>&lt;int&gt;</th><th scope=col>&lt;dbl&gt;</th><th scope=col>&lt;dbl&gt;</th><th scope=col>&lt;int&gt;</th><th scope=col>&lt;int&gt;</th></tr>\n",
              "</thead>\n",
              "<tbody>\n",
              "\t<tr><th scope=row>1</th><td>6</td><td>148</td><td>72</td><td>35</td><td>  0</td><td>33.6</td><td>0.627</td><td>50</td><td>1</td></tr>\n",
              "\t<tr><th scope=row>2</th><td>1</td><td> 85</td><td>66</td><td>29</td><td>  0</td><td>26.6</td><td>0.351</td><td>31</td><td>0</td></tr>\n",
              "\t<tr><th scope=row>3</th><td>8</td><td>183</td><td>64</td><td> 0</td><td>  0</td><td>23.3</td><td>0.672</td><td>32</td><td>1</td></tr>\n",
              "\t<tr><th scope=row>4</th><td>1</td><td> 89</td><td>66</td><td>23</td><td> 94</td><td>28.1</td><td>0.167</td><td>21</td><td>0</td></tr>\n",
              "\t<tr><th scope=row>5</th><td>0</td><td>137</td><td>40</td><td>35</td><td>168</td><td>43.1</td><td>2.288</td><td>33</td><td>1</td></tr>\n",
              "\t<tr><th scope=row>6</th><td>5</td><td>116</td><td>74</td><td> 0</td><td>  0</td><td>25.6</td><td>0.201</td><td>30</td><td>0</td></tr>\n",
              "</tbody>\n",
              "</table>\n"
            ],
            "text/markdown": "\nA data.frame: 6 × 9\n\n| <!--/--> | Pregnancies &lt;int&gt; | Glucose &lt;int&gt; | BloodPressure &lt;int&gt; | SkinThickness &lt;int&gt; | Insulin &lt;int&gt; | BMI &lt;dbl&gt; | DiabetesPedigreeFunction &lt;dbl&gt; | Age &lt;int&gt; | Outcome &lt;int&gt; |\n|---|---|---|---|---|---|---|---|---|---|\n| 1 | 6 | 148 | 72 | 35 |   0 | 33.6 | 0.627 | 50 | 1 |\n| 2 | 1 |  85 | 66 | 29 |   0 | 26.6 | 0.351 | 31 | 0 |\n| 3 | 8 | 183 | 64 |  0 |   0 | 23.3 | 0.672 | 32 | 1 |\n| 4 | 1 |  89 | 66 | 23 |  94 | 28.1 | 0.167 | 21 | 0 |\n| 5 | 0 | 137 | 40 | 35 | 168 | 43.1 | 2.288 | 33 | 1 |\n| 6 | 5 | 116 | 74 |  0 |   0 | 25.6 | 0.201 | 30 | 0 |\n\n",
            "text/latex": "A data.frame: 6 × 9\n\\begin{tabular}{r|lllllllll}\n  & Pregnancies & Glucose & BloodPressure & SkinThickness & Insulin & BMI & DiabetesPedigreeFunction & Age & Outcome\\\\\n  & <int> & <int> & <int> & <int> & <int> & <dbl> & <dbl> & <int> & <int>\\\\\n\\hline\n\t1 & 6 & 148 & 72 & 35 &   0 & 33.6 & 0.627 & 50 & 1\\\\\n\t2 & 1 &  85 & 66 & 29 &   0 & 26.6 & 0.351 & 31 & 0\\\\\n\t3 & 8 & 183 & 64 &  0 &   0 & 23.3 & 0.672 & 32 & 1\\\\\n\t4 & 1 &  89 & 66 & 23 &  94 & 28.1 & 0.167 & 21 & 0\\\\\n\t5 & 0 & 137 & 40 & 35 & 168 & 43.1 & 2.288 & 33 & 1\\\\\n\t6 & 5 & 116 & 74 &  0 &   0 & 25.6 & 0.201 & 30 & 0\\\\\n\\end{tabular}\n",
            "text/plain": [
              "  Pregnancies Glucose BloodPressure SkinThickness Insulin BMI \n",
              "1 6           148     72            35              0     33.6\n",
              "2 1            85     66            29              0     26.6\n",
              "3 8           183     64             0              0     23.3\n",
              "4 1            89     66            23             94     28.1\n",
              "5 0           137     40            35            168     43.1\n",
              "6 5           116     74             0              0     25.6\n",
              "  DiabetesPedigreeFunction Age Outcome\n",
              "1 0.627                    50  1      \n",
              "2 0.351                    31  0      \n",
              "3 0.672                    32  1      \n",
              "4 0.167                    21  0      \n",
              "5 2.288                    33  1      \n",
              "6 0.201                    30  0      "
            ]
          },
          "metadata": {}
        }
      ]
    },
    {
      "cell_type": "code",
      "source": [
        "# Pega as primeiras 28 linhas\n",
        "head(pima,28)"
      ],
      "metadata": {
        "colab": {
          "base_uri": "https://localhost:8080/",
          "height": 976
        },
        "id": "WREjt8vYSzp1",
        "outputId": "123bc121-8541-4ef9-b48c-4459fb10a157"
      },
      "execution_count": null,
      "outputs": [
        {
          "output_type": "display_data",
          "data": {
            "text/html": [
              "<table class=\"dataframe\">\n",
              "<caption>A data.frame: 28 × 9</caption>\n",
              "<thead>\n",
              "\t<tr><th></th><th scope=col>Pregnancies</th><th scope=col>Glucose</th><th scope=col>BloodPressure</th><th scope=col>SkinThickness</th><th scope=col>Insulin</th><th scope=col>BMI</th><th scope=col>DiabetesPedigreeFunction</th><th scope=col>Age</th><th scope=col>Outcome</th></tr>\n",
              "\t<tr><th></th><th scope=col>&lt;int&gt;</th><th scope=col>&lt;int&gt;</th><th scope=col>&lt;int&gt;</th><th scope=col>&lt;int&gt;</th><th scope=col>&lt;int&gt;</th><th scope=col>&lt;dbl&gt;</th><th scope=col>&lt;dbl&gt;</th><th scope=col>&lt;int&gt;</th><th scope=col>&lt;int&gt;</th></tr>\n",
              "</thead>\n",
              "<tbody>\n",
              "\t<tr><th scope=row>1</th><td> 6</td><td>148</td><td>72</td><td>35</td><td>  0</td><td>33.6</td><td>0.627</td><td>50</td><td>1</td></tr>\n",
              "\t<tr><th scope=row>2</th><td> 1</td><td> 85</td><td>66</td><td>29</td><td>  0</td><td>26.6</td><td>0.351</td><td>31</td><td>0</td></tr>\n",
              "\t<tr><th scope=row>3</th><td> 8</td><td>183</td><td>64</td><td> 0</td><td>  0</td><td>23.3</td><td>0.672</td><td>32</td><td>1</td></tr>\n",
              "\t<tr><th scope=row>4</th><td> 1</td><td> 89</td><td>66</td><td>23</td><td> 94</td><td>28.1</td><td>0.167</td><td>21</td><td>0</td></tr>\n",
              "\t<tr><th scope=row>5</th><td> 0</td><td>137</td><td>40</td><td>35</td><td>168</td><td>43.1</td><td>2.288</td><td>33</td><td>1</td></tr>\n",
              "\t<tr><th scope=row>6</th><td> 5</td><td>116</td><td>74</td><td> 0</td><td>  0</td><td>25.6</td><td>0.201</td><td>30</td><td>0</td></tr>\n",
              "\t<tr><th scope=row>7</th><td> 3</td><td> 78</td><td>50</td><td>32</td><td> 88</td><td>31.0</td><td>0.248</td><td>26</td><td>1</td></tr>\n",
              "\t<tr><th scope=row>8</th><td>10</td><td>115</td><td> 0</td><td> 0</td><td>  0</td><td>35.3</td><td>0.134</td><td>29</td><td>0</td></tr>\n",
              "\t<tr><th scope=row>9</th><td> 2</td><td>197</td><td>70</td><td>45</td><td>543</td><td>30.5</td><td>0.158</td><td>53</td><td>1</td></tr>\n",
              "\t<tr><th scope=row>10</th><td> 8</td><td>125</td><td>96</td><td> 0</td><td>  0</td><td> 0.0</td><td>0.232</td><td>54</td><td>1</td></tr>\n",
              "\t<tr><th scope=row>11</th><td> 4</td><td>110</td><td>92</td><td> 0</td><td>  0</td><td>37.6</td><td>0.191</td><td>30</td><td>0</td></tr>\n",
              "\t<tr><th scope=row>12</th><td>10</td><td>168</td><td>74</td><td> 0</td><td>  0</td><td>38.0</td><td>0.537</td><td>34</td><td>1</td></tr>\n",
              "\t<tr><th scope=row>13</th><td>10</td><td>139</td><td>80</td><td> 0</td><td>  0</td><td>27.1</td><td>1.441</td><td>57</td><td>0</td></tr>\n",
              "\t<tr><th scope=row>14</th><td> 1</td><td>189</td><td>60</td><td>23</td><td>846</td><td>30.1</td><td>0.398</td><td>59</td><td>1</td></tr>\n",
              "\t<tr><th scope=row>15</th><td> 5</td><td>166</td><td>72</td><td>19</td><td>175</td><td>25.8</td><td>0.587</td><td>51</td><td>1</td></tr>\n",
              "\t<tr><th scope=row>16</th><td> 7</td><td>100</td><td> 0</td><td> 0</td><td>  0</td><td>30.0</td><td>0.484</td><td>32</td><td>1</td></tr>\n",
              "\t<tr><th scope=row>17</th><td> 0</td><td>118</td><td>84</td><td>47</td><td>230</td><td>45.8</td><td>0.551</td><td>31</td><td>1</td></tr>\n",
              "\t<tr><th scope=row>18</th><td> 7</td><td>107</td><td>74</td><td> 0</td><td>  0</td><td>29.6</td><td>0.254</td><td>31</td><td>1</td></tr>\n",
              "\t<tr><th scope=row>19</th><td> 1</td><td>103</td><td>30</td><td>38</td><td> 83</td><td>43.3</td><td>0.183</td><td>33</td><td>0</td></tr>\n",
              "\t<tr><th scope=row>20</th><td> 1</td><td>115</td><td>70</td><td>30</td><td> 96</td><td>34.6</td><td>0.529</td><td>32</td><td>1</td></tr>\n",
              "\t<tr><th scope=row>21</th><td> 3</td><td>126</td><td>88</td><td>41</td><td>235</td><td>39.3</td><td>0.704</td><td>27</td><td>0</td></tr>\n",
              "\t<tr><th scope=row>22</th><td> 8</td><td> 99</td><td>84</td><td> 0</td><td>  0</td><td>35.4</td><td>0.388</td><td>50</td><td>0</td></tr>\n",
              "\t<tr><th scope=row>23</th><td> 7</td><td>196</td><td>90</td><td> 0</td><td>  0</td><td>39.8</td><td>0.451</td><td>41</td><td>1</td></tr>\n",
              "\t<tr><th scope=row>24</th><td> 9</td><td>119</td><td>80</td><td>35</td><td>  0</td><td>29.0</td><td>0.263</td><td>29</td><td>1</td></tr>\n",
              "\t<tr><th scope=row>25</th><td>11</td><td>143</td><td>94</td><td>33</td><td>146</td><td>36.6</td><td>0.254</td><td>51</td><td>1</td></tr>\n",
              "\t<tr><th scope=row>26</th><td>10</td><td>125</td><td>70</td><td>26</td><td>115</td><td>31.1</td><td>0.205</td><td>41</td><td>1</td></tr>\n",
              "\t<tr><th scope=row>27</th><td> 7</td><td>147</td><td>76</td><td> 0</td><td>  0</td><td>39.4</td><td>0.257</td><td>43</td><td>1</td></tr>\n",
              "\t<tr><th scope=row>28</th><td> 1</td><td> 97</td><td>66</td><td>15</td><td>140</td><td>23.2</td><td>0.487</td><td>22</td><td>0</td></tr>\n",
              "</tbody>\n",
              "</table>\n"
            ],
            "text/markdown": "\nA data.frame: 28 × 9\n\n| <!--/--> | Pregnancies &lt;int&gt; | Glucose &lt;int&gt; | BloodPressure &lt;int&gt; | SkinThickness &lt;int&gt; | Insulin &lt;int&gt; | BMI &lt;dbl&gt; | DiabetesPedigreeFunction &lt;dbl&gt; | Age &lt;int&gt; | Outcome &lt;int&gt; |\n|---|---|---|---|---|---|---|---|---|---|\n| 1 |  6 | 148 | 72 | 35 |   0 | 33.6 | 0.627 | 50 | 1 |\n| 2 |  1 |  85 | 66 | 29 |   0 | 26.6 | 0.351 | 31 | 0 |\n| 3 |  8 | 183 | 64 |  0 |   0 | 23.3 | 0.672 | 32 | 1 |\n| 4 |  1 |  89 | 66 | 23 |  94 | 28.1 | 0.167 | 21 | 0 |\n| 5 |  0 | 137 | 40 | 35 | 168 | 43.1 | 2.288 | 33 | 1 |\n| 6 |  5 | 116 | 74 |  0 |   0 | 25.6 | 0.201 | 30 | 0 |\n| 7 |  3 |  78 | 50 | 32 |  88 | 31.0 | 0.248 | 26 | 1 |\n| 8 | 10 | 115 |  0 |  0 |   0 | 35.3 | 0.134 | 29 | 0 |\n| 9 |  2 | 197 | 70 | 45 | 543 | 30.5 | 0.158 | 53 | 1 |\n| 10 |  8 | 125 | 96 |  0 |   0 |  0.0 | 0.232 | 54 | 1 |\n| 11 |  4 | 110 | 92 |  0 |   0 | 37.6 | 0.191 | 30 | 0 |\n| 12 | 10 | 168 | 74 |  0 |   0 | 38.0 | 0.537 | 34 | 1 |\n| 13 | 10 | 139 | 80 |  0 |   0 | 27.1 | 1.441 | 57 | 0 |\n| 14 |  1 | 189 | 60 | 23 | 846 | 30.1 | 0.398 | 59 | 1 |\n| 15 |  5 | 166 | 72 | 19 | 175 | 25.8 | 0.587 | 51 | 1 |\n| 16 |  7 | 100 |  0 |  0 |   0 | 30.0 | 0.484 | 32 | 1 |\n| 17 |  0 | 118 | 84 | 47 | 230 | 45.8 | 0.551 | 31 | 1 |\n| 18 |  7 | 107 | 74 |  0 |   0 | 29.6 | 0.254 | 31 | 1 |\n| 19 |  1 | 103 | 30 | 38 |  83 | 43.3 | 0.183 | 33 | 0 |\n| 20 |  1 | 115 | 70 | 30 |  96 | 34.6 | 0.529 | 32 | 1 |\n| 21 |  3 | 126 | 88 | 41 | 235 | 39.3 | 0.704 | 27 | 0 |\n| 22 |  8 |  99 | 84 |  0 |   0 | 35.4 | 0.388 | 50 | 0 |\n| 23 |  7 | 196 | 90 |  0 |   0 | 39.8 | 0.451 | 41 | 1 |\n| 24 |  9 | 119 | 80 | 35 |   0 | 29.0 | 0.263 | 29 | 1 |\n| 25 | 11 | 143 | 94 | 33 | 146 | 36.6 | 0.254 | 51 | 1 |\n| 26 | 10 | 125 | 70 | 26 | 115 | 31.1 | 0.205 | 41 | 1 |\n| 27 |  7 | 147 | 76 |  0 |   0 | 39.4 | 0.257 | 43 | 1 |\n| 28 |  1 |  97 | 66 | 15 | 140 | 23.2 | 0.487 | 22 | 0 |\n\n",
            "text/latex": "A data.frame: 28 × 9\n\\begin{tabular}{r|lllllllll}\n  & Pregnancies & Glucose & BloodPressure & SkinThickness & Insulin & BMI & DiabetesPedigreeFunction & Age & Outcome\\\\\n  & <int> & <int> & <int> & <int> & <int> & <dbl> & <dbl> & <int> & <int>\\\\\n\\hline\n\t1 &  6 & 148 & 72 & 35 &   0 & 33.6 & 0.627 & 50 & 1\\\\\n\t2 &  1 &  85 & 66 & 29 &   0 & 26.6 & 0.351 & 31 & 0\\\\\n\t3 &  8 & 183 & 64 &  0 &   0 & 23.3 & 0.672 & 32 & 1\\\\\n\t4 &  1 &  89 & 66 & 23 &  94 & 28.1 & 0.167 & 21 & 0\\\\\n\t5 &  0 & 137 & 40 & 35 & 168 & 43.1 & 2.288 & 33 & 1\\\\\n\t6 &  5 & 116 & 74 &  0 &   0 & 25.6 & 0.201 & 30 & 0\\\\\n\t7 &  3 &  78 & 50 & 32 &  88 & 31.0 & 0.248 & 26 & 1\\\\\n\t8 & 10 & 115 &  0 &  0 &   0 & 35.3 & 0.134 & 29 & 0\\\\\n\t9 &  2 & 197 & 70 & 45 & 543 & 30.5 & 0.158 & 53 & 1\\\\\n\t10 &  8 & 125 & 96 &  0 &   0 &  0.0 & 0.232 & 54 & 1\\\\\n\t11 &  4 & 110 & 92 &  0 &   0 & 37.6 & 0.191 & 30 & 0\\\\\n\t12 & 10 & 168 & 74 &  0 &   0 & 38.0 & 0.537 & 34 & 1\\\\\n\t13 & 10 & 139 & 80 &  0 &   0 & 27.1 & 1.441 & 57 & 0\\\\\n\t14 &  1 & 189 & 60 & 23 & 846 & 30.1 & 0.398 & 59 & 1\\\\\n\t15 &  5 & 166 & 72 & 19 & 175 & 25.8 & 0.587 & 51 & 1\\\\\n\t16 &  7 & 100 &  0 &  0 &   0 & 30.0 & 0.484 & 32 & 1\\\\\n\t17 &  0 & 118 & 84 & 47 & 230 & 45.8 & 0.551 & 31 & 1\\\\\n\t18 &  7 & 107 & 74 &  0 &   0 & 29.6 & 0.254 & 31 & 1\\\\\n\t19 &  1 & 103 & 30 & 38 &  83 & 43.3 & 0.183 & 33 & 0\\\\\n\t20 &  1 & 115 & 70 & 30 &  96 & 34.6 & 0.529 & 32 & 1\\\\\n\t21 &  3 & 126 & 88 & 41 & 235 & 39.3 & 0.704 & 27 & 0\\\\\n\t22 &  8 &  99 & 84 &  0 &   0 & 35.4 & 0.388 & 50 & 0\\\\\n\t23 &  7 & 196 & 90 &  0 &   0 & 39.8 & 0.451 & 41 & 1\\\\\n\t24 &  9 & 119 & 80 & 35 &   0 & 29.0 & 0.263 & 29 & 1\\\\\n\t25 & 11 & 143 & 94 & 33 & 146 & 36.6 & 0.254 & 51 & 1\\\\\n\t26 & 10 & 125 & 70 & 26 & 115 & 31.1 & 0.205 & 41 & 1\\\\\n\t27 &  7 & 147 & 76 &  0 &   0 & 39.4 & 0.257 & 43 & 1\\\\\n\t28 &  1 &  97 & 66 & 15 & 140 & 23.2 & 0.487 & 22 & 0\\\\\n\\end{tabular}\n",
            "text/plain": [
              "   Pregnancies Glucose BloodPressure SkinThickness Insulin BMI \n",
              "1   6          148     72            35              0     33.6\n",
              "2   1           85     66            29              0     26.6\n",
              "3   8          183     64             0              0     23.3\n",
              "4   1           89     66            23             94     28.1\n",
              "5   0          137     40            35            168     43.1\n",
              "6   5          116     74             0              0     25.6\n",
              "7   3           78     50            32             88     31.0\n",
              "8  10          115      0             0              0     35.3\n",
              "9   2          197     70            45            543     30.5\n",
              "10  8          125     96             0              0      0.0\n",
              "11  4          110     92             0              0     37.6\n",
              "12 10          168     74             0              0     38.0\n",
              "13 10          139     80             0              0     27.1\n",
              "14  1          189     60            23            846     30.1\n",
              "15  5          166     72            19            175     25.8\n",
              "16  7          100      0             0              0     30.0\n",
              "17  0          118     84            47            230     45.8\n",
              "18  7          107     74             0              0     29.6\n",
              "19  1          103     30            38             83     43.3\n",
              "20  1          115     70            30             96     34.6\n",
              "21  3          126     88            41            235     39.3\n",
              "22  8           99     84             0              0     35.4\n",
              "23  7          196     90             0              0     39.8\n",
              "24  9          119     80            35              0     29.0\n",
              "25 11          143     94            33            146     36.6\n",
              "26 10          125     70            26            115     31.1\n",
              "27  7          147     76             0              0     39.4\n",
              "28  1           97     66            15            140     23.2\n",
              "   DiabetesPedigreeFunction Age Outcome\n",
              "1  0.627                    50  1      \n",
              "2  0.351                    31  0      \n",
              "3  0.672                    32  1      \n",
              "4  0.167                    21  0      \n",
              "5  2.288                    33  1      \n",
              "6  0.201                    30  0      \n",
              "7  0.248                    26  1      \n",
              "8  0.134                    29  0      \n",
              "9  0.158                    53  1      \n",
              "10 0.232                    54  1      \n",
              "11 0.191                    30  0      \n",
              "12 0.537                    34  1      \n",
              "13 1.441                    57  0      \n",
              "14 0.398                    59  1      \n",
              "15 0.587                    51  1      \n",
              "16 0.484                    32  1      \n",
              "17 0.551                    31  1      \n",
              "18 0.254                    31  1      \n",
              "19 0.183                    33  0      \n",
              "20 0.529                    32  1      \n",
              "21 0.704                    27  0      \n",
              "22 0.388                    50  0      \n",
              "23 0.451                    41  1      \n",
              "24 0.263                    29  1      \n",
              "25 0.254                    51  1      \n",
              "26 0.205                    41  1      \n",
              "27 0.257                    43  1      \n",
              "28 0.487                    22  0      "
            ]
          },
          "metadata": {}
        }
      ]
    },
    {
      "cell_type": "code",
      "source": [
        "# Pega as últimas N linhas (6 por padrão)\n",
        "tail(pima)"
      ],
      "metadata": {
        "colab": {
          "base_uri": "https://localhost:8080/",
          "height": 286
        },
        "id": "G4o7pQkFTAU8",
        "outputId": "10d31818-567e-49a9-d275-705e85152a74"
      },
      "execution_count": null,
      "outputs": [
        {
          "output_type": "display_data",
          "data": {
            "text/html": [
              "<table class=\"dataframe\">\n",
              "<caption>A data.frame: 6 × 9</caption>\n",
              "<thead>\n",
              "\t<tr><th></th><th scope=col>Pregnancies</th><th scope=col>Glucose</th><th scope=col>BloodPressure</th><th scope=col>SkinThickness</th><th scope=col>Insulin</th><th scope=col>BMI</th><th scope=col>DiabetesPedigreeFunction</th><th scope=col>Age</th><th scope=col>Outcome</th></tr>\n",
              "\t<tr><th></th><th scope=col>&lt;int&gt;</th><th scope=col>&lt;int&gt;</th><th scope=col>&lt;int&gt;</th><th scope=col>&lt;int&gt;</th><th scope=col>&lt;int&gt;</th><th scope=col>&lt;dbl&gt;</th><th scope=col>&lt;dbl&gt;</th><th scope=col>&lt;int&gt;</th><th scope=col>&lt;int&gt;</th></tr>\n",
              "</thead>\n",
              "<tbody>\n",
              "\t<tr><th scope=row>763</th><td> 9</td><td> 89</td><td>62</td><td> 0</td><td>  0</td><td>22.5</td><td>0.142</td><td>33</td><td>0</td></tr>\n",
              "\t<tr><th scope=row>764</th><td>10</td><td>101</td><td>76</td><td>48</td><td>180</td><td>32.9</td><td>0.171</td><td>63</td><td>0</td></tr>\n",
              "\t<tr><th scope=row>765</th><td> 2</td><td>122</td><td>70</td><td>27</td><td>  0</td><td>36.8</td><td>0.340</td><td>27</td><td>0</td></tr>\n",
              "\t<tr><th scope=row>766</th><td> 5</td><td>121</td><td>72</td><td>23</td><td>112</td><td>26.2</td><td>0.245</td><td>30</td><td>0</td></tr>\n",
              "\t<tr><th scope=row>767</th><td> 1</td><td>126</td><td>60</td><td> 0</td><td>  0</td><td>30.1</td><td>0.349</td><td>47</td><td>1</td></tr>\n",
              "\t<tr><th scope=row>768</th><td> 1</td><td> 93</td><td>70</td><td>31</td><td>  0</td><td>30.4</td><td>0.315</td><td>23</td><td>0</td></tr>\n",
              "</tbody>\n",
              "</table>\n"
            ],
            "text/markdown": "\nA data.frame: 6 × 9\n\n| <!--/--> | Pregnancies &lt;int&gt; | Glucose &lt;int&gt; | BloodPressure &lt;int&gt; | SkinThickness &lt;int&gt; | Insulin &lt;int&gt; | BMI &lt;dbl&gt; | DiabetesPedigreeFunction &lt;dbl&gt; | Age &lt;int&gt; | Outcome &lt;int&gt; |\n|---|---|---|---|---|---|---|---|---|---|\n| 763 |  9 |  89 | 62 |  0 |   0 | 22.5 | 0.142 | 33 | 0 |\n| 764 | 10 | 101 | 76 | 48 | 180 | 32.9 | 0.171 | 63 | 0 |\n| 765 |  2 | 122 | 70 | 27 |   0 | 36.8 | 0.340 | 27 | 0 |\n| 766 |  5 | 121 | 72 | 23 | 112 | 26.2 | 0.245 | 30 | 0 |\n| 767 |  1 | 126 | 60 |  0 |   0 | 30.1 | 0.349 | 47 | 1 |\n| 768 |  1 |  93 | 70 | 31 |   0 | 30.4 | 0.315 | 23 | 0 |\n\n",
            "text/latex": "A data.frame: 6 × 9\n\\begin{tabular}{r|lllllllll}\n  & Pregnancies & Glucose & BloodPressure & SkinThickness & Insulin & BMI & DiabetesPedigreeFunction & Age & Outcome\\\\\n  & <int> & <int> & <int> & <int> & <int> & <dbl> & <dbl> & <int> & <int>\\\\\n\\hline\n\t763 &  9 &  89 & 62 &  0 &   0 & 22.5 & 0.142 & 33 & 0\\\\\n\t764 & 10 & 101 & 76 & 48 & 180 & 32.9 & 0.171 & 63 & 0\\\\\n\t765 &  2 & 122 & 70 & 27 &   0 & 36.8 & 0.340 & 27 & 0\\\\\n\t766 &  5 & 121 & 72 & 23 & 112 & 26.2 & 0.245 & 30 & 0\\\\\n\t767 &  1 & 126 & 60 &  0 &   0 & 30.1 & 0.349 & 47 & 1\\\\\n\t768 &  1 &  93 & 70 & 31 &   0 & 30.4 & 0.315 & 23 & 0\\\\\n\\end{tabular}\n",
            "text/plain": [
              "    Pregnancies Glucose BloodPressure SkinThickness Insulin BMI \n",
              "763  9           89     62             0              0     22.5\n",
              "764 10          101     76            48            180     32.9\n",
              "765  2          122     70            27              0     36.8\n",
              "766  5          121     72            23            112     26.2\n",
              "767  1          126     60             0              0     30.1\n",
              "768  1           93     70            31              0     30.4\n",
              "    DiabetesPedigreeFunction Age Outcome\n",
              "763 0.142                    33  0      \n",
              "764 0.171                    63  0      \n",
              "765 0.340                    27  0      \n",
              "766 0.245                    30  0      \n",
              "767 0.349                    47  1      \n",
              "768 0.315                    23  0      "
            ]
          },
          "metadata": {}
        }
      ]
    },
    {
      "cell_type": "code",
      "source": [
        "# Pega as últimas 28 linhas\n",
        "tail(pima, 28)"
      ],
      "metadata": {
        "colab": {
          "base_uri": "https://localhost:8080/",
          "height": 976
        },
        "id": "JE1HUTzcTxkn",
        "outputId": "1ce3c596-f2bb-46c9-c075-237124d7b985"
      },
      "execution_count": null,
      "outputs": [
        {
          "output_type": "display_data",
          "data": {
            "text/html": [
              "<table class=\"dataframe\">\n",
              "<caption>A data.frame: 28 × 9</caption>\n",
              "<thead>\n",
              "\t<tr><th></th><th scope=col>Pregnancies</th><th scope=col>Glucose</th><th scope=col>BloodPressure</th><th scope=col>SkinThickness</th><th scope=col>Insulin</th><th scope=col>BMI</th><th scope=col>DiabetesPedigreeFunction</th><th scope=col>Age</th><th scope=col>Outcome</th></tr>\n",
              "\t<tr><th></th><th scope=col>&lt;int&gt;</th><th scope=col>&lt;int&gt;</th><th scope=col>&lt;int&gt;</th><th scope=col>&lt;int&gt;</th><th scope=col>&lt;int&gt;</th><th scope=col>&lt;dbl&gt;</th><th scope=col>&lt;dbl&gt;</th><th scope=col>&lt;int&gt;</th><th scope=col>&lt;int&gt;</th></tr>\n",
              "</thead>\n",
              "<tbody>\n",
              "\t<tr><th scope=row>741</th><td>11</td><td>120</td><td>80</td><td>37</td><td>150</td><td>42.3</td><td>0.785</td><td>48</td><td>1</td></tr>\n",
              "\t<tr><th scope=row>742</th><td> 3</td><td>102</td><td>44</td><td>20</td><td> 94</td><td>30.8</td><td>0.400</td><td>26</td><td>0</td></tr>\n",
              "\t<tr><th scope=row>743</th><td> 1</td><td>109</td><td>58</td><td>18</td><td>116</td><td>28.5</td><td>0.219</td><td>22</td><td>0</td></tr>\n",
              "\t<tr><th scope=row>744</th><td> 9</td><td>140</td><td>94</td><td> 0</td><td>  0</td><td>32.7</td><td>0.734</td><td>45</td><td>1</td></tr>\n",
              "\t<tr><th scope=row>745</th><td>13</td><td>153</td><td>88</td><td>37</td><td>140</td><td>40.6</td><td>1.174</td><td>39</td><td>0</td></tr>\n",
              "\t<tr><th scope=row>746</th><td>12</td><td>100</td><td>84</td><td>33</td><td>105</td><td>30.0</td><td>0.488</td><td>46</td><td>0</td></tr>\n",
              "\t<tr><th scope=row>747</th><td> 1</td><td>147</td><td>94</td><td>41</td><td>  0</td><td>49.3</td><td>0.358</td><td>27</td><td>1</td></tr>\n",
              "\t<tr><th scope=row>748</th><td> 1</td><td> 81</td><td>74</td><td>41</td><td> 57</td><td>46.3</td><td>1.096</td><td>32</td><td>0</td></tr>\n",
              "\t<tr><th scope=row>749</th><td> 3</td><td>187</td><td>70</td><td>22</td><td>200</td><td>36.4</td><td>0.408</td><td>36</td><td>1</td></tr>\n",
              "\t<tr><th scope=row>750</th><td> 6</td><td>162</td><td>62</td><td> 0</td><td>  0</td><td>24.3</td><td>0.178</td><td>50</td><td>1</td></tr>\n",
              "\t<tr><th scope=row>751</th><td> 4</td><td>136</td><td>70</td><td> 0</td><td>  0</td><td>31.2</td><td>1.182</td><td>22</td><td>1</td></tr>\n",
              "\t<tr><th scope=row>752</th><td> 1</td><td>121</td><td>78</td><td>39</td><td> 74</td><td>39.0</td><td>0.261</td><td>28</td><td>0</td></tr>\n",
              "\t<tr><th scope=row>753</th><td> 3</td><td>108</td><td>62</td><td>24</td><td>  0</td><td>26.0</td><td>0.223</td><td>25</td><td>0</td></tr>\n",
              "\t<tr><th scope=row>754</th><td> 0</td><td>181</td><td>88</td><td>44</td><td>510</td><td>43.3</td><td>0.222</td><td>26</td><td>1</td></tr>\n",
              "\t<tr><th scope=row>755</th><td> 8</td><td>154</td><td>78</td><td>32</td><td>  0</td><td>32.4</td><td>0.443</td><td>45</td><td>1</td></tr>\n",
              "\t<tr><th scope=row>756</th><td> 1</td><td>128</td><td>88</td><td>39</td><td>110</td><td>36.5</td><td>1.057</td><td>37</td><td>1</td></tr>\n",
              "\t<tr><th scope=row>757</th><td> 7</td><td>137</td><td>90</td><td>41</td><td>  0</td><td>32.0</td><td>0.391</td><td>39</td><td>0</td></tr>\n",
              "\t<tr><th scope=row>758</th><td> 0</td><td>123</td><td>72</td><td> 0</td><td>  0</td><td>36.3</td><td>0.258</td><td>52</td><td>1</td></tr>\n",
              "\t<tr><th scope=row>759</th><td> 1</td><td>106</td><td>76</td><td> 0</td><td>  0</td><td>37.5</td><td>0.197</td><td>26</td><td>0</td></tr>\n",
              "\t<tr><th scope=row>760</th><td> 6</td><td>190</td><td>92</td><td> 0</td><td>  0</td><td>35.5</td><td>0.278</td><td>66</td><td>1</td></tr>\n",
              "\t<tr><th scope=row>761</th><td> 2</td><td> 88</td><td>58</td><td>26</td><td> 16</td><td>28.4</td><td>0.766</td><td>22</td><td>0</td></tr>\n",
              "\t<tr><th scope=row>762</th><td> 9</td><td>170</td><td>74</td><td>31</td><td>  0</td><td>44.0</td><td>0.403</td><td>43</td><td>1</td></tr>\n",
              "\t<tr><th scope=row>763</th><td> 9</td><td> 89</td><td>62</td><td> 0</td><td>  0</td><td>22.5</td><td>0.142</td><td>33</td><td>0</td></tr>\n",
              "\t<tr><th scope=row>764</th><td>10</td><td>101</td><td>76</td><td>48</td><td>180</td><td>32.9</td><td>0.171</td><td>63</td><td>0</td></tr>\n",
              "\t<tr><th scope=row>765</th><td> 2</td><td>122</td><td>70</td><td>27</td><td>  0</td><td>36.8</td><td>0.340</td><td>27</td><td>0</td></tr>\n",
              "\t<tr><th scope=row>766</th><td> 5</td><td>121</td><td>72</td><td>23</td><td>112</td><td>26.2</td><td>0.245</td><td>30</td><td>0</td></tr>\n",
              "\t<tr><th scope=row>767</th><td> 1</td><td>126</td><td>60</td><td> 0</td><td>  0</td><td>30.1</td><td>0.349</td><td>47</td><td>1</td></tr>\n",
              "\t<tr><th scope=row>768</th><td> 1</td><td> 93</td><td>70</td><td>31</td><td>  0</td><td>30.4</td><td>0.315</td><td>23</td><td>0</td></tr>\n",
              "</tbody>\n",
              "</table>\n"
            ],
            "text/markdown": "\nA data.frame: 28 × 9\n\n| <!--/--> | Pregnancies &lt;int&gt; | Glucose &lt;int&gt; | BloodPressure &lt;int&gt; | SkinThickness &lt;int&gt; | Insulin &lt;int&gt; | BMI &lt;dbl&gt; | DiabetesPedigreeFunction &lt;dbl&gt; | Age &lt;int&gt; | Outcome &lt;int&gt; |\n|---|---|---|---|---|---|---|---|---|---|\n| 741 | 11 | 120 | 80 | 37 | 150 | 42.3 | 0.785 | 48 | 1 |\n| 742 |  3 | 102 | 44 | 20 |  94 | 30.8 | 0.400 | 26 | 0 |\n| 743 |  1 | 109 | 58 | 18 | 116 | 28.5 | 0.219 | 22 | 0 |\n| 744 |  9 | 140 | 94 |  0 |   0 | 32.7 | 0.734 | 45 | 1 |\n| 745 | 13 | 153 | 88 | 37 | 140 | 40.6 | 1.174 | 39 | 0 |\n| 746 | 12 | 100 | 84 | 33 | 105 | 30.0 | 0.488 | 46 | 0 |\n| 747 |  1 | 147 | 94 | 41 |   0 | 49.3 | 0.358 | 27 | 1 |\n| 748 |  1 |  81 | 74 | 41 |  57 | 46.3 | 1.096 | 32 | 0 |\n| 749 |  3 | 187 | 70 | 22 | 200 | 36.4 | 0.408 | 36 | 1 |\n| 750 |  6 | 162 | 62 |  0 |   0 | 24.3 | 0.178 | 50 | 1 |\n| 751 |  4 | 136 | 70 |  0 |   0 | 31.2 | 1.182 | 22 | 1 |\n| 752 |  1 | 121 | 78 | 39 |  74 | 39.0 | 0.261 | 28 | 0 |\n| 753 |  3 | 108 | 62 | 24 |   0 | 26.0 | 0.223 | 25 | 0 |\n| 754 |  0 | 181 | 88 | 44 | 510 | 43.3 | 0.222 | 26 | 1 |\n| 755 |  8 | 154 | 78 | 32 |   0 | 32.4 | 0.443 | 45 | 1 |\n| 756 |  1 | 128 | 88 | 39 | 110 | 36.5 | 1.057 | 37 | 1 |\n| 757 |  7 | 137 | 90 | 41 |   0 | 32.0 | 0.391 | 39 | 0 |\n| 758 |  0 | 123 | 72 |  0 |   0 | 36.3 | 0.258 | 52 | 1 |\n| 759 |  1 | 106 | 76 |  0 |   0 | 37.5 | 0.197 | 26 | 0 |\n| 760 |  6 | 190 | 92 |  0 |   0 | 35.5 | 0.278 | 66 | 1 |\n| 761 |  2 |  88 | 58 | 26 |  16 | 28.4 | 0.766 | 22 | 0 |\n| 762 |  9 | 170 | 74 | 31 |   0 | 44.0 | 0.403 | 43 | 1 |\n| 763 |  9 |  89 | 62 |  0 |   0 | 22.5 | 0.142 | 33 | 0 |\n| 764 | 10 | 101 | 76 | 48 | 180 | 32.9 | 0.171 | 63 | 0 |\n| 765 |  2 | 122 | 70 | 27 |   0 | 36.8 | 0.340 | 27 | 0 |\n| 766 |  5 | 121 | 72 | 23 | 112 | 26.2 | 0.245 | 30 | 0 |\n| 767 |  1 | 126 | 60 |  0 |   0 | 30.1 | 0.349 | 47 | 1 |\n| 768 |  1 |  93 | 70 | 31 |   0 | 30.4 | 0.315 | 23 | 0 |\n\n",
            "text/latex": "A data.frame: 28 × 9\n\\begin{tabular}{r|lllllllll}\n  & Pregnancies & Glucose & BloodPressure & SkinThickness & Insulin & BMI & DiabetesPedigreeFunction & Age & Outcome\\\\\n  & <int> & <int> & <int> & <int> & <int> & <dbl> & <dbl> & <int> & <int>\\\\\n\\hline\n\t741 & 11 & 120 & 80 & 37 & 150 & 42.3 & 0.785 & 48 & 1\\\\\n\t742 &  3 & 102 & 44 & 20 &  94 & 30.8 & 0.400 & 26 & 0\\\\\n\t743 &  1 & 109 & 58 & 18 & 116 & 28.5 & 0.219 & 22 & 0\\\\\n\t744 &  9 & 140 & 94 &  0 &   0 & 32.7 & 0.734 & 45 & 1\\\\\n\t745 & 13 & 153 & 88 & 37 & 140 & 40.6 & 1.174 & 39 & 0\\\\\n\t746 & 12 & 100 & 84 & 33 & 105 & 30.0 & 0.488 & 46 & 0\\\\\n\t747 &  1 & 147 & 94 & 41 &   0 & 49.3 & 0.358 & 27 & 1\\\\\n\t748 &  1 &  81 & 74 & 41 &  57 & 46.3 & 1.096 & 32 & 0\\\\\n\t749 &  3 & 187 & 70 & 22 & 200 & 36.4 & 0.408 & 36 & 1\\\\\n\t750 &  6 & 162 & 62 &  0 &   0 & 24.3 & 0.178 & 50 & 1\\\\\n\t751 &  4 & 136 & 70 &  0 &   0 & 31.2 & 1.182 & 22 & 1\\\\\n\t752 &  1 & 121 & 78 & 39 &  74 & 39.0 & 0.261 & 28 & 0\\\\\n\t753 &  3 & 108 & 62 & 24 &   0 & 26.0 & 0.223 & 25 & 0\\\\\n\t754 &  0 & 181 & 88 & 44 & 510 & 43.3 & 0.222 & 26 & 1\\\\\n\t755 &  8 & 154 & 78 & 32 &   0 & 32.4 & 0.443 & 45 & 1\\\\\n\t756 &  1 & 128 & 88 & 39 & 110 & 36.5 & 1.057 & 37 & 1\\\\\n\t757 &  7 & 137 & 90 & 41 &   0 & 32.0 & 0.391 & 39 & 0\\\\\n\t758 &  0 & 123 & 72 &  0 &   0 & 36.3 & 0.258 & 52 & 1\\\\\n\t759 &  1 & 106 & 76 &  0 &   0 & 37.5 & 0.197 & 26 & 0\\\\\n\t760 &  6 & 190 & 92 &  0 &   0 & 35.5 & 0.278 & 66 & 1\\\\\n\t761 &  2 &  88 & 58 & 26 &  16 & 28.4 & 0.766 & 22 & 0\\\\\n\t762 &  9 & 170 & 74 & 31 &   0 & 44.0 & 0.403 & 43 & 1\\\\\n\t763 &  9 &  89 & 62 &  0 &   0 & 22.5 & 0.142 & 33 & 0\\\\\n\t764 & 10 & 101 & 76 & 48 & 180 & 32.9 & 0.171 & 63 & 0\\\\\n\t765 &  2 & 122 & 70 & 27 &   0 & 36.8 & 0.340 & 27 & 0\\\\\n\t766 &  5 & 121 & 72 & 23 & 112 & 26.2 & 0.245 & 30 & 0\\\\\n\t767 &  1 & 126 & 60 &  0 &   0 & 30.1 & 0.349 & 47 & 1\\\\\n\t768 &  1 &  93 & 70 & 31 &   0 & 30.4 & 0.315 & 23 & 0\\\\\n\\end{tabular}\n",
            "text/plain": [
              "    Pregnancies Glucose BloodPressure SkinThickness Insulin BMI \n",
              "741 11          120     80            37            150     42.3\n",
              "742  3          102     44            20             94     30.8\n",
              "743  1          109     58            18            116     28.5\n",
              "744  9          140     94             0              0     32.7\n",
              "745 13          153     88            37            140     40.6\n",
              "746 12          100     84            33            105     30.0\n",
              "747  1          147     94            41              0     49.3\n",
              "748  1           81     74            41             57     46.3\n",
              "749  3          187     70            22            200     36.4\n",
              "750  6          162     62             0              0     24.3\n",
              "751  4          136     70             0              0     31.2\n",
              "752  1          121     78            39             74     39.0\n",
              "753  3          108     62            24              0     26.0\n",
              "754  0          181     88            44            510     43.3\n",
              "755  8          154     78            32              0     32.4\n",
              "756  1          128     88            39            110     36.5\n",
              "757  7          137     90            41              0     32.0\n",
              "758  0          123     72             0              0     36.3\n",
              "759  1          106     76             0              0     37.5\n",
              "760  6          190     92             0              0     35.5\n",
              "761  2           88     58            26             16     28.4\n",
              "762  9          170     74            31              0     44.0\n",
              "763  9           89     62             0              0     22.5\n",
              "764 10          101     76            48            180     32.9\n",
              "765  2          122     70            27              0     36.8\n",
              "766  5          121     72            23            112     26.2\n",
              "767  1          126     60             0              0     30.1\n",
              "768  1           93     70            31              0     30.4\n",
              "    DiabetesPedigreeFunction Age Outcome\n",
              "741 0.785                    48  1      \n",
              "742 0.400                    26  0      \n",
              "743 0.219                    22  0      \n",
              "744 0.734                    45  1      \n",
              "745 1.174                    39  0      \n",
              "746 0.488                    46  0      \n",
              "747 0.358                    27  1      \n",
              "748 1.096                    32  0      \n",
              "749 0.408                    36  1      \n",
              "750 0.178                    50  1      \n",
              "751 1.182                    22  1      \n",
              "752 0.261                    28  0      \n",
              "753 0.223                    25  0      \n",
              "754 0.222                    26  1      \n",
              "755 0.443                    45  1      \n",
              "756 1.057                    37  1      \n",
              "757 0.391                    39  0      \n",
              "758 0.258                    52  1      \n",
              "759 0.197                    26  0      \n",
              "760 0.278                    66  1      \n",
              "761 0.766                    22  0      \n",
              "762 0.403                    43  1      \n",
              "763 0.142                    33  0      \n",
              "764 0.171                    63  0      \n",
              "765 0.340                    27  0      \n",
              "766 0.245                    30  0      \n",
              "767 0.349                    47  1      \n",
              "768 0.315                    23  0      "
            ]
          },
          "metadata": {}
        }
      ]
    },
    {
      "cell_type": "code",
      "source": [
        "# Exibe a estrutura de tipo (tipo de coluna, número de observações, ...)\n",
        "str(pima)"
      ],
      "metadata": {
        "colab": {
          "base_uri": "https://localhost:8080/"
        },
        "id": "fFuWy_xGUFMK",
        "outputId": "8f027aed-93b4-4255-94ca-f5c5732c7b76"
      },
      "execution_count": null,
      "outputs": [
        {
          "output_type": "stream",
          "name": "stdout",
          "text": [
            "'data.frame':\t768 obs. of  9 variables:\n",
            " $ Pregnancies             : int  6 1 8 1 0 5 3 10 2 8 ...\n",
            " $ Glucose                 : int  148 85 183 89 137 116 78 115 197 125 ...\n",
            " $ BloodPressure           : int  72 66 64 66 40 74 50 0 70 96 ...\n",
            " $ SkinThickness           : int  35 29 0 23 35 0 32 0 45 0 ...\n",
            " $ Insulin                 : int  0 0 0 94 168 0 88 0 543 0 ...\n",
            " $ BMI                     : num  33.6 26.6 23.3 28.1 43.1 25.6 31 35.3 30.5 0 ...\n",
            " $ DiabetesPedigreeFunction: num  0.627 0.351 0.672 0.167 2.288 ...\n",
            " $ Age                     : int  50 31 32 21 33 30 26 29 53 54 ...\n",
            " $ Outcome                 : int  1 0 1 0 1 0 1 0 1 1 ...\n"
          ]
        }
      ]
    },
    {
      "cell_type": "code",
      "source": [
        "# Pegar as dimensões (linhas e colunas) do DataFrame\n",
        "dim(pima)"
      ],
      "metadata": {
        "colab": {
          "base_uri": "https://localhost:8080/",
          "height": 34
        },
        "id": "M3fmlygIUqX8",
        "outputId": "e9ca86e5-a166-4dad-90d0-776ffbba4d8f"
      },
      "execution_count": null,
      "outputs": [
        {
          "output_type": "display_data",
          "data": {
            "text/html": [
              "<style>\n",
              ".list-inline {list-style: none; margin:0; padding: 0}\n",
              ".list-inline>li {display: inline-block}\n",
              ".list-inline>li:not(:last-child)::after {content: \"\\00b7\"; padding: 0 .5ex}\n",
              "</style>\n",
              "<ol class=list-inline><li>768</li><li>9</li></ol>\n"
            ],
            "text/markdown": "1. 768\n2. 9\n\n\n",
            "text/latex": "\\begin{enumerate*}\n\\item 768\n\\item 9\n\\end{enumerate*}\n",
            "text/plain": [
              "[1] 768   9"
            ]
          },
          "metadata": {}
        }
      ]
    },
    {
      "cell_type": "code",
      "source": [
        "# n_linhas\n",
        "n_linhas <- dim(pima)[1]\n",
        "n_linhas"
      ],
      "metadata": {
        "colab": {
          "base_uri": "https://localhost:8080/",
          "height": 34
        },
        "id": "WAWbg6mtVK8a",
        "outputId": "f9e8f1d6-d2b5-4a18-a906-ce6ce61c56ec"
      },
      "execution_count": null,
      "outputs": [
        {
          "output_type": "display_data",
          "data": {
            "text/html": [
              "768"
            ],
            "text/markdown": "768",
            "text/latex": "768",
            "text/plain": [
              "[1] 768"
            ]
          },
          "metadata": {}
        }
      ]
    },
    {
      "cell_type": "code",
      "source": [
        "# n_colunas\n",
        "(n_colunas <- dim(pima)[2])"
      ],
      "metadata": {
        "colab": {
          "base_uri": "https://localhost:8080/",
          "height": 34
        },
        "id": "9qtd0BeAVy0Q",
        "outputId": "e356b334-9b8c-43c0-8b82-05c5cde06b88"
      },
      "execution_count": null,
      "outputs": [
        {
          "output_type": "display_data",
          "data": {
            "text/html": [
              "9"
            ],
            "text/markdown": "9",
            "text/latex": "9",
            "text/plain": [
              "[1] 9"
            ]
          },
          "metadata": {}
        }
      ]
    },
    {
      "cell_type": "code",
      "source": [
        "# Acessar uma coluna\n",
        "pima$Glucose"
      ],
      "metadata": {
        "colab": {
          "base_uri": "https://localhost:8080/",
          "height": 225
        },
        "id": "HpQ6_7q1XQQF",
        "outputId": "aa07a392-37b1-4dfc-eb34-2ea28308caec"
      },
      "execution_count": null,
      "outputs": [
        {
          "output_type": "display_data",
          "data": {
            "text/html": [
              "<style>\n",
              ".list-inline {list-style: none; margin:0; padding: 0}\n",
              ".list-inline>li {display: inline-block}\n",
              ".list-inline>li:not(:last-child)::after {content: \"\\00b7\"; padding: 0 .5ex}\n",
              "</style>\n",
              "<ol class=list-inline><li>148</li><li>85</li><li>183</li><li>89</li><li>137</li><li>116</li><li>78</li><li>115</li><li>197</li><li>125</li><li>110</li><li>168</li><li>139</li><li>189</li><li>166</li><li>100</li><li>118</li><li>107</li><li>103</li><li>115</li><li>126</li><li>99</li><li>196</li><li>119</li><li>143</li><li>125</li><li>147</li><li>97</li><li>145</li><li>117</li><li>109</li><li>158</li><li>88</li><li>92</li><li>122</li><li>103</li><li>138</li><li>102</li><li>90</li><li>111</li><li>180</li><li>133</li><li>106</li><li>171</li><li>159</li><li>180</li><li>146</li><li>71</li><li>103</li><li>105</li><li>103</li><li>101</li><li>88</li><li>176</li><li>150</li><li>73</li><li>187</li><li>100</li><li>146</li><li>105</li><li>84</li><li>133</li><li>44</li><li>141</li><li>114</li><li>99</li><li>109</li><li>109</li><li>95</li><li>146</li><li>100</li><li>139</li><li>126</li><li>129</li><li>79</li><li>0</li><li>62</li><li>95</li><li>131</li><li>112</li><li>113</li><li>74</li><li>83</li><li>101</li><li>137</li><li>110</li><li>106</li><li>100</li><li>136</li><li>107</li><li>80</li><li>123</li><li>81</li><li>134</li><li>142</li><li>144</li><li>92</li><li>71</li><li>93</li><li>122</li><li>163</li><li>151</li><li>125</li><li>81</li><li>85</li><li>126</li><li>96</li><li>144</li><li>83</li><li>95</li><li>171</li><li>155</li><li>89</li><li>76</li><li>160</li><li>146</li><li>124</li><li>78</li><li>97</li><li>99</li><li>162</li><li>111</li><li>107</li><li>132</li><li>113</li><li>88</li><li>120</li><li>118</li><li>117</li><li>105</li><li>173</li><li>122</li><li>170</li><li>84</li><li>96</li><li>125</li><li>100</li><li>93</li><li>129</li><li>105</li><li>128</li><li>106</li><li>108</li><li>108</li><li>154</li><li>102</li><li>57</li><li>106</li><li>147</li><li>90</li><li>136</li><li>114</li><li>156</li><li>153</li><li>188</li><li>152</li><li>99</li><li>109</li><li>88</li><li>163</li><li>151</li><li>102</li><li>114</li><li>100</li><li>131</li><li>104</li><li>148</li><li>120</li><li>110</li><li>111</li><li>102</li><li>134</li><li>87</li><li>79</li><li>75</li><li>179</li><li>85</li><li>129</li><li>143</li><li>130</li><li>87</li><li>119</li><li>0</li><li>73</li><li>141</li><li>194</li><li>181</li><li>128</li><li>109</li><li>139</li><li>111</li><li>123</li><li>159</li><li>135</li><li>85</li><li>158</li><li>105</li><li>107</li><li>109</li><li>148</li><li>⋯</li><li>154</li><li>121</li><li>78</li><li>130</li><li>111</li><li>98</li><li>143</li><li>119</li><li>108</li><li>118</li><li>133</li><li>197</li><li>151</li><li>109</li><li>121</li><li>100</li><li>124</li><li>93</li><li>143</li><li>103</li><li>176</li><li>73</li><li>111</li><li>112</li><li>132</li><li>82</li><li>123</li><li>188</li><li>67</li><li>89</li><li>173</li><li>109</li><li>108</li><li>96</li><li>124</li><li>150</li><li>183</li><li>124</li><li>181</li><li>92</li><li>152</li><li>111</li><li>106</li><li>174</li><li>168</li><li>105</li><li>138</li><li>106</li><li>117</li><li>68</li><li>112</li><li>119</li><li>112</li><li>92</li><li>183</li><li>94</li><li>108</li><li>90</li><li>125</li><li>132</li><li>128</li><li>94</li><li>114</li><li>102</li><li>111</li><li>128</li><li>92</li><li>104</li><li>104</li><li>94</li><li>97</li><li>100</li><li>102</li><li>128</li><li>147</li><li>90</li><li>103</li><li>157</li><li>167</li><li>179</li><li>136</li><li>107</li><li>91</li><li>117</li><li>123</li><li>120</li><li>106</li><li>155</li><li>101</li><li>120</li><li>127</li><li>80</li><li>162</li><li>199</li><li>167</li><li>145</li><li>115</li><li>112</li><li>145</li><li>111</li><li>98</li><li>154</li><li>165</li><li>99</li><li>68</li><li>123</li><li>91</li><li>195</li><li>156</li><li>93</li><li>121</li><li>101</li><li>56</li><li>162</li><li>95</li><li>125</li><li>136</li><li>129</li><li>130</li><li>107</li><li>140</li><li>144</li><li>107</li><li>158</li><li>121</li><li>129</li><li>90</li><li>142</li><li>169</li><li>99</li><li>127</li><li>118</li><li>122</li><li>125</li><li>168</li><li>129</li><li>110</li><li>80</li><li>115</li><li>127</li><li>164</li><li>93</li><li>158</li><li>126</li><li>129</li><li>134</li><li>102</li><li>187</li><li>173</li><li>94</li><li>108</li><li>97</li><li>83</li><li>114</li><li>149</li><li>117</li><li>111</li><li>112</li><li>116</li><li>141</li><li>175</li><li>92</li><li>130</li><li>120</li><li>174</li><li>106</li><li>105</li><li>95</li><li>126</li><li>65</li><li>99</li><li>102</li><li>120</li><li>102</li><li>109</li><li>140</li><li>153</li><li>100</li><li>147</li><li>81</li><li>187</li><li>162</li><li>136</li><li>121</li><li>108</li><li>181</li><li>154</li><li>128</li><li>137</li><li>123</li><li>106</li><li>190</li><li>88</li><li>170</li><li>89</li><li>101</li><li>122</li><li>121</li><li>126</li><li>93</li></ol>\n"
            ],
            "text/markdown": "1. 148\n2. 85\n3. 183\n4. 89\n5. 137\n6. 116\n7. 78\n8. 115\n9. 197\n10. 125\n11. 110\n12. 168\n13. 139\n14. 189\n15. 166\n16. 100\n17. 118\n18. 107\n19. 103\n20. 115\n21. 126\n22. 99\n23. 196\n24. 119\n25. 143\n26. 125\n27. 147\n28. 97\n29. 145\n30. 117\n31. 109\n32. 158\n33. 88\n34. 92\n35. 122\n36. 103\n37. 138\n38. 102\n39. 90\n40. 111\n41. 180\n42. 133\n43. 106\n44. 171\n45. 159\n46. 180\n47. 146\n48. 71\n49. 103\n50. 105\n51. 103\n52. 101\n53. 88\n54. 176\n55. 150\n56. 73\n57. 187\n58. 100\n59. 146\n60. 105\n61. 84\n62. 133\n63. 44\n64. 141\n65. 114\n66. 99\n67. 109\n68. 109\n69. 95\n70. 146\n71. 100\n72. 139\n73. 126\n74. 129\n75. 79\n76. 0\n77. 62\n78. 95\n79. 131\n80. 112\n81. 113\n82. 74\n83. 83\n84. 101\n85. 137\n86. 110\n87. 106\n88. 100\n89. 136\n90. 107\n91. 80\n92. 123\n93. 81\n94. 134\n95. 142\n96. 144\n97. 92\n98. 71\n99. 93\n100. 122\n101. 163\n102. 151\n103. 125\n104. 81\n105. 85\n106. 126\n107. 96\n108. 144\n109. 83\n110. 95\n111. 171\n112. 155\n113. 89\n114. 76\n115. 160\n116. 146\n117. 124\n118. 78\n119. 97\n120. 99\n121. 162\n122. 111\n123. 107\n124. 132\n125. 113\n126. 88\n127. 120\n128. 118\n129. 117\n130. 105\n131. 173\n132. 122\n133. 170\n134. 84\n135. 96\n136. 125\n137. 100\n138. 93\n139. 129\n140. 105\n141. 128\n142. 106\n143. 108\n144. 108\n145. 154\n146. 102\n147. 57\n148. 106\n149. 147\n150. 90\n151. 136\n152. 114\n153. 156\n154. 153\n155. 188\n156. 152\n157. 99\n158. 109\n159. 88\n160. 163\n161. 151\n162. 102\n163. 114\n164. 100\n165. 131\n166. 104\n167. 148\n168. 120\n169. 110\n170. 111\n171. 102\n172. 134\n173. 87\n174. 79\n175. 75\n176. 179\n177. 85\n178. 129\n179. 143\n180. 130\n181. 87\n182. 119\n183. 0\n184. 73\n185. 141\n186. 194\n187. 181\n188. 128\n189. 109\n190. 139\n191. 111\n192. 123\n193. 159\n194. 135\n195. 85\n196. 158\n197. 105\n198. 107\n199. 109\n200. 148\n201. ⋯\n202. 154\n203. 121\n204. 78\n205. 130\n206. 111\n207. 98\n208. 143\n209. 119\n210. 108\n211. 118\n212. 133\n213. 197\n214. 151\n215. 109\n216. 121\n217. 100\n218. 124\n219. 93\n220. 143\n221. 103\n222. 176\n223. 73\n224. 111\n225. 112\n226. 132\n227. 82\n228. 123\n229. 188\n230. 67\n231. 89\n232. 173\n233. 109\n234. 108\n235. 96\n236. 124\n237. 150\n238. 183\n239. 124\n240. 181\n241. 92\n242. 152\n243. 111\n244. 106\n245. 174\n246. 168\n247. 105\n248. 138\n249. 106\n250. 117\n251. 68\n252. 112\n253. 119\n254. 112\n255. 92\n256. 183\n257. 94\n258. 108\n259. 90\n260. 125\n261. 132\n262. 128\n263. 94\n264. 114\n265. 102\n266. 111\n267. 128\n268. 92\n269. 104\n270. 104\n271. 94\n272. 97\n273. 100\n274. 102\n275. 128\n276. 147\n277. 90\n278. 103\n279. 157\n280. 167\n281. 179\n282. 136\n283. 107\n284. 91\n285. 117\n286. 123\n287. 120\n288. 106\n289. 155\n290. 101\n291. 120\n292. 127\n293. 80\n294. 162\n295. 199\n296. 167\n297. 145\n298. 115\n299. 112\n300. 145\n301. 111\n302. 98\n303. 154\n304. 165\n305. 99\n306. 68\n307. 123\n308. 91\n309. 195\n310. 156\n311. 93\n312. 121\n313. 101\n314. 56\n315. 162\n316. 95\n317. 125\n318. 136\n319. 129\n320. 130\n321. 107\n322. 140\n323. 144\n324. 107\n325. 158\n326. 121\n327. 129\n328. 90\n329. 142\n330. 169\n331. 99\n332. 127\n333. 118\n334. 122\n335. 125\n336. 168\n337. 129\n338. 110\n339. 80\n340. 115\n341. 127\n342. 164\n343. 93\n344. 158\n345. 126\n346. 129\n347. 134\n348. 102\n349. 187\n350. 173\n351. 94\n352. 108\n353. 97\n354. 83\n355. 114\n356. 149\n357. 117\n358. 111\n359. 112\n360. 116\n361. 141\n362. 175\n363. 92\n364. 130\n365. 120\n366. 174\n367. 106\n368. 105\n369. 95\n370. 126\n371. 65\n372. 99\n373. 102\n374. 120\n375. 102\n376. 109\n377. 140\n378. 153\n379. 100\n380. 147\n381. 81\n382. 187\n383. 162\n384. 136\n385. 121\n386. 108\n387. 181\n388. 154\n389. 128\n390. 137\n391. 123\n392. 106\n393. 190\n394. 88\n395. 170\n396. 89\n397. 101\n398. 122\n399. 121\n400. 126\n401. 93\n\n\n",
            "text/latex": "\\begin{enumerate*}\n\\item 148\n\\item 85\n\\item 183\n\\item 89\n\\item 137\n\\item 116\n\\item 78\n\\item 115\n\\item 197\n\\item 125\n\\item 110\n\\item 168\n\\item 139\n\\item 189\n\\item 166\n\\item 100\n\\item 118\n\\item 107\n\\item 103\n\\item 115\n\\item 126\n\\item 99\n\\item 196\n\\item 119\n\\item 143\n\\item 125\n\\item 147\n\\item 97\n\\item 145\n\\item 117\n\\item 109\n\\item 158\n\\item 88\n\\item 92\n\\item 122\n\\item 103\n\\item 138\n\\item 102\n\\item 90\n\\item 111\n\\item 180\n\\item 133\n\\item 106\n\\item 171\n\\item 159\n\\item 180\n\\item 146\n\\item 71\n\\item 103\n\\item 105\n\\item 103\n\\item 101\n\\item 88\n\\item 176\n\\item 150\n\\item 73\n\\item 187\n\\item 100\n\\item 146\n\\item 105\n\\item 84\n\\item 133\n\\item 44\n\\item 141\n\\item 114\n\\item 99\n\\item 109\n\\item 109\n\\item 95\n\\item 146\n\\item 100\n\\item 139\n\\item 126\n\\item 129\n\\item 79\n\\item 0\n\\item 62\n\\item 95\n\\item 131\n\\item 112\n\\item 113\n\\item 74\n\\item 83\n\\item 101\n\\item 137\n\\item 110\n\\item 106\n\\item 100\n\\item 136\n\\item 107\n\\item 80\n\\item 123\n\\item 81\n\\item 134\n\\item 142\n\\item 144\n\\item 92\n\\item 71\n\\item 93\n\\item 122\n\\item 163\n\\item 151\n\\item 125\n\\item 81\n\\item 85\n\\item 126\n\\item 96\n\\item 144\n\\item 83\n\\item 95\n\\item 171\n\\item 155\n\\item 89\n\\item 76\n\\item 160\n\\item 146\n\\item 124\n\\item 78\n\\item 97\n\\item 99\n\\item 162\n\\item 111\n\\item 107\n\\item 132\n\\item 113\n\\item 88\n\\item 120\n\\item 118\n\\item 117\n\\item 105\n\\item 173\n\\item 122\n\\item 170\n\\item 84\n\\item 96\n\\item 125\n\\item 100\n\\item 93\n\\item 129\n\\item 105\n\\item 128\n\\item 106\n\\item 108\n\\item 108\n\\item 154\n\\item 102\n\\item 57\n\\item 106\n\\item 147\n\\item 90\n\\item 136\n\\item 114\n\\item 156\n\\item 153\n\\item 188\n\\item 152\n\\item 99\n\\item 109\n\\item 88\n\\item 163\n\\item 151\n\\item 102\n\\item 114\n\\item 100\n\\item 131\n\\item 104\n\\item 148\n\\item 120\n\\item 110\n\\item 111\n\\item 102\n\\item 134\n\\item 87\n\\item 79\n\\item 75\n\\item 179\n\\item 85\n\\item 129\n\\item 143\n\\item 130\n\\item 87\n\\item 119\n\\item 0\n\\item 73\n\\item 141\n\\item 194\n\\item 181\n\\item 128\n\\item 109\n\\item 139\n\\item 111\n\\item 123\n\\item 159\n\\item 135\n\\item 85\n\\item 158\n\\item 105\n\\item 107\n\\item 109\n\\item 148\n\\item ⋯\n\\item 154\n\\item 121\n\\item 78\n\\item 130\n\\item 111\n\\item 98\n\\item 143\n\\item 119\n\\item 108\n\\item 118\n\\item 133\n\\item 197\n\\item 151\n\\item 109\n\\item 121\n\\item 100\n\\item 124\n\\item 93\n\\item 143\n\\item 103\n\\item 176\n\\item 73\n\\item 111\n\\item 112\n\\item 132\n\\item 82\n\\item 123\n\\item 188\n\\item 67\n\\item 89\n\\item 173\n\\item 109\n\\item 108\n\\item 96\n\\item 124\n\\item 150\n\\item 183\n\\item 124\n\\item 181\n\\item 92\n\\item 152\n\\item 111\n\\item 106\n\\item 174\n\\item 168\n\\item 105\n\\item 138\n\\item 106\n\\item 117\n\\item 68\n\\item 112\n\\item 119\n\\item 112\n\\item 92\n\\item 183\n\\item 94\n\\item 108\n\\item 90\n\\item 125\n\\item 132\n\\item 128\n\\item 94\n\\item 114\n\\item 102\n\\item 111\n\\item 128\n\\item 92\n\\item 104\n\\item 104\n\\item 94\n\\item 97\n\\item 100\n\\item 102\n\\item 128\n\\item 147\n\\item 90\n\\item 103\n\\item 157\n\\item 167\n\\item 179\n\\item 136\n\\item 107\n\\item 91\n\\item 117\n\\item 123\n\\item 120\n\\item 106\n\\item 155\n\\item 101\n\\item 120\n\\item 127\n\\item 80\n\\item 162\n\\item 199\n\\item 167\n\\item 145\n\\item 115\n\\item 112\n\\item 145\n\\item 111\n\\item 98\n\\item 154\n\\item 165\n\\item 99\n\\item 68\n\\item 123\n\\item 91\n\\item 195\n\\item 156\n\\item 93\n\\item 121\n\\item 101\n\\item 56\n\\item 162\n\\item 95\n\\item 125\n\\item 136\n\\item 129\n\\item 130\n\\item 107\n\\item 140\n\\item 144\n\\item 107\n\\item 158\n\\item 121\n\\item 129\n\\item 90\n\\item 142\n\\item 169\n\\item 99\n\\item 127\n\\item 118\n\\item 122\n\\item 125\n\\item 168\n\\item 129\n\\item 110\n\\item 80\n\\item 115\n\\item 127\n\\item 164\n\\item 93\n\\item 158\n\\item 126\n\\item 129\n\\item 134\n\\item 102\n\\item 187\n\\item 173\n\\item 94\n\\item 108\n\\item 97\n\\item 83\n\\item 114\n\\item 149\n\\item 117\n\\item 111\n\\item 112\n\\item 116\n\\item 141\n\\item 175\n\\item 92\n\\item 130\n\\item 120\n\\item 174\n\\item 106\n\\item 105\n\\item 95\n\\item 126\n\\item 65\n\\item 99\n\\item 102\n\\item 120\n\\item 102\n\\item 109\n\\item 140\n\\item 153\n\\item 100\n\\item 147\n\\item 81\n\\item 187\n\\item 162\n\\item 136\n\\item 121\n\\item 108\n\\item 181\n\\item 154\n\\item 128\n\\item 137\n\\item 123\n\\item 106\n\\item 190\n\\item 88\n\\item 170\n\\item 89\n\\item 101\n\\item 122\n\\item 121\n\\item 126\n\\item 93\n\\end{enumerate*}\n",
            "text/plain": [
              "  [1] 148  85 183  89 137 116  78 115 197 125 110 168 139 189 166 100 118 107\n",
              " [19] 103 115 126  99 196 119 143 125 147  97 145 117 109 158  88  92 122 103\n",
              " [37] 138 102  90 111 180 133 106 171 159 180 146  71 103 105 103 101  88 176\n",
              " [55] 150  73 187 100 146 105  84 133  44 141 114  99 109 109  95 146 100 139\n",
              " [73] 126 129  79   0  62  95 131 112 113  74  83 101 137 110 106 100 136 107\n",
              " [91]  80 123  81 134 142 144  92  71  93 122 163 151 125  81  85 126  96 144\n",
              "[109]  83  95 171 155  89  76 160 146 124  78  97  99 162 111 107 132 113  88\n",
              "[127] 120 118 117 105 173 122 170  84  96 125 100  93 129 105 128 106 108 108\n",
              "[145] 154 102  57 106 147  90 136 114 156 153 188 152  99 109  88 163 151 102\n",
              "[163] 114 100 131 104 148 120 110 111 102 134  87  79  75 179  85 129 143 130\n",
              "[181]  87 119   0  73 141 194 181 128 109 139 111 123 159 135  85 158 105 107\n",
              "[199] 109 148 113 138 108  99 103 111 196 162  96 184  81 147 179 140 112 151\n",
              "[217] 109 125  85 112 177 158 119 142 100  87 101 162 197 117 142 134  79 122\n",
              "[235]  74 171 181 179 164 104  91  91 139 119 146 184 122 165 124 111 106 129\n",
              "[253]  90  86  92 113 111 114 193 155 191 141  95 142 123  96 138 128 102 146\n",
              "[271] 101 108 122  71 106 100 106 104 114 108 146 129 133 161 108 136 155 119\n",
              "[289]  96 108  78 107 128 128 161 151 146 126 100 112 167 144  77 115 150 120\n",
              "[307] 161 137 128 124  80 106 155 113 109 112  99 182 115 194 129 112 124 152\n",
              "[325] 112 157 122 179 102 105 118  87 180 106  95 165 117 115 152 178 130  95\n",
              "[343]   0 122  95 126 139 116  99   0  92 137  61  90  90 165 125 129  88 196\n",
              "[361] 189 158 103 146 147  99 124 101  81 133 173 118  84 105 122 140  98  87\n",
              "[379] 156  93 107 105 109  90 125 119 116 105 144 100 100 166 131 116 158 127\n",
              "[397]  96 131  82 193  95 137 136  72 168 123 115 101 197 172 102 112 143 143\n",
              "[415] 138 173  97 144  83 129 119  94 102 115 151 184  94 181 135  95  99  89\n",
              "[433]  80 139  90 141 140 147  97 107 189  83 117 108 117 180 100  95 104 120\n",
              "[451]  82 134  91 119 100 175 135  86 148 134 120  71  74  88 115 124  74  97\n",
              "[469] 120 154 144 137 119 136 114 137 105 114 126 132 158 123  85  84 145 135\n",
              "[487] 139 173  99 194  83  89  99 125  80 166 110  81 195 154 117  84   0  94\n",
              "[505]  96  75 180 130  84 120  84 139  91  91  99 163 145 125  76 129  68 124\n",
              "[523] 114 130 125  87  97 116 117 111 122 107  86  91  77 132 105  57 127 129\n",
              "[541] 100 128  90  84  88 186 187 131 164 189 116  84 114  88  84 124  97 110\n",
              "[559] 103  85 125 198  87  99  91  95  99  92 154 121  78 130 111  98 143 119\n",
              "[577] 108 118 133 197 151 109 121 100 124  93 143 103 176  73 111 112 132  82\n",
              "[595] 123 188  67  89 173 109 108  96 124 150 183 124 181  92 152 111 106 174\n",
              "[613] 168 105 138 106 117  68 112 119 112  92 183  94 108  90 125 132 128  94\n",
              "[631] 114 102 111 128  92 104 104  94  97 100 102 128 147  90 103 157 167 179\n",
              "[649] 136 107  91 117 123 120 106 155 101 120 127  80 162 199 167 145 115 112\n",
              "[667] 145 111  98 154 165  99  68 123  91 195 156  93 121 101  56 162  95 125\n",
              "[685] 136 129 130 107 140 144 107 158 121 129  90 142 169  99 127 118 122 125\n",
              "[703] 168 129 110  80 115 127 164  93 158 126 129 134 102 187 173  94 108  97\n",
              "[721]  83 114 149 117 111 112 116 141 175  92 130 120 174 106 105  95 126  65\n",
              "[739]  99 102 120 102 109 140 153 100 147  81 187 162 136 121 108 181 154 128\n",
              "[757] 137 123 106 190  88 170  89 101 122 121 126  93"
            ]
          },
          "metadata": {}
        }
      ]
    },
    {
      "cell_type": "markdown",
      "source": [
        "#Filtro no DataFrame\n",
        "\n",
        "\n",
        "\n",
        "*   mais que 4 gravidez (Pregnancies)\n",
        "\n"
      ],
      "metadata": {
        "id": "GZLYOHOLZOX2"
      }
    },
    {
      "cell_type": "code",
      "source": [
        "pima$Pregnancies>4"
      ],
      "metadata": {
        "colab": {
          "base_uri": "https://localhost:8080/",
          "height": 329
        },
        "id": "DN955HziYS0i",
        "outputId": "683a51f3-44dd-4b20-ae18-321835a0b901"
      },
      "execution_count": null,
      "outputs": [
        {
          "output_type": "display_data",
          "data": {
            "text/html": [
              "<style>\n",
              ".list-inline {list-style: none; margin:0; padding: 0}\n",
              ".list-inline>li {display: inline-block}\n",
              ".list-inline>li:not(:last-child)::after {content: \"\\00b7\"; padding: 0 .5ex}\n",
              "</style>\n",
              "<ol class=list-inline><li>TRUE</li><li>FALSE</li><li>TRUE</li><li>FALSE</li><li>FALSE</li><li>TRUE</li><li>FALSE</li><li>TRUE</li><li>FALSE</li><li>TRUE</li><li>FALSE</li><li>TRUE</li><li>TRUE</li><li>FALSE</li><li>TRUE</li><li>TRUE</li><li>FALSE</li><li>TRUE</li><li>FALSE</li><li>FALSE</li><li>FALSE</li><li>TRUE</li><li>TRUE</li><li>TRUE</li><li>TRUE</li><li>TRUE</li><li>TRUE</li><li>FALSE</li><li>TRUE</li><li>TRUE</li><li>TRUE</li><li>FALSE</li><li>FALSE</li><li>TRUE</li><li>TRUE</li><li>FALSE</li><li>TRUE</li><li>TRUE</li><li>FALSE</li><li>FALSE</li><li>FALSE</li><li>TRUE</li><li>TRUE</li><li>TRUE</li><li>TRUE</li><li>FALSE</li><li>FALSE</li><li>FALSE</li><li>TRUE</li><li>TRUE</li><li>FALSE</li><li>FALSE</li><li>TRUE</li><li>TRUE</li><li>TRUE</li><li>FALSE</li><li>TRUE</li><li>FALSE</li><li>FALSE</li><li>FALSE</li><li>FALSE</li><li>TRUE</li><li>TRUE</li><li>FALSE</li><li>TRUE</li><li>TRUE</li><li>FALSE</li><li>FALSE</li><li>FALSE</li><li>FALSE</li><li>FALSE</li><li>TRUE</li><li>TRUE</li><li>FALSE</li><li>FALSE</li><li>FALSE</li><li>TRUE</li><li>TRUE</li><li>FALSE</li><li>FALSE</li><li>FALSE</li><li>FALSE</li><li>TRUE</li><li>FALSE</li><li>TRUE</li><li>FALSE</li><li>TRUE</li><li>FALSE</li><li>TRUE</li><li>FALSE</li><li>FALSE</li><li>FALSE</li><li>TRUE</li><li>FALSE</li><li>FALSE</li><li>TRUE</li><li>FALSE</li><li>FALSE</li><li>TRUE</li><li>FALSE</li><li>FALSE</li><li>FALSE</li><li>FALSE</li><li>FALSE</li><li>FALSE</li><li>FALSE</li><li>FALSE</li><li>FALSE</li><li>FALSE</li><li>FALSE</li><li>FALSE</li><li>TRUE</li><li>FALSE</li><li>FALSE</li><li>TRUE</li><li>FALSE</li><li>TRUE</li><li>TRUE</li><li>FALSE</li><li>FALSE</li><li>FALSE</li><li>TRUE</li><li>FALSE</li><li>TRUE</li><li>FALSE</li><li>FALSE</li><li>FALSE</li><li>FALSE</li><li>FALSE</li><li>FALSE</li><li>FALSE</li><li>TRUE</li><li>FALSE</li><li>TRUE</li><li>FALSE</li><li>FALSE</li><li>FALSE</li><li>FALSE</li><li>FALSE</li><li>TRUE</li><li>FALSE</li><li>TRUE</li><li>FALSE</li><li>TRUE</li><li>FALSE</li><li>FALSE</li><li>TRUE</li><li>FALSE</li><li>TRUE</li><li>FALSE</li><li>FALSE</li><li>FALSE</li><li>TRUE</li><li>FALSE</li><li>TRUE</li><li>TRUE</li><li>FALSE</li><li>FALSE</li><li>FALSE</li><li>TRUE</li><li>FALSE</li><li>TRUE</li><li>FALSE</li><li>FALSE</li><li>FALSE</li><li>TRUE</li><li>FALSE</li><li>FALSE</li><li>FALSE</li><li>FALSE</li><li>TRUE</li><li>TRUE</li><li>FALSE</li><li>FALSE</li><li>FALSE</li><li>TRUE</li><li>TRUE</li><li>FALSE</li><li>TRUE</li><li>TRUE</li><li>TRUE</li><li>FALSE</li><li>FALSE</li><li>TRUE</li><li>FALSE</li><li>TRUE</li><li>TRUE</li><li>FALSE</li><li>TRUE</li><li>TRUE</li><li>FALSE</li><li>TRUE</li><li>TRUE</li><li>TRUE</li><li>TRUE</li><li>TRUE</li><li>FALSE</li><li>FALSE</li><li>FALSE</li><li>FALSE</li><li>⋯</li><li>FALSE</li><li>FALSE</li><li>FALSE</li><li>FALSE</li><li>FALSE</li><li>FALSE</li><li>FALSE</li><li>FALSE</li><li>TRUE</li><li>FALSE</li><li>TRUE</li><li>FALSE</li><li>FALSE</li><li>TRUE</li><li>TRUE</li><li>TRUE</li><li>TRUE</li><li>FALSE</li><li>TRUE</li><li>TRUE</li><li>FALSE</li><li>FALSE</li><li>TRUE</li><li>FALSE</li><li>FALSE</li><li>FALSE</li><li>TRUE</li><li>FALSE</li><li>FALSE</li><li>FALSE</li><li>FALSE</li><li>FALSE</li><li>FALSE</li><li>TRUE</li><li>FALSE</li><li>TRUE</li><li>FALSE</li><li>FALSE</li><li>FALSE</li><li>FALSE</li><li>FALSE</li><li>FALSE</li><li>FALSE</li><li>FALSE</li><li>TRUE</li><li>TRUE</li><li>TRUE</li><li>FALSE</li><li>TRUE</li><li>FALSE</li><li>TRUE</li><li>FALSE</li><li>FALSE</li><li>FALSE</li><li>TRUE</li><li>FALSE</li><li>FALSE</li><li>FALSE</li><li>FALSE</li><li>FALSE</li><li>TRUE</li><li>FALSE</li><li>TRUE</li><li>FALSE</li><li>FALSE</li><li>FALSE</li><li>TRUE</li><li>TRUE</li><li>TRUE</li><li>FALSE</li><li>TRUE</li><li>FALSE</li><li>FALSE</li><li>FALSE</li><li>TRUE</li><li>FALSE</li><li>FALSE</li><li>FALSE</li><li>FALSE</li><li>FALSE</li><li>TRUE</li><li>FALSE</li><li>FALSE</li><li>FALSE</li><li>TRUE</li><li>FALSE</li><li>FALSE</li><li>FALSE</li><li>FALSE</li><li>FALSE</li><li>TRUE</li><li>FALSE</li><li>TRUE</li><li>FALSE</li><li>TRUE</li><li>TRUE</li><li>TRUE</li><li>FALSE</li><li>FALSE</li><li>TRUE</li><li>TRUE</li><li>TRUE</li><li>TRUE</li><li>FALSE</li><li>TRUE</li><li>FALSE</li><li>TRUE</li><li>TRUE</li><li>TRUE</li><li>FALSE</li><li>FALSE</li><li>FALSE</li><li>FALSE</li><li>FALSE</li><li>FALSE</li><li>FALSE</li><li>TRUE</li><li>FALSE</li><li>FALSE</li><li>FALSE</li><li>FALSE</li><li>FALSE</li><li>TRUE</li><li>TRUE</li><li>FALSE</li><li>TRUE</li><li>FALSE</li><li>TRUE</li><li>FALSE</li><li>FALSE</li><li>FALSE</li><li>FALSE</li><li>FALSE</li><li>TRUE</li><li>FALSE</li><li>FALSE</li><li>FALSE</li><li>TRUE</li><li>TRUE</li><li>FALSE</li><li>TRUE</li><li>FALSE</li><li>FALSE</li><li>TRUE</li><li>TRUE</li><li>FALSE</li><li>FALSE</li><li>TRUE</li><li>FALSE</li><li>TRUE</li><li>FALSE</li><li>TRUE</li><li>FALSE</li><li>FALSE</li><li>FALSE</li><li>TRUE</li><li>FALSE</li><li>FALSE</li><li>FALSE</li><li>FALSE</li><li>FALSE</li><li>FALSE</li><li>FALSE</li><li>TRUE</li><li>FALSE</li><li>FALSE</li><li>FALSE</li><li>FALSE</li><li>FALSE</li><li>TRUE</li><li>FALSE</li><li>FALSE</li><li>TRUE</li><li>FALSE</li><li>FALSE</li><li>TRUE</li><li>TRUE</li><li>TRUE</li><li>FALSE</li><li>FALSE</li><li>FALSE</li><li>TRUE</li><li>FALSE</li><li>FALSE</li><li>FALSE</li><li>FALSE</li><li>TRUE</li><li>FALSE</li><li>TRUE</li><li>FALSE</li><li>FALSE</li><li>TRUE</li><li>FALSE</li><li>TRUE</li><li>TRUE</li><li>TRUE</li><li>FALSE</li><li>TRUE</li><li>FALSE</li><li>FALSE</li></ol>\n"
            ],
            "text/markdown": "1. TRUE\n2. FALSE\n3. TRUE\n4. FALSE\n5. FALSE\n6. TRUE\n7. FALSE\n8. TRUE\n9. FALSE\n10. TRUE\n11. FALSE\n12. TRUE\n13. TRUE\n14. FALSE\n15. TRUE\n16. TRUE\n17. FALSE\n18. TRUE\n19. FALSE\n20. FALSE\n21. FALSE\n22. TRUE\n23. TRUE\n24. TRUE\n25. TRUE\n26. TRUE\n27. TRUE\n28. FALSE\n29. TRUE\n30. TRUE\n31. TRUE\n32. FALSE\n33. FALSE\n34. TRUE\n35. TRUE\n36. FALSE\n37. TRUE\n38. TRUE\n39. FALSE\n40. FALSE\n41. FALSE\n42. TRUE\n43. TRUE\n44. TRUE\n45. TRUE\n46. FALSE\n47. FALSE\n48. FALSE\n49. TRUE\n50. TRUE\n51. FALSE\n52. FALSE\n53. TRUE\n54. TRUE\n55. TRUE\n56. FALSE\n57. TRUE\n58. FALSE\n59. FALSE\n60. FALSE\n61. FALSE\n62. TRUE\n63. TRUE\n64. FALSE\n65. TRUE\n66. TRUE\n67. FALSE\n68. FALSE\n69. FALSE\n70. FALSE\n71. FALSE\n72. TRUE\n73. TRUE\n74. FALSE\n75. FALSE\n76. FALSE\n77. TRUE\n78. TRUE\n79. FALSE\n80. FALSE\n81. FALSE\n82. FALSE\n83. TRUE\n84. FALSE\n85. TRUE\n86. FALSE\n87. TRUE\n88. FALSE\n89. TRUE\n90. FALSE\n91. FALSE\n92. FALSE\n93. TRUE\n94. FALSE\n95. FALSE\n96. TRUE\n97. FALSE\n98. FALSE\n99. TRUE\n100. FALSE\n101. FALSE\n102. FALSE\n103. FALSE\n104. FALSE\n105. FALSE\n106. FALSE\n107. FALSE\n108. FALSE\n109. FALSE\n110. FALSE\n111. FALSE\n112. TRUE\n113. FALSE\n114. FALSE\n115. TRUE\n116. FALSE\n117. TRUE\n118. TRUE\n119. FALSE\n120. FALSE\n121. FALSE\n122. TRUE\n123. FALSE\n124. TRUE\n125. FALSE\n126. FALSE\n127. FALSE\n128. FALSE\n129. FALSE\n130. FALSE\n131. FALSE\n132. TRUE\n133. FALSE\n134. TRUE\n135. FALSE\n136. FALSE\n137. FALSE\n138. FALSE\n139. FALSE\n140. TRUE\n141. FALSE\n142. TRUE\n143. FALSE\n144. TRUE\n145. FALSE\n146. FALSE\n147. TRUE\n148. FALSE\n149. TRUE\n150. FALSE\n151. FALSE\n152. FALSE\n153. TRUE\n154. FALSE\n155. TRUE\n156. TRUE\n157. FALSE\n158. FALSE\n159. FALSE\n160. TRUE\n161. FALSE\n162. TRUE\n163. FALSE\n164. FALSE\n165. FALSE\n166. TRUE\n167. FALSE\n168. FALSE\n169. FALSE\n170. FALSE\n171. TRUE\n172. TRUE\n173. FALSE\n174. FALSE\n175. FALSE\n176. TRUE\n177. TRUE\n178. FALSE\n179. TRUE\n180. TRUE\n181. TRUE\n182. FALSE\n183. FALSE\n184. TRUE\n185. FALSE\n186. TRUE\n187. TRUE\n188. FALSE\n189. TRUE\n190. TRUE\n191. FALSE\n192. TRUE\n193. TRUE\n194. TRUE\n195. TRUE\n196. TRUE\n197. FALSE\n198. FALSE\n199. FALSE\n200. FALSE\n201. ⋯\n202. FALSE\n203. FALSE\n204. FALSE\n205. FALSE\n206. FALSE\n207. FALSE\n208. FALSE\n209. FALSE\n210. TRUE\n211. FALSE\n212. TRUE\n213. FALSE\n214. FALSE\n215. TRUE\n216. TRUE\n217. TRUE\n218. TRUE\n219. FALSE\n220. TRUE\n221. TRUE\n222. FALSE\n223. FALSE\n224. TRUE\n225. FALSE\n226. FALSE\n227. FALSE\n228. TRUE\n229. FALSE\n230. FALSE\n231. FALSE\n232. FALSE\n233. FALSE\n234. FALSE\n235. TRUE\n236. FALSE\n237. TRUE\n238. FALSE\n239. FALSE\n240. FALSE\n241. FALSE\n242. FALSE\n243. FALSE\n244. FALSE\n245. FALSE\n246. TRUE\n247. TRUE\n248. TRUE\n249. FALSE\n250. TRUE\n251. FALSE\n252. TRUE\n253. FALSE\n254. FALSE\n255. FALSE\n256. TRUE\n257. FALSE\n258. FALSE\n259. FALSE\n260. FALSE\n261. FALSE\n262. TRUE\n263. FALSE\n264. TRUE\n265. FALSE\n266. FALSE\n267. FALSE\n268. TRUE\n269. TRUE\n270. TRUE\n271. FALSE\n272. TRUE\n273. FALSE\n274. FALSE\n275. FALSE\n276. TRUE\n277. FALSE\n278. FALSE\n279. FALSE\n280. FALSE\n281. FALSE\n282. TRUE\n283. FALSE\n284. FALSE\n285. FALSE\n286. TRUE\n287. FALSE\n288. FALSE\n289. FALSE\n290. FALSE\n291. FALSE\n292. TRUE\n293. FALSE\n294. TRUE\n295. FALSE\n296. TRUE\n297. TRUE\n298. TRUE\n299. FALSE\n300. FALSE\n301. TRUE\n302. TRUE\n303. TRUE\n304. TRUE\n305. FALSE\n306. TRUE\n307. FALSE\n308. TRUE\n309. TRUE\n310. TRUE\n311. FALSE\n312. FALSE\n313. FALSE\n314. FALSE\n315. FALSE\n316. FALSE\n317. FALSE\n318. TRUE\n319. FALSE\n320. FALSE\n321. FALSE\n322. FALSE\n323. FALSE\n324. TRUE\n325. TRUE\n326. FALSE\n327. TRUE\n328. FALSE\n329. TRUE\n330. FALSE\n331. FALSE\n332. FALSE\n333. FALSE\n334. FALSE\n335. TRUE\n336. FALSE\n337. FALSE\n338. FALSE\n339. TRUE\n340. TRUE\n341. FALSE\n342. TRUE\n343. FALSE\n344. FALSE\n345. TRUE\n346. TRUE\n347. FALSE\n348. FALSE\n349. TRUE\n350. FALSE\n351. TRUE\n352. FALSE\n353. TRUE\n354. FALSE\n355. FALSE\n356. FALSE\n357. TRUE\n358. FALSE\n359. FALSE\n360. FALSE\n361. FALSE\n362. FALSE\n363. FALSE\n364. FALSE\n365. TRUE\n366. FALSE\n367. FALSE\n368. FALSE\n369. FALSE\n370. FALSE\n371. TRUE\n372. FALSE\n373. FALSE\n374. TRUE\n375. FALSE\n376. FALSE\n377. TRUE\n378. TRUE\n379. TRUE\n380. FALSE\n381. FALSE\n382. FALSE\n383. TRUE\n384. FALSE\n385. FALSE\n386. FALSE\n387. FALSE\n388. TRUE\n389. FALSE\n390. TRUE\n391. FALSE\n392. FALSE\n393. TRUE\n394. FALSE\n395. TRUE\n396. TRUE\n397. TRUE\n398. FALSE\n399. TRUE\n400. FALSE\n401. FALSE\n\n\n",
            "text/latex": "\\begin{enumerate*}\n\\item TRUE\n\\item FALSE\n\\item TRUE\n\\item FALSE\n\\item FALSE\n\\item TRUE\n\\item FALSE\n\\item TRUE\n\\item FALSE\n\\item TRUE\n\\item FALSE\n\\item TRUE\n\\item TRUE\n\\item FALSE\n\\item TRUE\n\\item TRUE\n\\item FALSE\n\\item TRUE\n\\item FALSE\n\\item FALSE\n\\item FALSE\n\\item TRUE\n\\item TRUE\n\\item TRUE\n\\item TRUE\n\\item TRUE\n\\item TRUE\n\\item FALSE\n\\item TRUE\n\\item TRUE\n\\item TRUE\n\\item FALSE\n\\item FALSE\n\\item TRUE\n\\item TRUE\n\\item FALSE\n\\item TRUE\n\\item TRUE\n\\item FALSE\n\\item FALSE\n\\item FALSE\n\\item TRUE\n\\item TRUE\n\\item TRUE\n\\item TRUE\n\\item FALSE\n\\item FALSE\n\\item FALSE\n\\item TRUE\n\\item TRUE\n\\item FALSE\n\\item FALSE\n\\item TRUE\n\\item TRUE\n\\item TRUE\n\\item FALSE\n\\item TRUE\n\\item FALSE\n\\item FALSE\n\\item FALSE\n\\item FALSE\n\\item TRUE\n\\item TRUE\n\\item FALSE\n\\item TRUE\n\\item TRUE\n\\item FALSE\n\\item FALSE\n\\item FALSE\n\\item FALSE\n\\item FALSE\n\\item TRUE\n\\item TRUE\n\\item FALSE\n\\item FALSE\n\\item FALSE\n\\item TRUE\n\\item TRUE\n\\item FALSE\n\\item FALSE\n\\item FALSE\n\\item FALSE\n\\item TRUE\n\\item FALSE\n\\item TRUE\n\\item FALSE\n\\item TRUE\n\\item FALSE\n\\item TRUE\n\\item FALSE\n\\item FALSE\n\\item FALSE\n\\item TRUE\n\\item FALSE\n\\item FALSE\n\\item TRUE\n\\item FALSE\n\\item FALSE\n\\item TRUE\n\\item FALSE\n\\item FALSE\n\\item FALSE\n\\item FALSE\n\\item FALSE\n\\item FALSE\n\\item FALSE\n\\item FALSE\n\\item FALSE\n\\item FALSE\n\\item FALSE\n\\item FALSE\n\\item TRUE\n\\item FALSE\n\\item FALSE\n\\item TRUE\n\\item FALSE\n\\item TRUE\n\\item TRUE\n\\item FALSE\n\\item FALSE\n\\item FALSE\n\\item TRUE\n\\item FALSE\n\\item TRUE\n\\item FALSE\n\\item FALSE\n\\item FALSE\n\\item FALSE\n\\item FALSE\n\\item FALSE\n\\item FALSE\n\\item TRUE\n\\item FALSE\n\\item TRUE\n\\item FALSE\n\\item FALSE\n\\item FALSE\n\\item FALSE\n\\item FALSE\n\\item TRUE\n\\item FALSE\n\\item TRUE\n\\item FALSE\n\\item TRUE\n\\item FALSE\n\\item FALSE\n\\item TRUE\n\\item FALSE\n\\item TRUE\n\\item FALSE\n\\item FALSE\n\\item FALSE\n\\item TRUE\n\\item FALSE\n\\item TRUE\n\\item TRUE\n\\item FALSE\n\\item FALSE\n\\item FALSE\n\\item TRUE\n\\item FALSE\n\\item TRUE\n\\item FALSE\n\\item FALSE\n\\item FALSE\n\\item TRUE\n\\item FALSE\n\\item FALSE\n\\item FALSE\n\\item FALSE\n\\item TRUE\n\\item TRUE\n\\item FALSE\n\\item FALSE\n\\item FALSE\n\\item TRUE\n\\item TRUE\n\\item FALSE\n\\item TRUE\n\\item TRUE\n\\item TRUE\n\\item FALSE\n\\item FALSE\n\\item TRUE\n\\item FALSE\n\\item TRUE\n\\item TRUE\n\\item FALSE\n\\item TRUE\n\\item TRUE\n\\item FALSE\n\\item TRUE\n\\item TRUE\n\\item TRUE\n\\item TRUE\n\\item TRUE\n\\item FALSE\n\\item FALSE\n\\item FALSE\n\\item FALSE\n\\item ⋯\n\\item FALSE\n\\item FALSE\n\\item FALSE\n\\item FALSE\n\\item FALSE\n\\item FALSE\n\\item FALSE\n\\item FALSE\n\\item TRUE\n\\item FALSE\n\\item TRUE\n\\item FALSE\n\\item FALSE\n\\item TRUE\n\\item TRUE\n\\item TRUE\n\\item TRUE\n\\item FALSE\n\\item TRUE\n\\item TRUE\n\\item FALSE\n\\item FALSE\n\\item TRUE\n\\item FALSE\n\\item FALSE\n\\item FALSE\n\\item TRUE\n\\item FALSE\n\\item FALSE\n\\item FALSE\n\\item FALSE\n\\item FALSE\n\\item FALSE\n\\item TRUE\n\\item FALSE\n\\item TRUE\n\\item FALSE\n\\item FALSE\n\\item FALSE\n\\item FALSE\n\\item FALSE\n\\item FALSE\n\\item FALSE\n\\item FALSE\n\\item TRUE\n\\item TRUE\n\\item TRUE\n\\item FALSE\n\\item TRUE\n\\item FALSE\n\\item TRUE\n\\item FALSE\n\\item FALSE\n\\item FALSE\n\\item TRUE\n\\item FALSE\n\\item FALSE\n\\item FALSE\n\\item FALSE\n\\item FALSE\n\\item TRUE\n\\item FALSE\n\\item TRUE\n\\item FALSE\n\\item FALSE\n\\item FALSE\n\\item TRUE\n\\item TRUE\n\\item TRUE\n\\item FALSE\n\\item TRUE\n\\item FALSE\n\\item FALSE\n\\item FALSE\n\\item TRUE\n\\item FALSE\n\\item FALSE\n\\item FALSE\n\\item FALSE\n\\item FALSE\n\\item TRUE\n\\item FALSE\n\\item FALSE\n\\item FALSE\n\\item TRUE\n\\item FALSE\n\\item FALSE\n\\item FALSE\n\\item FALSE\n\\item FALSE\n\\item TRUE\n\\item FALSE\n\\item TRUE\n\\item FALSE\n\\item TRUE\n\\item TRUE\n\\item TRUE\n\\item FALSE\n\\item FALSE\n\\item TRUE\n\\item TRUE\n\\item TRUE\n\\item TRUE\n\\item FALSE\n\\item TRUE\n\\item FALSE\n\\item TRUE\n\\item TRUE\n\\item TRUE\n\\item FALSE\n\\item FALSE\n\\item FALSE\n\\item FALSE\n\\item FALSE\n\\item FALSE\n\\item FALSE\n\\item TRUE\n\\item FALSE\n\\item FALSE\n\\item FALSE\n\\item FALSE\n\\item FALSE\n\\item TRUE\n\\item TRUE\n\\item FALSE\n\\item TRUE\n\\item FALSE\n\\item TRUE\n\\item FALSE\n\\item FALSE\n\\item FALSE\n\\item FALSE\n\\item FALSE\n\\item TRUE\n\\item FALSE\n\\item FALSE\n\\item FALSE\n\\item TRUE\n\\item TRUE\n\\item FALSE\n\\item TRUE\n\\item FALSE\n\\item FALSE\n\\item TRUE\n\\item TRUE\n\\item FALSE\n\\item FALSE\n\\item TRUE\n\\item FALSE\n\\item TRUE\n\\item FALSE\n\\item TRUE\n\\item FALSE\n\\item FALSE\n\\item FALSE\n\\item TRUE\n\\item FALSE\n\\item FALSE\n\\item FALSE\n\\item FALSE\n\\item FALSE\n\\item FALSE\n\\item FALSE\n\\item TRUE\n\\item FALSE\n\\item FALSE\n\\item FALSE\n\\item FALSE\n\\item FALSE\n\\item TRUE\n\\item FALSE\n\\item FALSE\n\\item TRUE\n\\item FALSE\n\\item FALSE\n\\item TRUE\n\\item TRUE\n\\item TRUE\n\\item FALSE\n\\item FALSE\n\\item FALSE\n\\item TRUE\n\\item FALSE\n\\item FALSE\n\\item FALSE\n\\item FALSE\n\\item TRUE\n\\item FALSE\n\\item TRUE\n\\item FALSE\n\\item FALSE\n\\item TRUE\n\\item FALSE\n\\item TRUE\n\\item TRUE\n\\item TRUE\n\\item FALSE\n\\item TRUE\n\\item FALSE\n\\item FALSE\n\\end{enumerate*}\n",
            "text/plain": [
              "  [1]  TRUE FALSE  TRUE FALSE FALSE  TRUE FALSE  TRUE FALSE  TRUE FALSE  TRUE\n",
              " [13]  TRUE FALSE  TRUE  TRUE FALSE  TRUE FALSE FALSE FALSE  TRUE  TRUE  TRUE\n",
              " [25]  TRUE  TRUE  TRUE FALSE  TRUE  TRUE  TRUE FALSE FALSE  TRUE  TRUE FALSE\n",
              " [37]  TRUE  TRUE FALSE FALSE FALSE  TRUE  TRUE  TRUE  TRUE FALSE FALSE FALSE\n",
              " [49]  TRUE  TRUE FALSE FALSE  TRUE  TRUE  TRUE FALSE  TRUE FALSE FALSE FALSE\n",
              " [61] FALSE  TRUE  TRUE FALSE  TRUE  TRUE FALSE FALSE FALSE FALSE FALSE  TRUE\n",
              " [73]  TRUE FALSE FALSE FALSE  TRUE  TRUE FALSE FALSE FALSE FALSE  TRUE FALSE\n",
              " [85]  TRUE FALSE  TRUE FALSE  TRUE FALSE FALSE FALSE  TRUE FALSE FALSE  TRUE\n",
              " [97] FALSE FALSE  TRUE FALSE FALSE FALSE FALSE FALSE FALSE FALSE FALSE FALSE\n",
              "[109] FALSE FALSE FALSE  TRUE FALSE FALSE  TRUE FALSE  TRUE  TRUE FALSE FALSE\n",
              "[121] FALSE  TRUE FALSE  TRUE FALSE FALSE FALSE FALSE FALSE FALSE FALSE  TRUE\n",
              "[133] FALSE  TRUE FALSE FALSE FALSE FALSE FALSE  TRUE FALSE  TRUE FALSE  TRUE\n",
              "[145] FALSE FALSE  TRUE FALSE  TRUE FALSE FALSE FALSE  TRUE FALSE  TRUE  TRUE\n",
              "[157] FALSE FALSE FALSE  TRUE FALSE  TRUE FALSE FALSE FALSE  TRUE FALSE FALSE\n",
              "[169] FALSE FALSE  TRUE  TRUE FALSE FALSE FALSE  TRUE  TRUE FALSE  TRUE  TRUE\n",
              "[181]  TRUE FALSE FALSE  TRUE FALSE  TRUE  TRUE FALSE  TRUE  TRUE FALSE  TRUE\n",
              "[193]  TRUE  TRUE  TRUE  TRUE FALSE FALSE FALSE FALSE FALSE FALSE FALSE FALSE\n",
              "[205]  TRUE  TRUE  TRUE  TRUE FALSE  TRUE FALSE FALSE  TRUE FALSE  TRUE  TRUE\n",
              "[217]  TRUE  TRUE  TRUE  TRUE FALSE FALSE  TRUE  TRUE FALSE FALSE FALSE FALSE\n",
              "[229] FALSE FALSE FALSE  TRUE FALSE FALSE FALSE FALSE  TRUE FALSE  TRUE FALSE\n",
              "[241] FALSE FALSE FALSE  TRUE FALSE  TRUE  TRUE FALSE  TRUE FALSE  TRUE FALSE\n",
              "[253] FALSE FALSE  TRUE FALSE FALSE FALSE FALSE  TRUE FALSE FALSE FALSE FALSE\n",
              "[265] FALSE  TRUE FALSE FALSE FALSE FALSE  TRUE FALSE FALSE FALSE  TRUE FALSE\n",
              "[277]  TRUE FALSE  TRUE FALSE FALSE  TRUE  TRUE  TRUE FALSE  TRUE  TRUE FALSE\n",
              "[289] FALSE  TRUE FALSE FALSE FALSE FALSE FALSE  TRUE FALSE FALSE  TRUE  TRUE\n",
              "[301] FALSE FALSE  TRUE  TRUE FALSE FALSE  TRUE FALSE FALSE FALSE  TRUE FALSE\n",
              "[313] FALSE FALSE  TRUE FALSE FALSE FALSE FALSE  TRUE FALSE FALSE FALSE  TRUE\n",
              "[325] FALSE FALSE FALSE  TRUE FALSE  TRUE  TRUE FALSE FALSE  TRUE FALSE FALSE\n",
              "[337] FALSE  TRUE  TRUE  TRUE FALSE FALSE FALSE  TRUE  TRUE  TRUE FALSE FALSE\n",
              "[349] FALSE  TRUE FALSE FALSE FALSE FALSE FALSE  TRUE FALSE  TRUE  TRUE FALSE\n",
              "[361]  TRUE  TRUE  TRUE FALSE FALSE  TRUE  TRUE FALSE FALSE FALSE FALSE FALSE\n",
              "[373] FALSE FALSE FALSE  TRUE FALSE FALSE FALSE FALSE FALSE FALSE FALSE FALSE\n",
              "[385] FALSE FALSE  TRUE  TRUE  TRUE FALSE FALSE  TRUE FALSE FALSE FALSE FALSE\n",
              "[397] FALSE FALSE FALSE FALSE FALSE  TRUE  TRUE  TRUE  TRUE FALSE FALSE FALSE\n",
              "[409]  TRUE FALSE  TRUE FALSE FALSE FALSE FALSE FALSE FALSE FALSE FALSE FALSE\n",
              "[421] FALSE FALSE FALSE FALSE  TRUE FALSE FALSE FALSE FALSE FALSE FALSE FALSE\n",
              "[433] FALSE FALSE FALSE FALSE  TRUE  TRUE FALSE  TRUE FALSE FALSE FALSE  TRUE\n",
              "[445] FALSE FALSE FALSE FALSE FALSE FALSE FALSE FALSE FALSE FALSE FALSE  TRUE\n",
              "[457] FALSE  TRUE  TRUE  TRUE  TRUE FALSE  TRUE  TRUE  TRUE FALSE FALSE FALSE\n",
              "[469]  TRUE  TRUE FALSE FALSE FALSE  TRUE FALSE FALSE FALSE  TRUE  TRUE FALSE\n",
              "[481] FALSE FALSE FALSE FALSE FALSE FALSE FALSE FALSE FALSE  TRUE FALSE FALSE\n",
              "[493] FALSE FALSE FALSE  TRUE  TRUE FALSE  TRUE  TRUE FALSE FALSE  TRUE  TRUE\n",
              "[505] FALSE  TRUE FALSE FALSE FALSE  TRUE  TRUE FALSE  TRUE FALSE FALSE FALSE\n",
              "[517]  TRUE  TRUE  TRUE  TRUE FALSE FALSE  TRUE  TRUE FALSE FALSE FALSE FALSE\n",
              "[529] FALSE FALSE FALSE FALSE FALSE  TRUE FALSE FALSE FALSE FALSE FALSE FALSE\n",
              "[541]  TRUE FALSE  TRUE FALSE FALSE  TRUE  TRUE FALSE FALSE FALSE FALSE FALSE\n",
              "[553]  TRUE FALSE FALSE  TRUE FALSE  TRUE  TRUE  TRUE  TRUE FALSE FALSE  TRUE\n",
              "[565] FALSE FALSE FALSE  TRUE FALSE FALSE FALSE FALSE FALSE FALSE FALSE FALSE\n",
              "[577]  TRUE FALSE  TRUE FALSE FALSE  TRUE  TRUE  TRUE  TRUE FALSE  TRUE  TRUE\n",
              "[589] FALSE FALSE  TRUE FALSE FALSE FALSE  TRUE FALSE FALSE FALSE FALSE FALSE\n",
              "[601] FALSE  TRUE FALSE  TRUE FALSE FALSE FALSE FALSE FALSE FALSE FALSE FALSE\n",
              "[613]  TRUE  TRUE  TRUE FALSE  TRUE FALSE  TRUE FALSE FALSE FALSE  TRUE FALSE\n",
              "[625] FALSE FALSE FALSE FALSE  TRUE FALSE  TRUE FALSE FALSE FALSE  TRUE  TRUE\n",
              "[637]  TRUE FALSE  TRUE FALSE FALSE FALSE  TRUE FALSE FALSE FALSE FALSE FALSE\n",
              "[649]  TRUE FALSE FALSE FALSE  TRUE FALSE FALSE FALSE FALSE FALSE  TRUE FALSE\n",
              "[661]  TRUE FALSE  TRUE  TRUE  TRUE FALSE FALSE  TRUE  TRUE  TRUE  TRUE FALSE\n",
              "[673]  TRUE FALSE  TRUE  TRUE  TRUE FALSE FALSE FALSE FALSE FALSE FALSE FALSE\n",
              "[685]  TRUE FALSE FALSE FALSE FALSE FALSE  TRUE  TRUE FALSE  TRUE FALSE  TRUE\n",
              "[697] FALSE FALSE FALSE FALSE FALSE  TRUE FALSE FALSE FALSE  TRUE  TRUE FALSE\n",
              "[709]  TRUE FALSE FALSE  TRUE  TRUE FALSE FALSE  TRUE FALSE  TRUE FALSE  TRUE\n",
              "[721] FALSE FALSE FALSE  TRUE FALSE FALSE FALSE FALSE FALSE FALSE FALSE  TRUE\n",
              "[733] FALSE FALSE FALSE FALSE FALSE  TRUE FALSE FALSE  TRUE FALSE FALSE  TRUE\n",
              "[745]  TRUE  TRUE FALSE FALSE FALSE  TRUE FALSE FALSE FALSE FALSE  TRUE FALSE\n",
              "[757]  TRUE FALSE FALSE  TRUE FALSE  TRUE  TRUE  TRUE FALSE  TRUE FALSE FALSE"
            ]
          },
          "metadata": {}
        }
      ]
    },
    {
      "cell_type": "code",
      "source": [
        "pima[pima$Pregnancies>4,c(\"Pregnancies\", \"Glucose\")]"
      ],
      "metadata": {
        "colab": {
          "base_uri": "https://localhost:8080/",
          "height": 2010
        },
        "id": "O8jJPq3caCQO",
        "outputId": "17570a7b-e4cd-4836-a273-74da53160e48"
      },
      "execution_count": null,
      "outputs": [
        {
          "output_type": "display_data",
          "data": {
            "text/html": [
              "<table class=\"dataframe\">\n",
              "<caption>A data.frame: 276 × 2</caption>\n",
              "<thead>\n",
              "\t<tr><th></th><th scope=col>Pregnancies</th><th scope=col>Glucose</th></tr>\n",
              "\t<tr><th></th><th scope=col>&lt;int&gt;</th><th scope=col>&lt;int&gt;</th></tr>\n",
              "</thead>\n",
              "<tbody>\n",
              "\t<tr><th scope=row>1</th><td> 6</td><td>148</td></tr>\n",
              "\t<tr><th scope=row>3</th><td> 8</td><td>183</td></tr>\n",
              "\t<tr><th scope=row>6</th><td> 5</td><td>116</td></tr>\n",
              "\t<tr><th scope=row>8</th><td>10</td><td>115</td></tr>\n",
              "\t<tr><th scope=row>10</th><td> 8</td><td>125</td></tr>\n",
              "\t<tr><th scope=row>12</th><td>10</td><td>168</td></tr>\n",
              "\t<tr><th scope=row>13</th><td>10</td><td>139</td></tr>\n",
              "\t<tr><th scope=row>15</th><td> 5</td><td>166</td></tr>\n",
              "\t<tr><th scope=row>16</th><td> 7</td><td>100</td></tr>\n",
              "\t<tr><th scope=row>18</th><td> 7</td><td>107</td></tr>\n",
              "\t<tr><th scope=row>22</th><td> 8</td><td> 99</td></tr>\n",
              "\t<tr><th scope=row>23</th><td> 7</td><td>196</td></tr>\n",
              "\t<tr><th scope=row>24</th><td> 9</td><td>119</td></tr>\n",
              "\t<tr><th scope=row>25</th><td>11</td><td>143</td></tr>\n",
              "\t<tr><th scope=row>26</th><td>10</td><td>125</td></tr>\n",
              "\t<tr><th scope=row>27</th><td> 7</td><td>147</td></tr>\n",
              "\t<tr><th scope=row>29</th><td>13</td><td>145</td></tr>\n",
              "\t<tr><th scope=row>30</th><td> 5</td><td>117</td></tr>\n",
              "\t<tr><th scope=row>31</th><td> 5</td><td>109</td></tr>\n",
              "\t<tr><th scope=row>34</th><td> 6</td><td> 92</td></tr>\n",
              "\t<tr><th scope=row>35</th><td>10</td><td>122</td></tr>\n",
              "\t<tr><th scope=row>37</th><td>11</td><td>138</td></tr>\n",
              "\t<tr><th scope=row>38</th><td> 9</td><td>102</td></tr>\n",
              "\t<tr><th scope=row>42</th><td> 7</td><td>133</td></tr>\n",
              "\t<tr><th scope=row>43</th><td> 7</td><td>106</td></tr>\n",
              "\t<tr><th scope=row>44</th><td> 9</td><td>171</td></tr>\n",
              "\t<tr><th scope=row>45</th><td> 7</td><td>159</td></tr>\n",
              "\t<tr><th scope=row>49</th><td> 7</td><td>103</td></tr>\n",
              "\t<tr><th scope=row>50</th><td> 7</td><td>105</td></tr>\n",
              "\t<tr><th scope=row>53</th><td> 5</td><td> 88</td></tr>\n",
              "\t<tr><th scope=row>⋮</th><td>⋮</td><td>⋮</td></tr>\n",
              "\t<tr><th scope=row>677</th><td> 9</td><td>156</td></tr>\n",
              "\t<tr><th scope=row>685</th><td> 5</td><td>136</td></tr>\n",
              "\t<tr><th scope=row>691</th><td> 8</td><td>107</td></tr>\n",
              "\t<tr><th scope=row>692</th><td>13</td><td>158</td></tr>\n",
              "\t<tr><th scope=row>694</th><td> 7</td><td>129</td></tr>\n",
              "\t<tr><th scope=row>696</th><td> 7</td><td>142</td></tr>\n",
              "\t<tr><th scope=row>702</th><td> 6</td><td>125</td></tr>\n",
              "\t<tr><th scope=row>706</th><td> 6</td><td> 80</td></tr>\n",
              "\t<tr><th scope=row>707</th><td>10</td><td>115</td></tr>\n",
              "\t<tr><th scope=row>709</th><td> 9</td><td>164</td></tr>\n",
              "\t<tr><th scope=row>712</th><td> 5</td><td>126</td></tr>\n",
              "\t<tr><th scope=row>713</th><td>10</td><td>129</td></tr>\n",
              "\t<tr><th scope=row>716</th><td> 7</td><td>187</td></tr>\n",
              "\t<tr><th scope=row>718</th><td>10</td><td> 94</td></tr>\n",
              "\t<tr><th scope=row>720</th><td> 5</td><td> 97</td></tr>\n",
              "\t<tr><th scope=row>724</th><td> 5</td><td>117</td></tr>\n",
              "\t<tr><th scope=row>732</th><td> 8</td><td>120</td></tr>\n",
              "\t<tr><th scope=row>738</th><td> 8</td><td> 65</td></tr>\n",
              "\t<tr><th scope=row>741</th><td>11</td><td>120</td></tr>\n",
              "\t<tr><th scope=row>744</th><td> 9</td><td>140</td></tr>\n",
              "\t<tr><th scope=row>745</th><td>13</td><td>153</td></tr>\n",
              "\t<tr><th scope=row>746</th><td>12</td><td>100</td></tr>\n",
              "\t<tr><th scope=row>750</th><td> 6</td><td>162</td></tr>\n",
              "\t<tr><th scope=row>755</th><td> 8</td><td>154</td></tr>\n",
              "\t<tr><th scope=row>757</th><td> 7</td><td>137</td></tr>\n",
              "\t<tr><th scope=row>760</th><td> 6</td><td>190</td></tr>\n",
              "\t<tr><th scope=row>762</th><td> 9</td><td>170</td></tr>\n",
              "\t<tr><th scope=row>763</th><td> 9</td><td> 89</td></tr>\n",
              "\t<tr><th scope=row>764</th><td>10</td><td>101</td></tr>\n",
              "\t<tr><th scope=row>766</th><td> 5</td><td>121</td></tr>\n",
              "</tbody>\n",
              "</table>\n"
            ],
            "text/markdown": "\nA data.frame: 276 × 2\n\n| <!--/--> | Pregnancies &lt;int&gt; | Glucose &lt;int&gt; |\n|---|---|---|\n| 1 |  6 | 148 |\n| 3 |  8 | 183 |\n| 6 |  5 | 116 |\n| 8 | 10 | 115 |\n| 10 |  8 | 125 |\n| 12 | 10 | 168 |\n| 13 | 10 | 139 |\n| 15 |  5 | 166 |\n| 16 |  7 | 100 |\n| 18 |  7 | 107 |\n| 22 |  8 |  99 |\n| 23 |  7 | 196 |\n| 24 |  9 | 119 |\n| 25 | 11 | 143 |\n| 26 | 10 | 125 |\n| 27 |  7 | 147 |\n| 29 | 13 | 145 |\n| 30 |  5 | 117 |\n| 31 |  5 | 109 |\n| 34 |  6 |  92 |\n| 35 | 10 | 122 |\n| 37 | 11 | 138 |\n| 38 |  9 | 102 |\n| 42 |  7 | 133 |\n| 43 |  7 | 106 |\n| 44 |  9 | 171 |\n| 45 |  7 | 159 |\n| 49 |  7 | 103 |\n| 50 |  7 | 105 |\n| 53 |  5 |  88 |\n| ⋮ | ⋮ | ⋮ |\n| 677 |  9 | 156 |\n| 685 |  5 | 136 |\n| 691 |  8 | 107 |\n| 692 | 13 | 158 |\n| 694 |  7 | 129 |\n| 696 |  7 | 142 |\n| 702 |  6 | 125 |\n| 706 |  6 |  80 |\n| 707 | 10 | 115 |\n| 709 |  9 | 164 |\n| 712 |  5 | 126 |\n| 713 | 10 | 129 |\n| 716 |  7 | 187 |\n| 718 | 10 |  94 |\n| 720 |  5 |  97 |\n| 724 |  5 | 117 |\n| 732 |  8 | 120 |\n| 738 |  8 |  65 |\n| 741 | 11 | 120 |\n| 744 |  9 | 140 |\n| 745 | 13 | 153 |\n| 746 | 12 | 100 |\n| 750 |  6 | 162 |\n| 755 |  8 | 154 |\n| 757 |  7 | 137 |\n| 760 |  6 | 190 |\n| 762 |  9 | 170 |\n| 763 |  9 |  89 |\n| 764 | 10 | 101 |\n| 766 |  5 | 121 |\n\n",
            "text/latex": "A data.frame: 276 × 2\n\\begin{tabular}{r|ll}\n  & Pregnancies & Glucose\\\\\n  & <int> & <int>\\\\\n\\hline\n\t1 &  6 & 148\\\\\n\t3 &  8 & 183\\\\\n\t6 &  5 & 116\\\\\n\t8 & 10 & 115\\\\\n\t10 &  8 & 125\\\\\n\t12 & 10 & 168\\\\\n\t13 & 10 & 139\\\\\n\t15 &  5 & 166\\\\\n\t16 &  7 & 100\\\\\n\t18 &  7 & 107\\\\\n\t22 &  8 &  99\\\\\n\t23 &  7 & 196\\\\\n\t24 &  9 & 119\\\\\n\t25 & 11 & 143\\\\\n\t26 & 10 & 125\\\\\n\t27 &  7 & 147\\\\\n\t29 & 13 & 145\\\\\n\t30 &  5 & 117\\\\\n\t31 &  5 & 109\\\\\n\t34 &  6 &  92\\\\\n\t35 & 10 & 122\\\\\n\t37 & 11 & 138\\\\\n\t38 &  9 & 102\\\\\n\t42 &  7 & 133\\\\\n\t43 &  7 & 106\\\\\n\t44 &  9 & 171\\\\\n\t45 &  7 & 159\\\\\n\t49 &  7 & 103\\\\\n\t50 &  7 & 105\\\\\n\t53 &  5 &  88\\\\\n\t⋮ & ⋮ & ⋮\\\\\n\t677 &  9 & 156\\\\\n\t685 &  5 & 136\\\\\n\t691 &  8 & 107\\\\\n\t692 & 13 & 158\\\\\n\t694 &  7 & 129\\\\\n\t696 &  7 & 142\\\\\n\t702 &  6 & 125\\\\\n\t706 &  6 &  80\\\\\n\t707 & 10 & 115\\\\\n\t709 &  9 & 164\\\\\n\t712 &  5 & 126\\\\\n\t713 & 10 & 129\\\\\n\t716 &  7 & 187\\\\\n\t718 & 10 &  94\\\\\n\t720 &  5 &  97\\\\\n\t724 &  5 & 117\\\\\n\t732 &  8 & 120\\\\\n\t738 &  8 &  65\\\\\n\t741 & 11 & 120\\\\\n\t744 &  9 & 140\\\\\n\t745 & 13 & 153\\\\\n\t746 & 12 & 100\\\\\n\t750 &  6 & 162\\\\\n\t755 &  8 & 154\\\\\n\t757 &  7 & 137\\\\\n\t760 &  6 & 190\\\\\n\t762 &  9 & 170\\\\\n\t763 &  9 &  89\\\\\n\t764 & 10 & 101\\\\\n\t766 &  5 & 121\\\\\n\\end{tabular}\n",
            "text/plain": [
              "    Pregnancies Glucose\n",
              "1    6          148    \n",
              "3    8          183    \n",
              "6    5          116    \n",
              "8   10          115    \n",
              "10   8          125    \n",
              "12  10          168    \n",
              "13  10          139    \n",
              "15   5          166    \n",
              "16   7          100    \n",
              "18   7          107    \n",
              "22   8           99    \n",
              "23   7          196    \n",
              "24   9          119    \n",
              "25  11          143    \n",
              "26  10          125    \n",
              "27   7          147    \n",
              "29  13          145    \n",
              "30   5          117    \n",
              "31   5          109    \n",
              "34   6           92    \n",
              "35  10          122    \n",
              "37  11          138    \n",
              "38   9          102    \n",
              "42   7          133    \n",
              "43   7          106    \n",
              "44   9          171    \n",
              "45   7          159    \n",
              "49   7          103    \n",
              "50   7          105    \n",
              "53   5           88    \n",
              "⋮   ⋮           ⋮      \n",
              "677  9          156    \n",
              "685  5          136    \n",
              "691  8          107    \n",
              "692 13          158    \n",
              "694  7          129    \n",
              "696  7          142    \n",
              "702  6          125    \n",
              "706  6           80    \n",
              "707 10          115    \n",
              "709  9          164    \n",
              "712  5          126    \n",
              "713 10          129    \n",
              "716  7          187    \n",
              "718 10           94    \n",
              "720  5           97    \n",
              "724  5          117    \n",
              "732  8          120    \n",
              "738  8           65    \n",
              "741 11          120    \n",
              "744  9          140    \n",
              "745 13          153    \n",
              "746 12          100    \n",
              "750  6          162    \n",
              "755  8          154    \n",
              "757  7          137    \n",
              "760  6          190    \n",
              "762  9          170    \n",
              "763  9           89    \n",
              "764 10          101    \n",
              "766  5          121    "
            ]
          },
          "metadata": {}
        }
      ]
    },
    {
      "cell_type": "code",
      "source": [
        "# Mostrar mais de uma coluna em R\n",
        "pima[c(\"Pregnancies\", \"BMI\")]"
      ],
      "metadata": {
        "colab": {
          "base_uri": "https://localhost:8080/",
          "height": 2010
        },
        "id": "jum9q-Nial3U",
        "outputId": "4b0a5e1d-3086-4fae-ec1d-16eb3e0a03d1"
      },
      "execution_count": null,
      "outputs": [
        {
          "output_type": "display_data",
          "data": {
            "text/html": [
              "<table class=\"dataframe\">\n",
              "<caption>A data.frame: 768 × 2</caption>\n",
              "<thead>\n",
              "\t<tr><th scope=col>Pregnancies</th><th scope=col>BMI</th></tr>\n",
              "\t<tr><th scope=col>&lt;int&gt;</th><th scope=col>&lt;dbl&gt;</th></tr>\n",
              "</thead>\n",
              "<tbody>\n",
              "\t<tr><td> 6</td><td>33.6</td></tr>\n",
              "\t<tr><td> 1</td><td>26.6</td></tr>\n",
              "\t<tr><td> 8</td><td>23.3</td></tr>\n",
              "\t<tr><td> 1</td><td>28.1</td></tr>\n",
              "\t<tr><td> 0</td><td>43.1</td></tr>\n",
              "\t<tr><td> 5</td><td>25.6</td></tr>\n",
              "\t<tr><td> 3</td><td>31.0</td></tr>\n",
              "\t<tr><td>10</td><td>35.3</td></tr>\n",
              "\t<tr><td> 2</td><td>30.5</td></tr>\n",
              "\t<tr><td> 8</td><td> 0.0</td></tr>\n",
              "\t<tr><td> 4</td><td>37.6</td></tr>\n",
              "\t<tr><td>10</td><td>38.0</td></tr>\n",
              "\t<tr><td>10</td><td>27.1</td></tr>\n",
              "\t<tr><td> 1</td><td>30.1</td></tr>\n",
              "\t<tr><td> 5</td><td>25.8</td></tr>\n",
              "\t<tr><td> 7</td><td>30.0</td></tr>\n",
              "\t<tr><td> 0</td><td>45.8</td></tr>\n",
              "\t<tr><td> 7</td><td>29.6</td></tr>\n",
              "\t<tr><td> 1</td><td>43.3</td></tr>\n",
              "\t<tr><td> 1</td><td>34.6</td></tr>\n",
              "\t<tr><td> 3</td><td>39.3</td></tr>\n",
              "\t<tr><td> 8</td><td>35.4</td></tr>\n",
              "\t<tr><td> 7</td><td>39.8</td></tr>\n",
              "\t<tr><td> 9</td><td>29.0</td></tr>\n",
              "\t<tr><td>11</td><td>36.6</td></tr>\n",
              "\t<tr><td>10</td><td>31.1</td></tr>\n",
              "\t<tr><td> 7</td><td>39.4</td></tr>\n",
              "\t<tr><td> 1</td><td>23.2</td></tr>\n",
              "\t<tr><td>13</td><td>22.2</td></tr>\n",
              "\t<tr><td> 5</td><td>34.1</td></tr>\n",
              "\t<tr><td>⋮</td><td>⋮</td></tr>\n",
              "\t<tr><td> 2</td><td>36.6</td></tr>\n",
              "\t<tr><td> 1</td><td>39.5</td></tr>\n",
              "\t<tr><td>11</td><td>42.3</td></tr>\n",
              "\t<tr><td> 3</td><td>30.8</td></tr>\n",
              "\t<tr><td> 1</td><td>28.5</td></tr>\n",
              "\t<tr><td> 9</td><td>32.7</td></tr>\n",
              "\t<tr><td>13</td><td>40.6</td></tr>\n",
              "\t<tr><td>12</td><td>30.0</td></tr>\n",
              "\t<tr><td> 1</td><td>49.3</td></tr>\n",
              "\t<tr><td> 1</td><td>46.3</td></tr>\n",
              "\t<tr><td> 3</td><td>36.4</td></tr>\n",
              "\t<tr><td> 6</td><td>24.3</td></tr>\n",
              "\t<tr><td> 4</td><td>31.2</td></tr>\n",
              "\t<tr><td> 1</td><td>39.0</td></tr>\n",
              "\t<tr><td> 3</td><td>26.0</td></tr>\n",
              "\t<tr><td> 0</td><td>43.3</td></tr>\n",
              "\t<tr><td> 8</td><td>32.4</td></tr>\n",
              "\t<tr><td> 1</td><td>36.5</td></tr>\n",
              "\t<tr><td> 7</td><td>32.0</td></tr>\n",
              "\t<tr><td> 0</td><td>36.3</td></tr>\n",
              "\t<tr><td> 1</td><td>37.5</td></tr>\n",
              "\t<tr><td> 6</td><td>35.5</td></tr>\n",
              "\t<tr><td> 2</td><td>28.4</td></tr>\n",
              "\t<tr><td> 9</td><td>44.0</td></tr>\n",
              "\t<tr><td> 9</td><td>22.5</td></tr>\n",
              "\t<tr><td>10</td><td>32.9</td></tr>\n",
              "\t<tr><td> 2</td><td>36.8</td></tr>\n",
              "\t<tr><td> 5</td><td>26.2</td></tr>\n",
              "\t<tr><td> 1</td><td>30.1</td></tr>\n",
              "\t<tr><td> 1</td><td>30.4</td></tr>\n",
              "</tbody>\n",
              "</table>\n"
            ],
            "text/markdown": "\nA data.frame: 768 × 2\n\n| Pregnancies &lt;int&gt; | BMI &lt;dbl&gt; |\n|---|---|\n|  6 | 33.6 |\n|  1 | 26.6 |\n|  8 | 23.3 |\n|  1 | 28.1 |\n|  0 | 43.1 |\n|  5 | 25.6 |\n|  3 | 31.0 |\n| 10 | 35.3 |\n|  2 | 30.5 |\n|  8 |  0.0 |\n|  4 | 37.6 |\n| 10 | 38.0 |\n| 10 | 27.1 |\n|  1 | 30.1 |\n|  5 | 25.8 |\n|  7 | 30.0 |\n|  0 | 45.8 |\n|  7 | 29.6 |\n|  1 | 43.3 |\n|  1 | 34.6 |\n|  3 | 39.3 |\n|  8 | 35.4 |\n|  7 | 39.8 |\n|  9 | 29.0 |\n| 11 | 36.6 |\n| 10 | 31.1 |\n|  7 | 39.4 |\n|  1 | 23.2 |\n| 13 | 22.2 |\n|  5 | 34.1 |\n| ⋮ | ⋮ |\n|  2 | 36.6 |\n|  1 | 39.5 |\n| 11 | 42.3 |\n|  3 | 30.8 |\n|  1 | 28.5 |\n|  9 | 32.7 |\n| 13 | 40.6 |\n| 12 | 30.0 |\n|  1 | 49.3 |\n|  1 | 46.3 |\n|  3 | 36.4 |\n|  6 | 24.3 |\n|  4 | 31.2 |\n|  1 | 39.0 |\n|  3 | 26.0 |\n|  0 | 43.3 |\n|  8 | 32.4 |\n|  1 | 36.5 |\n|  7 | 32.0 |\n|  0 | 36.3 |\n|  1 | 37.5 |\n|  6 | 35.5 |\n|  2 | 28.4 |\n|  9 | 44.0 |\n|  9 | 22.5 |\n| 10 | 32.9 |\n|  2 | 36.8 |\n|  5 | 26.2 |\n|  1 | 30.1 |\n|  1 | 30.4 |\n\n",
            "text/latex": "A data.frame: 768 × 2\n\\begin{tabular}{ll}\n Pregnancies & BMI\\\\\n <int> & <dbl>\\\\\n\\hline\n\t  6 & 33.6\\\\\n\t  1 & 26.6\\\\\n\t  8 & 23.3\\\\\n\t  1 & 28.1\\\\\n\t  0 & 43.1\\\\\n\t  5 & 25.6\\\\\n\t  3 & 31.0\\\\\n\t 10 & 35.3\\\\\n\t  2 & 30.5\\\\\n\t  8 &  0.0\\\\\n\t  4 & 37.6\\\\\n\t 10 & 38.0\\\\\n\t 10 & 27.1\\\\\n\t  1 & 30.1\\\\\n\t  5 & 25.8\\\\\n\t  7 & 30.0\\\\\n\t  0 & 45.8\\\\\n\t  7 & 29.6\\\\\n\t  1 & 43.3\\\\\n\t  1 & 34.6\\\\\n\t  3 & 39.3\\\\\n\t  8 & 35.4\\\\\n\t  7 & 39.8\\\\\n\t  9 & 29.0\\\\\n\t 11 & 36.6\\\\\n\t 10 & 31.1\\\\\n\t  7 & 39.4\\\\\n\t  1 & 23.2\\\\\n\t 13 & 22.2\\\\\n\t  5 & 34.1\\\\\n\t ⋮ & ⋮\\\\\n\t  2 & 36.6\\\\\n\t  1 & 39.5\\\\\n\t 11 & 42.3\\\\\n\t  3 & 30.8\\\\\n\t  1 & 28.5\\\\\n\t  9 & 32.7\\\\\n\t 13 & 40.6\\\\\n\t 12 & 30.0\\\\\n\t  1 & 49.3\\\\\n\t  1 & 46.3\\\\\n\t  3 & 36.4\\\\\n\t  6 & 24.3\\\\\n\t  4 & 31.2\\\\\n\t  1 & 39.0\\\\\n\t  3 & 26.0\\\\\n\t  0 & 43.3\\\\\n\t  8 & 32.4\\\\\n\t  1 & 36.5\\\\\n\t  7 & 32.0\\\\\n\t  0 & 36.3\\\\\n\t  1 & 37.5\\\\\n\t  6 & 35.5\\\\\n\t  2 & 28.4\\\\\n\t  9 & 44.0\\\\\n\t  9 & 22.5\\\\\n\t 10 & 32.9\\\\\n\t  2 & 36.8\\\\\n\t  5 & 26.2\\\\\n\t  1 & 30.1\\\\\n\t  1 & 30.4\\\\\n\\end{tabular}\n",
            "text/plain": [
              "    Pregnancies BMI \n",
              "1    6          33.6\n",
              "2    1          26.6\n",
              "3    8          23.3\n",
              "4    1          28.1\n",
              "5    0          43.1\n",
              "6    5          25.6\n",
              "7    3          31.0\n",
              "8   10          35.3\n",
              "9    2          30.5\n",
              "10   8           0.0\n",
              "11   4          37.6\n",
              "12  10          38.0\n",
              "13  10          27.1\n",
              "14   1          30.1\n",
              "15   5          25.8\n",
              "16   7          30.0\n",
              "17   0          45.8\n",
              "18   7          29.6\n",
              "19   1          43.3\n",
              "20   1          34.6\n",
              "21   3          39.3\n",
              "22   8          35.4\n",
              "23   7          39.8\n",
              "24   9          29.0\n",
              "25  11          36.6\n",
              "26  10          31.1\n",
              "27   7          39.4\n",
              "28   1          23.2\n",
              "29  13          22.2\n",
              "30   5          34.1\n",
              "⋮   ⋮           ⋮   \n",
              "739  2          36.6\n",
              "740  1          39.5\n",
              "741 11          42.3\n",
              "742  3          30.8\n",
              "743  1          28.5\n",
              "744  9          32.7\n",
              "745 13          40.6\n",
              "746 12          30.0\n",
              "747  1          49.3\n",
              "748  1          46.3\n",
              "749  3          36.4\n",
              "750  6          24.3\n",
              "751  4          31.2\n",
              "752  1          39.0\n",
              "753  3          26.0\n",
              "754  0          43.3\n",
              "755  8          32.4\n",
              "756  1          36.5\n",
              "757  7          32.0\n",
              "758  0          36.3\n",
              "759  1          37.5\n",
              "760  6          35.5\n",
              "761  2          28.4\n",
              "762  9          44.0\n",
              "763  9          22.5\n",
              "764 10          32.9\n",
              "765  2          36.8\n",
              "766  5          26.2\n",
              "767  1          30.1\n",
              "768  1          30.4"
            ]
          },
          "metadata": {}
        }
      ]
    },
    {
      "cell_type": "code",
      "source": [
        "# Listar os nomes das colunas\n",
        "colnames(pima)"
      ],
      "metadata": {
        "colab": {
          "base_uri": "https://localhost:8080/",
          "height": 34
        },
        "id": "mbqgf4OhbG5f",
        "outputId": "aed812e0-8775-499f-ced3-85a8adb2110a"
      },
      "execution_count": null,
      "outputs": [
        {
          "output_type": "display_data",
          "data": {
            "text/html": [
              "<style>\n",
              ".list-inline {list-style: none; margin:0; padding: 0}\n",
              ".list-inline>li {display: inline-block}\n",
              ".list-inline>li:not(:last-child)::after {content: \"\\00b7\"; padding: 0 .5ex}\n",
              "</style>\n",
              "<ol class=list-inline><li>'Pregnancies'</li><li>'Glucose'</li><li>'BloodPressure'</li><li>'SkinThickness'</li><li>'Insulin'</li><li>'BMI'</li><li>'DiabetesPedigreeFunction'</li><li>'Age'</li><li>'Outcome'</li></ol>\n"
            ],
            "text/markdown": "1. 'Pregnancies'\n2. 'Glucose'\n3. 'BloodPressure'\n4. 'SkinThickness'\n5. 'Insulin'\n6. 'BMI'\n7. 'DiabetesPedigreeFunction'\n8. 'Age'\n9. 'Outcome'\n\n\n",
            "text/latex": "\\begin{enumerate*}\n\\item 'Pregnancies'\n\\item 'Glucose'\n\\item 'BloodPressure'\n\\item 'SkinThickness'\n\\item 'Insulin'\n\\item 'BMI'\n\\item 'DiabetesPedigreeFunction'\n\\item 'Age'\n\\item 'Outcome'\n\\end{enumerate*}\n",
            "text/plain": [
              "[1] \"Pregnancies\"              \"Glucose\"                 \n",
              "[3] \"BloodPressure\"            \"SkinThickness\"           \n",
              "[5] \"Insulin\"                  \"BMI\"                     \n",
              "[7] \"DiabetesPedigreeFunction\" \"Age\"                     \n",
              "[9] \"Outcome\"                 "
            ]
          },
          "metadata": {}
        }
      ]
    },
    {
      "cell_type": "code",
      "source": [
        "# Listas os nomes das colunas\n",
        "names(pima)"
      ],
      "metadata": {
        "colab": {
          "base_uri": "https://localhost:8080/",
          "height": 34
        },
        "id": "XIQ9UEbYbirQ",
        "outputId": "53c95856-d009-4476-d0f4-56ccfb152c8a"
      },
      "execution_count": null,
      "outputs": [
        {
          "output_type": "display_data",
          "data": {
            "text/html": [
              "<style>\n",
              ".list-inline {list-style: none; margin:0; padding: 0}\n",
              ".list-inline>li {display: inline-block}\n",
              ".list-inline>li:not(:last-child)::after {content: \"\\00b7\"; padding: 0 .5ex}\n",
              "</style>\n",
              "<ol class=list-inline><li>'Pregnancies'</li><li>'Glucose'</li><li>'BloodPressure'</li><li>'SkinThickness'</li><li>'Insulin'</li><li>'BMI'</li><li>'DiabetesPedigreeFunction'</li><li>'Age'</li><li>'Outcome'</li></ol>\n"
            ],
            "text/markdown": "1. 'Pregnancies'\n2. 'Glucose'\n3. 'BloodPressure'\n4. 'SkinThickness'\n5. 'Insulin'\n6. 'BMI'\n7. 'DiabetesPedigreeFunction'\n8. 'Age'\n9. 'Outcome'\n\n\n",
            "text/latex": "\\begin{enumerate*}\n\\item 'Pregnancies'\n\\item 'Glucose'\n\\item 'BloodPressure'\n\\item 'SkinThickness'\n\\item 'Insulin'\n\\item 'BMI'\n\\item 'DiabetesPedigreeFunction'\n\\item 'Age'\n\\item 'Outcome'\n\\end{enumerate*}\n",
            "text/plain": [
              "[1] \"Pregnancies\"              \"Glucose\"                 \n",
              "[3] \"BloodPressure\"            \"SkinThickness\"           \n",
              "[5] \"Insulin\"                  \"BMI\"                     \n",
              "[7] \"DiabetesPedigreeFunction\" \"Age\"                     \n",
              "[9] \"Outcome\"                 "
            ]
          },
          "metadata": {}
        }
      ]
    },
    {
      "cell_type": "code",
      "source": [
        "summary(pima[pima$Pregnancies>4,])"
      ],
      "metadata": {
        "colab": {
          "base_uri": "https://localhost:8080/",
          "height": 381
        },
        "id": "A-xmBbTOb7ny",
        "outputId": "209d0280-68ad-4438-f32a-982721dd4455"
      },
      "execution_count": null,
      "outputs": [
        {
          "output_type": "display_data",
          "data": {
            "text/plain": [
              "  Pregnancies        Glucose    BloodPressure    SkinThickness \n",
              " Min.   : 5.000   Min.   :  0   Min.   :  0.00   Min.   : 0.0  \n",
              " 1st Qu.: 6.000   1st Qu.:104   1st Qu.: 68.00   1st Qu.: 0.0  \n",
              " Median : 7.000   Median :123   Median : 74.50   Median :23.5  \n",
              " Mean   : 7.663   Mean   :126   Mean   : 73.17   Mean   :18.8  \n",
              " 3rd Qu.: 9.000   3rd Qu.:150   3rd Qu.: 82.00   3rd Qu.:33.0  \n",
              " Max.   :17.000   Max.   :197   Max.   :114.00   Max.   :54.0  \n",
              "    Insulin            BMI        DiabetesPedigreeFunction      Age       \n",
              " Min.   :  0.00   Min.   : 0.00   Min.   :0.0840           Min.   :22.00  \n",
              " 1st Qu.:  0.00   1st Qu.:27.77   1st Qu.:0.2387           1st Qu.:34.00  \n",
              " Median :  0.00   Median :32.80   Median :0.3625           Median :41.00  \n",
              " Mean   : 68.03   Mean   :32.29   Mean   :0.4547           Mean   :41.89  \n",
              " 3rd Qu.:120.50   3rd Qu.:36.60   3rd Qu.:0.6325           3rd Qu.:48.00  \n",
              " Max.   :600.00   Max.   :52.90   Max.   :1.4760           Max.   :81.00  \n",
              "    Outcome      \n",
              " Min.   :0.0000  \n",
              " 1st Qu.:0.0000  \n",
              " Median :0.0000  \n",
              " Mean   :0.4783  \n",
              " 3rd Qu.:1.0000  \n",
              " Max.   :1.0000  "
            ]
          },
          "metadata": {}
        }
      ]
    },
    {
      "cell_type": "markdown",
      "source": [
        "# Not a Number (NaN) / Not Available (NA)"
      ],
      "metadata": {
        "id": "e7UytoD-c-k4"
      }
    },
    {
      "cell_type": "code",
      "source": [
        "(lista.numerica <- c(10, 20, 50, NA, NA, 5))"
      ],
      "metadata": {
        "colab": {
          "base_uri": "https://localhost:8080/",
          "height": 34
        },
        "id": "gxWBJrg6dDJS",
        "outputId": "c7c7688e-3838-4b3b-c7ce-28f1e2df0ca9"
      },
      "execution_count": null,
      "outputs": [
        {
          "output_type": "display_data",
          "data": {
            "text/html": [
              "<style>\n",
              ".list-inline {list-style: none; margin:0; padding: 0}\n",
              ".list-inline>li {display: inline-block}\n",
              ".list-inline>li:not(:last-child)::after {content: \"\\00b7\"; padding: 0 .5ex}\n",
              "</style>\n",
              "<ol class=list-inline><li>10</li><li>20</li><li>50</li><li>&lt;NA&gt;</li><li>&lt;NA&gt;</li><li>5</li></ol>\n"
            ],
            "text/markdown": "1. 10\n2. 20\n3. 50\n4. &lt;NA&gt;\n5. &lt;NA&gt;\n6. 5\n\n\n",
            "text/latex": "\\begin{enumerate*}\n\\item 10\n\\item 20\n\\item 50\n\\item <NA>\n\\item <NA>\n\\item 5\n\\end{enumerate*}\n",
            "text/plain": [
              "[1] 10 20 50 NA NA  5"
            ]
          },
          "metadata": {}
        }
      ]
    },
    {
      "cell_type": "code",
      "source": [
        "# Média do Vetor\n",
        "mean(lista.numerica)"
      ],
      "metadata": {
        "colab": {
          "base_uri": "https://localhost:8080/",
          "height": 34
        },
        "id": "fllNsrXTdiau",
        "outputId": "65445f5c-805e-4061-c84e-9886e45d4c9a"
      },
      "execution_count": null,
      "outputs": [
        {
          "output_type": "display_data",
          "data": {
            "text/html": [
              "&lt;NA&gt;"
            ],
            "text/markdown": "&lt;NA&gt;",
            "text/latex": "<NA>",
            "text/plain": [
              "[1] NA"
            ]
          },
          "metadata": {}
        }
      ]
    },
    {
      "cell_type": "code",
      "source": [
        "# Verificar quais elementos são N/A\n",
        "is.na(lista.numerica)"
      ],
      "metadata": {
        "colab": {
          "base_uri": "https://localhost:8080/",
          "height": 34
        },
        "id": "QakPlh9jdxTU",
        "outputId": "070b210d-2f0b-4105-87c5-a1147334ff80"
      },
      "execution_count": null,
      "outputs": [
        {
          "output_type": "display_data",
          "data": {
            "text/html": [
              "<style>\n",
              ".list-inline {list-style: none; margin:0; padding: 0}\n",
              ".list-inline>li {display: inline-block}\n",
              ".list-inline>li:not(:last-child)::after {content: \"\\00b7\"; padding: 0 .5ex}\n",
              "</style>\n",
              "<ol class=list-inline><li>FALSE</li><li>FALSE</li><li>FALSE</li><li>TRUE</li><li>TRUE</li><li>FALSE</li></ol>\n"
            ],
            "text/markdown": "1. FALSE\n2. FALSE\n3. FALSE\n4. TRUE\n5. TRUE\n6. FALSE\n\n\n",
            "text/latex": "\\begin{enumerate*}\n\\item FALSE\n\\item FALSE\n\\item FALSE\n\\item TRUE\n\\item TRUE\n\\item FALSE\n\\end{enumerate*}\n",
            "text/plain": [
              "[1] FALSE FALSE FALSE  TRUE  TRUE FALSE"
            ]
          },
          "metadata": {}
        }
      ]
    },
    {
      "cell_type": "code",
      "source": [
        "# Quantos N/A\n",
        "sum(is.na(lista.numerica))"
      ],
      "metadata": {
        "colab": {
          "base_uri": "https://localhost:8080/",
          "height": 34
        },
        "id": "ZsRF92HxfP6C",
        "outputId": "c51cfcb7-2af3-47fa-e0b5-55b8261fd1c7"
      },
      "execution_count": null,
      "outputs": [
        {
          "output_type": "display_data",
          "data": {
            "text/html": [
              "2"
            ],
            "text/markdown": "2",
            "text/latex": "2",
            "text/plain": [
              "[1] 2"
            ]
          },
          "metadata": {}
        }
      ]
    },
    {
      "cell_type": "code",
      "source": [
        "# Média dos elementos do vetor sem os NA\n",
        "(media = mean(lista.numerica, na.rm = TRUE))"
      ],
      "metadata": {
        "colab": {
          "base_uri": "https://localhost:8080/",
          "height": 34
        },
        "id": "h3MpYrDwfnGJ",
        "outputId": "ec8c2674-4350-4854-aa07-1e124131bd38"
      },
      "execution_count": null,
      "outputs": [
        {
          "output_type": "display_data",
          "data": {
            "text/html": [
              "21.25"
            ],
            "text/markdown": "21.25",
            "text/latex": "21.25",
            "text/plain": [
              "[1] 21.25"
            ]
          },
          "metadata": {}
        }
      ]
    },
    {
      "cell_type": "code",
      "source": [
        "# Somar os elementos do vetor sem os NA\n",
        "sum(lista.numerica,na.rm = TRUE)"
      ],
      "metadata": {
        "colab": {
          "base_uri": "https://localhost:8080/",
          "height": 34
        },
        "id": "Dy49dneifqbp",
        "outputId": "66148090-d37e-4203-b757-3c91f6e0ea7f"
      },
      "execution_count": null,
      "outputs": [
        {
          "output_type": "display_data",
          "data": {
            "text/html": [
              "85"
            ],
            "text/markdown": "85",
            "text/latex": "85",
            "text/plain": [
              "[1] 85"
            ]
          },
          "metadata": {}
        }
      ]
    },
    {
      "cell_type": "code",
      "source": [
        "lista.numerica[is.na(lista.numerica)] <- media"
      ],
      "metadata": {
        "id": "bOZj3bjzgEUF"
      },
      "execution_count": null,
      "outputs": []
    },
    {
      "cell_type": "code",
      "source": [
        "lista.numerica"
      ],
      "metadata": {
        "colab": {
          "base_uri": "https://localhost:8080/",
          "height": 34
        },
        "id": "x3--XzlBgvXc",
        "outputId": "3271a0cb-7e24-4efb-c276-c5bfd8b3991d"
      },
      "execution_count": null,
      "outputs": [
        {
          "output_type": "display_data",
          "data": {
            "text/html": [
              "<style>\n",
              ".list-inline {list-style: none; margin:0; padding: 0}\n",
              ".list-inline>li {display: inline-block}\n",
              ".list-inline>li:not(:last-child)::after {content: \"\\00b7\"; padding: 0 .5ex}\n",
              "</style>\n",
              "<ol class=list-inline><li>10</li><li>20</li><li>50</li><li>21.25</li><li>21.25</li><li>5</li></ol>\n"
            ],
            "text/markdown": "1. 10\n2. 20\n3. 50\n4. 21.25\n5. 21.25\n6. 5\n\n\n",
            "text/latex": "\\begin{enumerate*}\n\\item 10\n\\item 20\n\\item 50\n\\item 21.25\n\\item 21.25\n\\item 5\n\\end{enumerate*}\n",
            "text/plain": [
              "[1] 10.00 20.00 50.00 21.25 21.25  5.00"
            ]
          },
          "metadata": {}
        }
      ]
    }
  ]
}